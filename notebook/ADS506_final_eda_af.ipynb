{
 "cells": [
  {
   "cell_type": "markdown",
   "id": "96716032",
   "metadata": {},
   "source": [
    "# ADS Final Project\n",
    "\n",
    "## Preliminary EDA"
   ]
  },
  {
   "cell_type": "code",
   "execution_count": 3,
   "id": "c83538fd",
   "metadata": {},
   "outputs": [],
   "source": [
    "%matplotlib inline\n",
    "import numpy as np\n",
    "import pandas as pd\n",
    "import matplotlib.pylab as plt\n",
    "import seaborn as sns\n",
    "import dmba\n",
    "from pathlib import Path\n",
    "\n",
    "import statsmodels.api as sm\n",
    "import statsmodels.formula.api as smf\n",
    "from sklearn.metrics import accuracy_score\n",
    "\n",
    "\n",
    "import warnings\n",
    "warnings.filterwarnings('ignore')\n",
    "warnings.simplefilter(action='ignore', category=FutureWarning)"
   ]
  },
  {
   "cell_type": "code",
   "execution_count": 4,
   "id": "66ec5f93",
   "metadata": {},
   "outputs": [
    {
     "data": {
      "text/html": [
       "<div>\n",
       "<style scoped>\n",
       "    .dataframe tbody tr th:only-of-type {\n",
       "        vertical-align: middle;\n",
       "    }\n",
       "\n",
       "    .dataframe tbody tr th {\n",
       "        vertical-align: top;\n",
       "    }\n",
       "\n",
       "    .dataframe thead th {\n",
       "        text-align: right;\n",
       "    }\n",
       "</style>\n",
       "<table border=\"1\" class=\"dataframe\">\n",
       "  <thead>\n",
       "    <tr style=\"text-align: right;\">\n",
       "      <th></th>\n",
       "      <th>InvoiceNo</th>\n",
       "      <th>StockCode</th>\n",
       "      <th>Description</th>\n",
       "      <th>Quantity</th>\n",
       "      <th>InvoiceDate</th>\n",
       "      <th>UnitPrice</th>\n",
       "      <th>CustomerID</th>\n",
       "      <th>Country</th>\n",
       "    </tr>\n",
       "  </thead>\n",
       "  <tbody>\n",
       "    <tr>\n",
       "      <th>304889</th>\n",
       "      <td>563614</td>\n",
       "      <td>23328</td>\n",
       "      <td>SET 6 SCHOOL MILK BOTTLES IN CRATE</td>\n",
       "      <td>240</td>\n",
       "      <td>8/18/2011 8:51</td>\n",
       "      <td>3.39</td>\n",
       "      <td>12415.0</td>\n",
       "      <td>Australia</td>\n",
       "    </tr>\n",
       "    <tr>\n",
       "      <th>232914</th>\n",
       "      <td>557389</td>\n",
       "      <td>21314</td>\n",
       "      <td>SMALL GLASS HEART TRINKET POT</td>\n",
       "      <td>1</td>\n",
       "      <td>6/20/2011 11:03</td>\n",
       "      <td>2.10</td>\n",
       "      <td>15921.0</td>\n",
       "      <td>United Kingdom</td>\n",
       "    </tr>\n",
       "    <tr>\n",
       "      <th>515973</th>\n",
       "      <td>579832</td>\n",
       "      <td>21181</td>\n",
       "      <td>PLEASE ONE PERSON METAL SIGN</td>\n",
       "      <td>12</td>\n",
       "      <td>11/30/2011 15:58</td>\n",
       "      <td>2.10</td>\n",
       "      <td>17434.0</td>\n",
       "      <td>United Kingdom</td>\n",
       "    </tr>\n",
       "    <tr>\n",
       "      <th>458137</th>\n",
       "      <td>575760</td>\n",
       "      <td>23581</td>\n",
       "      <td>JUMBO BAG PAISLEY PARK</td>\n",
       "      <td>14</td>\n",
       "      <td>11/11/2011 10:50</td>\n",
       "      <td>2.08</td>\n",
       "      <td>15965.0</td>\n",
       "      <td>United Kingdom</td>\n",
       "    </tr>\n",
       "    <tr>\n",
       "      <th>209283</th>\n",
       "      <td>555201</td>\n",
       "      <td>22128</td>\n",
       "      <td>PARTY CONES CANDY ASSORTED</td>\n",
       "      <td>12</td>\n",
       "      <td>6/1/2011 12:10</td>\n",
       "      <td>1.25</td>\n",
       "      <td>16969.0</td>\n",
       "      <td>United Kingdom</td>\n",
       "    </tr>\n",
       "  </tbody>\n",
       "</table>\n",
       "</div>"
      ],
      "text/plain": [
       "       InvoiceNo StockCode                         Description  Quantity  \\\n",
       "304889    563614     23328  SET 6 SCHOOL MILK BOTTLES IN CRATE       240   \n",
       "232914    557389     21314       SMALL GLASS HEART TRINKET POT         1   \n",
       "515973    579832     21181        PLEASE ONE PERSON METAL SIGN        12   \n",
       "458137    575760     23581              JUMBO BAG PAISLEY PARK        14   \n",
       "209283    555201     22128          PARTY CONES CANDY ASSORTED        12   \n",
       "\n",
       "             InvoiceDate  UnitPrice  CustomerID         Country  \n",
       "304889    8/18/2011 8:51       3.39     12415.0       Australia  \n",
       "232914   6/20/2011 11:03       2.10     15921.0  United Kingdom  \n",
       "515973  11/30/2011 15:58       2.10     17434.0  United Kingdom  \n",
       "458137  11/11/2011 10:50       2.08     15965.0  United Kingdom  \n",
       "209283    6/1/2011 12:10       1.25     16969.0  United Kingdom  "
      ]
     },
     "execution_count": 4,
     "metadata": {},
     "output_type": "execute_result"
    }
   ],
   "source": [
    "Retail_df = pd.read_csv('Online_Retail.csv')\n",
    "Retail_df.sample(5)"
   ]
  },
  {
   "cell_type": "code",
   "execution_count": 13,
   "id": "962b89b9",
   "metadata": {},
   "outputs": [
    {
     "data": {
      "text/html": [
       "<div>\n",
       "<style scoped>\n",
       "    .dataframe tbody tr th:only-of-type {\n",
       "        vertical-align: middle;\n",
       "    }\n",
       "\n",
       "    .dataframe tbody tr th {\n",
       "        vertical-align: top;\n",
       "    }\n",
       "\n",
       "    .dataframe thead th {\n",
       "        text-align: right;\n",
       "    }\n",
       "</style>\n",
       "<table border=\"1\" class=\"dataframe\">\n",
       "  <thead>\n",
       "    <tr style=\"text-align: right;\">\n",
       "      <th></th>\n",
       "      <th>InvoiceNo</th>\n",
       "      <th>StockCode</th>\n",
       "      <th>Description</th>\n",
       "      <th>Quantity</th>\n",
       "      <th>InvoiceDate</th>\n",
       "      <th>UnitPrice</th>\n",
       "      <th>CustomerID</th>\n",
       "      <th>Country</th>\n",
       "    </tr>\n",
       "  </thead>\n",
       "  <tbody>\n",
       "    <tr>\n",
       "      <th>0</th>\n",
       "      <td>536365</td>\n",
       "      <td>85123A</td>\n",
       "      <td>WHITE HANGING HEART T-LIGHT HOLDER</td>\n",
       "      <td>6</td>\n",
       "      <td>12/1/2010 8:26</td>\n",
       "      <td>2.55</td>\n",
       "      <td>17850.0</td>\n",
       "      <td>United Kingdom</td>\n",
       "    </tr>\n",
       "    <tr>\n",
       "      <th>1</th>\n",
       "      <td>536365</td>\n",
       "      <td>71053</td>\n",
       "      <td>WHITE METAL LANTERN</td>\n",
       "      <td>6</td>\n",
       "      <td>12/1/2010 8:26</td>\n",
       "      <td>3.39</td>\n",
       "      <td>17850.0</td>\n",
       "      <td>United Kingdom</td>\n",
       "    </tr>\n",
       "    <tr>\n",
       "      <th>2</th>\n",
       "      <td>536365</td>\n",
       "      <td>84406B</td>\n",
       "      <td>CREAM CUPID HEARTS COAT HANGER</td>\n",
       "      <td>8</td>\n",
       "      <td>12/1/2010 8:26</td>\n",
       "      <td>2.75</td>\n",
       "      <td>17850.0</td>\n",
       "      <td>United Kingdom</td>\n",
       "    </tr>\n",
       "    <tr>\n",
       "      <th>3</th>\n",
       "      <td>536365</td>\n",
       "      <td>84029G</td>\n",
       "      <td>KNITTED UNION FLAG HOT WATER BOTTLE</td>\n",
       "      <td>6</td>\n",
       "      <td>12/1/2010 8:26</td>\n",
       "      <td>3.39</td>\n",
       "      <td>17850.0</td>\n",
       "      <td>United Kingdom</td>\n",
       "    </tr>\n",
       "    <tr>\n",
       "      <th>4</th>\n",
       "      <td>536365</td>\n",
       "      <td>84029E</td>\n",
       "      <td>RED WOOLLY HOTTIE WHITE HEART.</td>\n",
       "      <td>6</td>\n",
       "      <td>12/1/2010 8:26</td>\n",
       "      <td>3.39</td>\n",
       "      <td>17850.0</td>\n",
       "      <td>United Kingdom</td>\n",
       "    </tr>\n",
       "  </tbody>\n",
       "</table>\n",
       "</div>"
      ],
      "text/plain": [
       "  InvoiceNo StockCode                          Description  Quantity  \\\n",
       "0    536365    85123A   WHITE HANGING HEART T-LIGHT HOLDER         6   \n",
       "1    536365     71053                  WHITE METAL LANTERN         6   \n",
       "2    536365    84406B       CREAM CUPID HEARTS COAT HANGER         8   \n",
       "3    536365    84029G  KNITTED UNION FLAG HOT WATER BOTTLE         6   \n",
       "4    536365    84029E       RED WOOLLY HOTTIE WHITE HEART.         6   \n",
       "\n",
       "      InvoiceDate  UnitPrice  CustomerID         Country  \n",
       "0  12/1/2010 8:26       2.55     17850.0  United Kingdom  \n",
       "1  12/1/2010 8:26       3.39     17850.0  United Kingdom  \n",
       "2  12/1/2010 8:26       2.75     17850.0  United Kingdom  \n",
       "3  12/1/2010 8:26       3.39     17850.0  United Kingdom  \n",
       "4  12/1/2010 8:26       3.39     17850.0  United Kingdom  "
      ]
     },
     "execution_count": 13,
     "metadata": {},
     "output_type": "execute_result"
    }
   ],
   "source": [
    "Retail_df.head()"
   ]
  },
  {
   "cell_type": "code",
   "execution_count": 3,
   "id": "a4ab5a12",
   "metadata": {},
   "outputs": [
    {
     "data": {
      "text/plain": [
       "(541909, 8)"
      ]
     },
     "execution_count": 3,
     "metadata": {},
     "output_type": "execute_result"
    }
   ],
   "source": [
    "Retail_df.shape"
   ]
  },
  {
   "cell_type": "code",
   "execution_count": 4,
   "id": "6d51c55c",
   "metadata": {},
   "outputs": [
    {
     "name": "stdout",
     "output_type": "stream",
     "text": [
      "<class 'pandas.core.frame.DataFrame'>\n",
      "RangeIndex: 541909 entries, 0 to 541908\n",
      "Data columns (total 8 columns):\n",
      " #   Column       Non-Null Count   Dtype  \n",
      "---  ------       --------------   -----  \n",
      " 0   InvoiceNo    541909 non-null  object \n",
      " 1   StockCode    541909 non-null  object \n",
      " 2   Description  540455 non-null  object \n",
      " 3   Quantity     541909 non-null  int64  \n",
      " 4   InvoiceDate  541909 non-null  object \n",
      " 5   UnitPrice    541909 non-null  float64\n",
      " 6   CustomerID   406829 non-null  float64\n",
      " 7   Country      541909 non-null  object \n",
      "dtypes: float64(2), int64(1), object(5)\n",
      "memory usage: 33.1+ MB\n"
     ]
    }
   ],
   "source": [
    "Retail_df.info()"
   ]
  },
  {
   "cell_type": "code",
   "execution_count": 6,
   "id": "1fd62072",
   "metadata": {},
   "outputs": [
    {
     "data": {
      "text/html": [
       "<div>\n",
       "<style scoped>\n",
       "    .dataframe tbody tr th:only-of-type {\n",
       "        vertical-align: middle;\n",
       "    }\n",
       "\n",
       "    .dataframe tbody tr th {\n",
       "        vertical-align: top;\n",
       "    }\n",
       "\n",
       "    .dataframe thead th {\n",
       "        text-align: right;\n",
       "    }\n",
       "</style>\n",
       "<table border=\"1\" class=\"dataframe\">\n",
       "  <thead>\n",
       "    <tr style=\"text-align: right;\">\n",
       "      <th></th>\n",
       "      <th>Quantity</th>\n",
       "      <th>UnitPrice</th>\n",
       "      <th>CustomerID</th>\n",
       "    </tr>\n",
       "  </thead>\n",
       "  <tbody>\n",
       "    <tr>\n",
       "      <th>count</th>\n",
       "      <td>541909.000000</td>\n",
       "      <td>541909.000000</td>\n",
       "      <td>406829.000000</td>\n",
       "    </tr>\n",
       "    <tr>\n",
       "      <th>mean</th>\n",
       "      <td>9.552250</td>\n",
       "      <td>4.611114</td>\n",
       "      <td>15287.690570</td>\n",
       "    </tr>\n",
       "    <tr>\n",
       "      <th>std</th>\n",
       "      <td>218.081158</td>\n",
       "      <td>96.759853</td>\n",
       "      <td>1713.600303</td>\n",
       "    </tr>\n",
       "    <tr>\n",
       "      <th>min</th>\n",
       "      <td>-80995.000000</td>\n",
       "      <td>-11062.060000</td>\n",
       "      <td>12346.000000</td>\n",
       "    </tr>\n",
       "    <tr>\n",
       "      <th>25%</th>\n",
       "      <td>1.000000</td>\n",
       "      <td>1.250000</td>\n",
       "      <td>13953.000000</td>\n",
       "    </tr>\n",
       "    <tr>\n",
       "      <th>50%</th>\n",
       "      <td>3.000000</td>\n",
       "      <td>2.080000</td>\n",
       "      <td>15152.000000</td>\n",
       "    </tr>\n",
       "    <tr>\n",
       "      <th>75%</th>\n",
       "      <td>10.000000</td>\n",
       "      <td>4.130000</td>\n",
       "      <td>16791.000000</td>\n",
       "    </tr>\n",
       "    <tr>\n",
       "      <th>max</th>\n",
       "      <td>80995.000000</td>\n",
       "      <td>38970.000000</td>\n",
       "      <td>18287.000000</td>\n",
       "    </tr>\n",
       "  </tbody>\n",
       "</table>\n",
       "</div>"
      ],
      "text/plain": [
       "            Quantity      UnitPrice     CustomerID\n",
       "count  541909.000000  541909.000000  406829.000000\n",
       "mean        9.552250       4.611114   15287.690570\n",
       "std       218.081158      96.759853    1713.600303\n",
       "min    -80995.000000  -11062.060000   12346.000000\n",
       "25%         1.000000       1.250000   13953.000000\n",
       "50%         3.000000       2.080000   15152.000000\n",
       "75%        10.000000       4.130000   16791.000000\n",
       "max     80995.000000   38970.000000   18287.000000"
      ]
     },
     "execution_count": 6,
     "metadata": {},
     "output_type": "execute_result"
    }
   ],
   "source": [
    "Retail_df.describe()"
   ]
  },
  {
   "cell_type": "markdown",
   "id": "0a69043c",
   "metadata": {},
   "source": [
    "Maximum and minimum unit price/quantity is extreme there is probably a corrupt record"
   ]
  },
  {
   "cell_type": "code",
   "execution_count": 24,
   "id": "88c37511",
   "metadata": {},
   "outputs": [],
   "source": [
    "# look for the outlier record:\n",
    "outlier_rows = Retail_df['Quantity']== -80995\n",
    "outlier=Retail_df[outlier_rows]\n",
    "outlier\n",
    "\n",
    "outlier_rows2 = Retail_df['Quantity']== 80995\n",
    "outlier2=Retail_df[outlier_rows2]\n",
    "\n",
    "outlier_rows3 = Retail_df['UnitPrice']== 38970\n",
    "outlier3=Retail_df[outlier_rows3]\n",
    "\n",
    "outlier_rows4 = Retail_df['UnitPrice']== -11062.06\n",
    "outlier4=Retail_df[outlier_rows4]\n"
   ]
  },
  {
   "cell_type": "code",
   "execution_count": 25,
   "id": "555ffacd",
   "metadata": {
    "scrolled": true
   },
   "outputs": [
    {
     "data": {
      "text/html": [
       "<div>\n",
       "<style scoped>\n",
       "    .dataframe tbody tr th:only-of-type {\n",
       "        vertical-align: middle;\n",
       "    }\n",
       "\n",
       "    .dataframe tbody tr th {\n",
       "        vertical-align: top;\n",
       "    }\n",
       "\n",
       "    .dataframe thead th {\n",
       "        text-align: right;\n",
       "    }\n",
       "</style>\n",
       "<table border=\"1\" class=\"dataframe\">\n",
       "  <thead>\n",
       "    <tr style=\"text-align: right;\">\n",
       "      <th></th>\n",
       "      <th>InvoiceNo</th>\n",
       "      <th>StockCode</th>\n",
       "      <th>Description</th>\n",
       "      <th>Quantity</th>\n",
       "      <th>InvoiceDate</th>\n",
       "      <th>UnitPrice</th>\n",
       "      <th>CustomerID</th>\n",
       "      <th>Country</th>\n",
       "    </tr>\n",
       "  </thead>\n",
       "  <tbody>\n",
       "    <tr>\n",
       "      <th>299983</th>\n",
       "      <td>A563186</td>\n",
       "      <td>B</td>\n",
       "      <td>Adjust bad debt</td>\n",
       "      <td>1</td>\n",
       "      <td>8/12/2011 14:51</td>\n",
       "      <td>-11062.06</td>\n",
       "      <td>NaN</td>\n",
       "      <td>United Kingdom</td>\n",
       "    </tr>\n",
       "    <tr>\n",
       "      <th>299984</th>\n",
       "      <td>A563187</td>\n",
       "      <td>B</td>\n",
       "      <td>Adjust bad debt</td>\n",
       "      <td>1</td>\n",
       "      <td>8/12/2011 14:52</td>\n",
       "      <td>-11062.06</td>\n",
       "      <td>NaN</td>\n",
       "      <td>United Kingdom</td>\n",
       "    </tr>\n",
       "  </tbody>\n",
       "</table>\n",
       "</div>"
      ],
      "text/plain": [
       "       InvoiceNo StockCode      Description  Quantity      InvoiceDate  \\\n",
       "299983   A563186         B  Adjust bad debt         1  8/12/2011 14:51   \n",
       "299984   A563187         B  Adjust bad debt         1  8/12/2011 14:52   \n",
       "\n",
       "        UnitPrice  CustomerID         Country  \n",
       "299983  -11062.06         NaN  United Kingdom  \n",
       "299984  -11062.06         NaN  United Kingdom  "
      ]
     },
     "execution_count": 25,
     "metadata": {},
     "output_type": "execute_result"
    }
   ],
   "source": [
    "outlier4"
   ]
  },
  {
   "cell_type": "markdown",
   "id": "b9c10dd8",
   "metadata": {},
   "source": [
    "-----"
   ]
  },
  {
   "cell_type": "markdown",
   "id": "00a73718",
   "metadata": {},
   "source": [
    "### Temporary Removal of Large Orders to View Common Orders Made Distributions"
   ]
  },
  {
   "cell_type": "code",
   "execution_count": 61,
   "id": "ce8d0944",
   "metadata": {},
   "outputs": [],
   "source": [
    "Retail_clean = Retail_df[Retail_df['UnitPrice'].between(Retail_df['UnitPrice'].quantile(.25), \n",
    "                                                                Retail_df['UnitPrice'].quantile(.75))] "
   ]
  },
  {
   "cell_type": "code",
   "execution_count": 62,
   "id": "8afe6fa2",
   "metadata": {},
   "outputs": [],
   "source": [
    "Retail_clean_df = Retail_clean[Retail_clean['Quantity'].between(Retail_clean['Quantity'].quantile(.25), \n",
    "                                                       Retail_clean['Quantity'].quantile(.75))] "
   ]
  },
  {
   "cell_type": "code",
   "execution_count": 64,
   "id": "603c086d",
   "metadata": {},
   "outputs": [
    {
     "data": {
      "text/plain": [
       "(223391, 8)"
      ]
     },
     "execution_count": 64,
     "metadata": {},
     "output_type": "execute_result"
    }
   ],
   "source": [
    "Retail_clean_df.shape"
   ]
  },
  {
   "cell_type": "code",
   "execution_count": 56,
   "id": "b74b5ae1",
   "metadata": {},
   "outputs": [
    {
     "data": {
      "text/html": [
       "<div>\n",
       "<style scoped>\n",
       "    .dataframe tbody tr th:only-of-type {\n",
       "        vertical-align: middle;\n",
       "    }\n",
       "\n",
       "    .dataframe tbody tr th {\n",
       "        vertical-align: top;\n",
       "    }\n",
       "\n",
       "    .dataframe thead th {\n",
       "        text-align: right;\n",
       "    }\n",
       "</style>\n",
       "<table border=\"1\" class=\"dataframe\">\n",
       "  <thead>\n",
       "    <tr style=\"text-align: right;\">\n",
       "      <th></th>\n",
       "      <th>Quantity</th>\n",
       "      <th>UnitPrice</th>\n",
       "      <th>CustomerID</th>\n",
       "    </tr>\n",
       "  </thead>\n",
       "  <tbody>\n",
       "    <tr>\n",
       "      <th>count</th>\n",
       "      <td>220165.000000</td>\n",
       "      <td>220165.000000</td>\n",
       "      <td>152771.000000</td>\n",
       "    </tr>\n",
       "    <tr>\n",
       "      <th>mean</th>\n",
       "      <td>3.439811</td>\n",
       "      <td>2.900183</td>\n",
       "      <td>15406.978857</td>\n",
       "    </tr>\n",
       "    <tr>\n",
       "      <th>std</th>\n",
       "      <td>2.706716</td>\n",
       "      <td>1.042228</td>\n",
       "      <td>1692.378366</td>\n",
       "    </tr>\n",
       "    <tr>\n",
       "      <th>min</th>\n",
       "      <td>1.000000</td>\n",
       "      <td>1.630000</td>\n",
       "      <td>12347.000000</td>\n",
       "    </tr>\n",
       "    <tr>\n",
       "      <th>25%</th>\n",
       "      <td>1.000000</td>\n",
       "      <td>2.080000</td>\n",
       "      <td>14096.000000</td>\n",
       "    </tr>\n",
       "    <tr>\n",
       "      <th>50%</th>\n",
       "      <td>2.000000</td>\n",
       "      <td>2.550000</td>\n",
       "      <td>15358.000000</td>\n",
       "    </tr>\n",
       "    <tr>\n",
       "      <th>75%</th>\n",
       "      <td>6.000000</td>\n",
       "      <td>3.750000</td>\n",
       "      <td>16907.000000</td>\n",
       "    </tr>\n",
       "    <tr>\n",
       "      <th>max</th>\n",
       "      <td>10.000000</td>\n",
       "      <td>4.950000</td>\n",
       "      <td>18287.000000</td>\n",
       "    </tr>\n",
       "  </tbody>\n",
       "</table>\n",
       "</div>"
      ],
      "text/plain": [
       "            Quantity      UnitPrice     CustomerID\n",
       "count  220165.000000  220165.000000  152771.000000\n",
       "mean        3.439811       2.900183   15406.978857\n",
       "std         2.706716       1.042228    1692.378366\n",
       "min         1.000000       1.630000   12347.000000\n",
       "25%         1.000000       2.080000   14096.000000\n",
       "50%         2.000000       2.550000   15358.000000\n",
       "75%         6.000000       3.750000   16907.000000\n",
       "max        10.000000       4.950000   18287.000000"
      ]
     },
     "execution_count": 56,
     "metadata": {},
     "output_type": "execute_result"
    }
   ],
   "source": [
    "Retail_clean_df.describe()"
   ]
  },
  {
   "cell_type": "code",
   "execution_count": 65,
   "id": "aba82c9e",
   "metadata": {},
   "outputs": [
    {
     "data": {
      "text/plain": [
       "array([[<AxesSubplot:title={'center':'Quantity'}>,\n",
       "        <AxesSubplot:title={'center':'UnitPrice'}>],\n",
       "       [<AxesSubplot:title={'center':'CustomerID'}>, <AxesSubplot:>]],\n",
       "      dtype=object)"
      ]
     },
     "execution_count": 65,
     "metadata": {},
     "output_type": "execute_result"
    },
    {
     "data": {
      "image/png": "[encoded data removed]",
      "text/plain": [
       "<Figure size 720x720 with 4 Axes>"
      ]
     },
     "metadata": {
      "needs_background": "light"
     },
     "output_type": "display_data"
    }
   ],
   "source": [
    "Retail_clean_df.hist(figsize=[10,10])\n"
   ]
  },
  {
   "cell_type": "markdown",
   "id": "9974ed61",
   "metadata": {},
   "source": [
    "----"
   ]
  },
  {
   "cell_type": "markdown",
   "id": "9b64f2ec",
   "metadata": {},
   "source": [
    "### Remove Irrelevant and Unrealistic Records:"
   ]
  },
  {
   "cell_type": "code",
   "execution_count": 5,
   "id": "438f88f8",
   "metadata": {},
   "outputs": [],
   "source": [
    "unreal_rows1 = Retail_df[Retail_df['Quantity'] <= 0].index\n",
    "#unreal_rows2 = Retail_df[Retail_df['Price'] <= 0].index\n",
    "\n",
    "Retail_df_pre = Retail_df.drop(index=unreal_rows1)\n",
    "unreal_rows2 = Retail_df_pre[Retail_df_pre['UnitPrice'] <= 0].index\n",
    "\n",
    "Retail_df_pre2 = Retail_df_pre.drop(index=unreal_rows2)\n",
    "unreal_rows3 = Retail_df_pre2[Retail_df_pre2['Quantity'] >= 80000].index\n",
    "\n",
    "Retail_df_pre3 = Retail_df_pre2.drop(index=unreal_rows3)\n",
    "unreal_rows4 = Retail_df_pre3[(Retail_df_pre3['StockCode'] == 'AMAZONFEE') |\n",
    "                             (Retail_df_pre3['StockCode'] == 'DOT') |\n",
    "                             (Retail_df_pre3['StockCode'] == 'M') |\n",
    "                             (Retail_df_pre3['StockCode'] == 'B') |\n",
    "                             (Retail_df_pre3['StockCode'] == 'POST')].index\n",
    "\n",
    "Retail_df_pre4 = Retail_df_pre3.drop(index=unreal_rows4)\n",
    "\n"
   ]
  },
  {
   "cell_type": "code",
   "execution_count": 6,
   "id": "8d7c3577",
   "metadata": {},
   "outputs": [
    {
     "data": {
      "text/html": [
       "<div>\n",
       "<style scoped>\n",
       "    .dataframe tbody tr th:only-of-type {\n",
       "        vertical-align: middle;\n",
       "    }\n",
       "\n",
       "    .dataframe tbody tr th {\n",
       "        vertical-align: top;\n",
       "    }\n",
       "\n",
       "    .dataframe thead th {\n",
       "        text-align: right;\n",
       "    }\n",
       "</style>\n",
       "<table border=\"1\" class=\"dataframe\">\n",
       "  <thead>\n",
       "    <tr style=\"text-align: right;\">\n",
       "      <th></th>\n",
       "      <th>InvoiceNo</th>\n",
       "      <th>StockCode</th>\n",
       "      <th>Description</th>\n",
       "      <th>Quantity</th>\n",
       "      <th>InvoiceDate</th>\n",
       "      <th>UnitPrice</th>\n",
       "      <th>CustomerID</th>\n",
       "      <th>Country</th>\n",
       "    </tr>\n",
       "  </thead>\n",
       "  <tbody>\n",
       "    <tr>\n",
       "      <th>4850</th>\n",
       "      <td>536809</td>\n",
       "      <td>84950</td>\n",
       "      <td>ASSORTED COLOUR T-LIGHT HOLDER</td>\n",
       "      <td>1824</td>\n",
       "      <td>12/2/2010 16:48</td>\n",
       "      <td>0.55</td>\n",
       "      <td>15299.0</td>\n",
       "      <td>United Kingdom</td>\n",
       "    </tr>\n",
       "    <tr>\n",
       "      <th>4945</th>\n",
       "      <td>536830</td>\n",
       "      <td>84077</td>\n",
       "      <td>WORLD WAR 2 GLIDERS ASSTD DESIGNS</td>\n",
       "      <td>2880</td>\n",
       "      <td>12/2/2010 17:38</td>\n",
       "      <td>0.18</td>\n",
       "      <td>16754.0</td>\n",
       "      <td>United Kingdom</td>\n",
       "    </tr>\n",
       "    <tr>\n",
       "      <th>4946</th>\n",
       "      <td>536830</td>\n",
       "      <td>21915</td>\n",
       "      <td>RED  HARMONICA IN BOX</td>\n",
       "      <td>1400</td>\n",
       "      <td>12/2/2010 17:38</td>\n",
       "      <td>1.06</td>\n",
       "      <td>16754.0</td>\n",
       "      <td>United Kingdom</td>\n",
       "    </tr>\n",
       "    <tr>\n",
       "      <th>6365</th>\n",
       "      <td>536890</td>\n",
       "      <td>17084R</td>\n",
       "      <td>ASSORTED INCENSE PACK</td>\n",
       "      <td>1440</td>\n",
       "      <td>12/3/2010 11:48</td>\n",
       "      <td>0.16</td>\n",
       "      <td>14156.0</td>\n",
       "      <td>EIRE</td>\n",
       "    </tr>\n",
       "    <tr>\n",
       "      <th>16435</th>\n",
       "      <td>537659</td>\n",
       "      <td>22189</td>\n",
       "      <td>CREAM HEART CARD HOLDER</td>\n",
       "      <td>1008</td>\n",
       "      <td>12/7/2010 16:43</td>\n",
       "      <td>2.31</td>\n",
       "      <td>18102.0</td>\n",
       "      <td>United Kingdom</td>\n",
       "    </tr>\n",
       "    <tr>\n",
       "      <th>...</th>\n",
       "      <td>...</td>\n",
       "      <td>...</td>\n",
       "      <td>...</td>\n",
       "      <td>...</td>\n",
       "      <td>...</td>\n",
       "      <td>...</td>\n",
       "      <td>...</td>\n",
       "      <td>...</td>\n",
       "    </tr>\n",
       "    <tr>\n",
       "      <th>521375</th>\n",
       "      <td>580363</td>\n",
       "      <td>23582</td>\n",
       "      <td>VINTAGE DOILY JUMBO BAG RED</td>\n",
       "      <td>1500</td>\n",
       "      <td>12/2/2011 16:32</td>\n",
       "      <td>1.79</td>\n",
       "      <td>13868.0</td>\n",
       "      <td>United Kingdom</td>\n",
       "    </tr>\n",
       "    <tr>\n",
       "      <th>533812</th>\n",
       "      <td>581115</td>\n",
       "      <td>22413</td>\n",
       "      <td>METAL SIGN TAKE IT OR LEAVE IT</td>\n",
       "      <td>1404</td>\n",
       "      <td>12/7/2011 12:20</td>\n",
       "      <td>2.75</td>\n",
       "      <td>15195.0</td>\n",
       "      <td>United Kingdom</td>\n",
       "    </tr>\n",
       "    <tr>\n",
       "      <th>534952</th>\n",
       "      <td>581175</td>\n",
       "      <td>23084</td>\n",
       "      <td>RABBIT NIGHT LIGHT</td>\n",
       "      <td>1440</td>\n",
       "      <td>12/7/2011 15:16</td>\n",
       "      <td>1.79</td>\n",
       "      <td>14646.0</td>\n",
       "      <td>Netherlands</td>\n",
       "    </tr>\n",
       "    <tr>\n",
       "      <th>540070</th>\n",
       "      <td>581458</td>\n",
       "      <td>22197</td>\n",
       "      <td>POPCORN HOLDER</td>\n",
       "      <td>1500</td>\n",
       "      <td>12/8/2011 18:45</td>\n",
       "      <td>0.72</td>\n",
       "      <td>17949.0</td>\n",
       "      <td>United Kingdom</td>\n",
       "    </tr>\n",
       "    <tr>\n",
       "      <th>540071</th>\n",
       "      <td>581459</td>\n",
       "      <td>22197</td>\n",
       "      <td>POPCORN HOLDER</td>\n",
       "      <td>1200</td>\n",
       "      <td>12/8/2011 18:46</td>\n",
       "      <td>0.72</td>\n",
       "      <td>17949.0</td>\n",
       "      <td>United Kingdom</td>\n",
       "    </tr>\n",
       "  </tbody>\n",
       "</table>\n",
       "<p>114 rows × 8 columns</p>\n",
       "</div>"
      ],
      "text/plain": [
       "       InvoiceNo StockCode                        Description  Quantity  \\\n",
       "4850      536809     84950     ASSORTED COLOUR T-LIGHT HOLDER      1824   \n",
       "4945      536830     84077  WORLD WAR 2 GLIDERS ASSTD DESIGNS      2880   \n",
       "4946      536830     21915             RED  HARMONICA IN BOX       1400   \n",
       "6365      536890    17084R              ASSORTED INCENSE PACK      1440   \n",
       "16435     537659     22189            CREAM HEART CARD HOLDER      1008   \n",
       "...          ...       ...                                ...       ...   \n",
       "521375    580363     23582       VINTAGE DOILY JUMBO BAG RED       1500   \n",
       "533812    581115     22413    METAL SIGN TAKE IT OR LEAVE IT       1404   \n",
       "534952    581175     23084                 RABBIT NIGHT LIGHT      1440   \n",
       "540070    581458     22197                     POPCORN HOLDER      1500   \n",
       "540071    581459     22197                     POPCORN HOLDER      1200   \n",
       "\n",
       "            InvoiceDate  UnitPrice  CustomerID         Country  \n",
       "4850    12/2/2010 16:48       0.55     15299.0  United Kingdom  \n",
       "4945    12/2/2010 17:38       0.18     16754.0  United Kingdom  \n",
       "4946    12/2/2010 17:38       1.06     16754.0  United Kingdom  \n",
       "6365    12/3/2010 11:48       0.16     14156.0            EIRE  \n",
       "16435   12/7/2010 16:43       2.31     18102.0  United Kingdom  \n",
       "...                 ...        ...         ...             ...  \n",
       "521375  12/2/2011 16:32       1.79     13868.0  United Kingdom  \n",
       "533812  12/7/2011 12:20       2.75     15195.0  United Kingdom  \n",
       "534952  12/7/2011 15:16       1.79     14646.0     Netherlands  \n",
       "540070  12/8/2011 18:45       0.72     17949.0  United Kingdom  \n",
       "540071  12/8/2011 18:46       0.72     17949.0  United Kingdom  \n",
       "\n",
       "[114 rows x 8 columns]"
      ]
     },
     "execution_count": 6,
     "metadata": {},
     "output_type": "execute_result"
    }
   ],
   "source": [
    "unreal_rows4 = Retail_df_pre4['Quantity'] >= 1000\n",
    "Retail_df_pre4[unreal_rows4]\n",
    "\n"
   ]
  },
  {
   "cell_type": "code",
   "execution_count": 27,
   "id": "348051b0",
   "metadata": {},
   "outputs": [
    {
     "data": {
      "text/html": [
       "<div>\n",
       "<style scoped>\n",
       "    .dataframe tbody tr th:only-of-type {\n",
       "        vertical-align: middle;\n",
       "    }\n",
       "\n",
       "    .dataframe tbody tr th {\n",
       "        vertical-align: top;\n",
       "    }\n",
       "\n",
       "    .dataframe thead th {\n",
       "        text-align: right;\n",
       "    }\n",
       "</style>\n",
       "<table border=\"1\" class=\"dataframe\">\n",
       "  <thead>\n",
       "    <tr style=\"text-align: right;\">\n",
       "      <th></th>\n",
       "      <th>Quantity</th>\n",
       "      <th>UnitPrice</th>\n",
       "      <th>CustomerID</th>\n",
       "    </tr>\n",
       "  </thead>\n",
       "  <tbody>\n",
       "    <tr>\n",
       "      <th>count</th>\n",
       "      <td>527944.000000</td>\n",
       "      <td>527944.000000</td>\n",
       "      <td>396481.000000</td>\n",
       "    </tr>\n",
       "    <tr>\n",
       "      <th>mean</th>\n",
       "      <td>10.270070</td>\n",
       "      <td>3.276816</td>\n",
       "      <td>15301.442505</td>\n",
       "    </tr>\n",
       "    <tr>\n",
       "      <th>std</th>\n",
       "      <td>37.727013</td>\n",
       "      <td>4.267975</td>\n",
       "      <td>1709.759660</td>\n",
       "    </tr>\n",
       "    <tr>\n",
       "      <th>min</th>\n",
       "      <td>1.000000</td>\n",
       "      <td>0.001000</td>\n",
       "      <td>12347.000000</td>\n",
       "    </tr>\n",
       "    <tr>\n",
       "      <th>25%</th>\n",
       "      <td>1.000000</td>\n",
       "      <td>1.250000</td>\n",
       "      <td>13975.000000</td>\n",
       "    </tr>\n",
       "    <tr>\n",
       "      <th>50%</th>\n",
       "      <td>3.000000</td>\n",
       "      <td>2.080000</td>\n",
       "      <td>15159.000000</td>\n",
       "    </tr>\n",
       "    <tr>\n",
       "      <th>75%</th>\n",
       "      <td>11.000000</td>\n",
       "      <td>4.130000</td>\n",
       "      <td>16801.000000</td>\n",
       "    </tr>\n",
       "    <tr>\n",
       "      <th>max</th>\n",
       "      <td>4800.000000</td>\n",
       "      <td>295.000000</td>\n",
       "      <td>18287.000000</td>\n",
       "    </tr>\n",
       "  </tbody>\n",
       "</table>\n",
       "</div>"
      ],
      "text/plain": [
       "            Quantity      UnitPrice     CustomerID\n",
       "count  527944.000000  527944.000000  396481.000000\n",
       "mean       10.270070       3.276816   15301.442505\n",
       "std        37.727013       4.267975    1709.759660\n",
       "min         1.000000       0.001000   12347.000000\n",
       "25%         1.000000       1.250000   13975.000000\n",
       "50%         3.000000       2.080000   15159.000000\n",
       "75%        11.000000       4.130000   16801.000000\n",
       "max      4800.000000     295.000000   18287.000000"
      ]
     },
     "execution_count": 27,
     "metadata": {},
     "output_type": "execute_result"
    }
   ],
   "source": [
    "Retail_df_hist.describe()"
   ]
  },
  {
   "cell_type": "code",
   "execution_count": 97,
   "id": "cda5965b",
   "metadata": {},
   "outputs": [
    {
     "data": {
      "text/plain": [
       "(527947, 8)"
      ]
     },
     "execution_count": 97,
     "metadata": {},
     "output_type": "execute_result"
    }
   ],
   "source": [
    "Retail_df_pre4.shape"
   ]
  },
  {
   "cell_type": "code",
   "execution_count": 100,
   "id": "caf85980",
   "metadata": {},
   "outputs": [],
   "source": [
    "Retail_TimeSeries_df=Retail_df_pre4.copy()"
   ]
  },
  {
   "cell_type": "code",
   "execution_count": 16,
   "id": "59b8a84d",
   "metadata": {},
   "outputs": [],
   "source": [
    "finding_row = Retail_df_pre4['Quantity'] == 74215"
   ]
  },
  {
   "cell_type": "code",
   "execution_count": 17,
   "id": "ce7afe37",
   "metadata": {},
   "outputs": [
    {
     "data": {
      "text/html": [
       "<div>\n",
       "<style scoped>\n",
       "    .dataframe tbody tr th:only-of-type {\n",
       "        vertical-align: middle;\n",
       "    }\n",
       "\n",
       "    .dataframe tbody tr th {\n",
       "        vertical-align: top;\n",
       "    }\n",
       "\n",
       "    .dataframe thead th {\n",
       "        text-align: right;\n",
       "    }\n",
       "</style>\n",
       "<table border=\"1\" class=\"dataframe\">\n",
       "  <thead>\n",
       "    <tr style=\"text-align: right;\">\n",
       "      <th></th>\n",
       "      <th>InvoiceNo</th>\n",
       "      <th>StockCode</th>\n",
       "      <th>Description</th>\n",
       "      <th>Quantity</th>\n",
       "      <th>InvoiceDate</th>\n",
       "      <th>UnitPrice</th>\n",
       "      <th>CustomerID</th>\n",
       "      <th>Country</th>\n",
       "    </tr>\n",
       "  </thead>\n",
       "  <tbody>\n",
       "    <tr>\n",
       "      <th>61619</th>\n",
       "      <td>541431</td>\n",
       "      <td>23166</td>\n",
       "      <td>MEDIUM CERAMIC TOP STORAGE JAR</td>\n",
       "      <td>74215</td>\n",
       "      <td>1/18/2011 10:01</td>\n",
       "      <td>1.04</td>\n",
       "      <td>12346.0</td>\n",
       "      <td>United Kingdom</td>\n",
       "    </tr>\n",
       "  </tbody>\n",
       "</table>\n",
       "</div>"
      ],
      "text/plain": [
       "      InvoiceNo StockCode                     Description  Quantity  \\\n",
       "61619    541431     23166  MEDIUM CERAMIC TOP STORAGE JAR     74215   \n",
       "\n",
       "           InvoiceDate  UnitPrice  CustomerID         Country  \n",
       "61619  1/18/2011 10:01       1.04     12346.0  United Kingdom  "
      ]
     },
     "execution_count": 17,
     "metadata": {},
     "output_type": "execute_result"
    }
   ],
   "source": [
    "Retail_df_pre4[finding_row]"
   ]
  },
  {
   "cell_type": "code",
   "execution_count": 20,
   "id": "81286579",
   "metadata": {},
   "outputs": [],
   "source": [
    "finding_row2 = Retail_df_pre4['UnitPrice'] == 649.5"
   ]
  },
  {
   "cell_type": "code",
   "execution_count": 21,
   "id": "4a47ceb2",
   "metadata": {},
   "outputs": [
    {
     "data": {
      "text/html": [
       "<div>\n",
       "<style scoped>\n",
       "    .dataframe tbody tr th:only-of-type {\n",
       "        vertical-align: middle;\n",
       "    }\n",
       "\n",
       "    .dataframe tbody tr th {\n",
       "        vertical-align: top;\n",
       "    }\n",
       "\n",
       "    .dataframe thead th {\n",
       "        text-align: right;\n",
       "    }\n",
       "</style>\n",
       "<table border=\"1\" class=\"dataframe\">\n",
       "  <thead>\n",
       "    <tr style=\"text-align: right;\">\n",
       "      <th></th>\n",
       "      <th>InvoiceNo</th>\n",
       "      <th>StockCode</th>\n",
       "      <th>Description</th>\n",
       "      <th>Quantity</th>\n",
       "      <th>InvoiceDate</th>\n",
       "      <th>UnitPrice</th>\n",
       "      <th>CustomerID</th>\n",
       "      <th>Country</th>\n",
       "    </tr>\n",
       "  </thead>\n",
       "  <tbody>\n",
       "    <tr>\n",
       "      <th>222680</th>\n",
       "      <td>556444</td>\n",
       "      <td>22502</td>\n",
       "      <td>PICNIC BASKET WICKER 60 PIECES</td>\n",
       "      <td>60</td>\n",
       "      <td>6/10/2011 15:28</td>\n",
       "      <td>649.5</td>\n",
       "      <td>15098.0</td>\n",
       "      <td>United Kingdom</td>\n",
       "    </tr>\n",
       "    <tr>\n",
       "      <th>222682</th>\n",
       "      <td>556446</td>\n",
       "      <td>22502</td>\n",
       "      <td>PICNIC BASKET WICKER 60 PIECES</td>\n",
       "      <td>1</td>\n",
       "      <td>6/10/2011 15:33</td>\n",
       "      <td>649.5</td>\n",
       "      <td>15098.0</td>\n",
       "      <td>United Kingdom</td>\n",
       "    </tr>\n",
       "  </tbody>\n",
       "</table>\n",
       "</div>"
      ],
      "text/plain": [
       "       InvoiceNo StockCode                     Description  Quantity  \\\n",
       "222680    556444     22502  PICNIC BASKET WICKER 60 PIECES        60   \n",
       "222682    556446     22502  PICNIC BASKET WICKER 60 PIECES         1   \n",
       "\n",
       "            InvoiceDate  UnitPrice  CustomerID         Country  \n",
       "222680  6/10/2011 15:28      649.5     15098.0  United Kingdom  \n",
       "222682  6/10/2011 15:33      649.5     15098.0  United Kingdom  "
      ]
     },
     "execution_count": 21,
     "metadata": {},
     "output_type": "execute_result"
    }
   ],
   "source": [
    "Retail_df_pre4[finding_row2]"
   ]
  },
  {
   "cell_type": "code",
   "execution_count": 41,
   "id": "0ccda5d1",
   "metadata": {},
   "outputs": [],
   "source": [
    "Retail_df_hist = Retail_df_pre4.drop(index=61619)\n",
    "#Retail_df_large_orders = Retail_df_pre4.drop(index=rows_small_orders)"
   ]
  },
  {
   "cell_type": "code",
   "execution_count": 125,
   "id": "fe94b2b8",
   "metadata": {},
   "outputs": [
    {
     "data": {
      "text/plain": [
       "(6647, 8)"
      ]
     },
     "execution_count": 125,
     "metadata": {},
     "output_type": "execute_result"
    }
   ],
   "source": [
    "rows_medlarge_orders = Retail_df_hist['Quantity'] >= 100\n",
    "Retail_df_medlarge_orders = Retail_df_hist[rows_medlarge_orders]\n",
    "Retail_df_medlarge_orders.shape"
   ]
  },
  {
   "cell_type": "code",
   "execution_count": 42,
   "id": "c4687daa",
   "metadata": {},
   "outputs": [],
   "source": [
    "rows_large_orders = Retail_df_hist['Quantity'] >= 1000\n",
    "Retail_df_large_orders = Retail_df_hist[rows_large_orders]"
   ]
  },
  {
   "cell_type": "code",
   "execution_count": 50,
   "id": "8360261e",
   "metadata": {},
   "outputs": [
    {
     "data": {
      "text/plain": [
       "Text(0.5, 0.98, 'Histograms for orders over 1000')"
      ]
     },
     "execution_count": 50,
     "metadata": {},
     "output_type": "execute_result"
    },
    {
     "data": {
      "image/png": "[encoded data removed]",
      "text/plain": [
       "<Figure size 720x720 with 4 Axes>"
      ]
     },
     "metadata": {
      "needs_background": "light"
     },
     "output_type": "display_data"
    }
   ],
   "source": [
    "Retail_df_large_orders.hist(figsize=[10,10])\n",
    "plt.suptitle(\"Histograms for orders over 1000\", fontsize=14)\n"
   ]
  },
  {
   "cell_type": "code",
   "execution_count": 51,
   "id": "5da1eb0f",
   "metadata": {},
   "outputs": [],
   "source": [
    "Retail_df_large_orders.to_csv('Retail_df_large_orders.csv')"
   ]
  },
  {
   "cell_type": "code",
   "execution_count": 124,
   "id": "b945b4b9",
   "metadata": {},
   "outputs": [
    {
     "data": {
      "text/plain": [
       "(113, 8)"
      ]
     },
     "execution_count": 124,
     "metadata": {},
     "output_type": "execute_result"
    }
   ],
   "source": [
    "Retail_df_large_orders.shape"
   ]
  },
  {
   "cell_type": "code",
   "execution_count": 127,
   "id": "8ca13657",
   "metadata": {},
   "outputs": [
    {
     "data": {
      "image/png": "[encoded data removed]",
      "text/plain": [
       "<Figure size 432x288 with 1 Axes>"
      ]
     },
     "metadata": {
      "needs_background": "light"
     },
     "output_type": "display_data"
    }
   ],
   "source": [
    "from pandas import read_csv\n",
    "series_time_retail = read_csv('Retail_df_large_orders.csv', header=0, index_col=0, parse_dates=True, squeeze=True)\n",
    "series_time_retail['SalesTotal']=series_time_retail['Quantity']*series_time_retail['UnitPrice']\n",
    "series_time_retail.drop(columns=['InvoiceNo', 'CustomerID','UnitPrice','Quantity'],inplace=True)\n",
    "\n",
    "series_time_retail.plot()\n",
    "plt.show()"
   ]
  },
  {
   "cell_type": "code",
   "execution_count": 80,
   "id": "9047fa1c",
   "metadata": {
    "scrolled": false
   },
   "outputs": [
    {
     "data": {
      "text/html": [
       "<div>\n",
       "<style scoped>\n",
       "    .dataframe tbody tr th:only-of-type {\n",
       "        vertical-align: middle;\n",
       "    }\n",
       "\n",
       "    .dataframe tbody tr th {\n",
       "        vertical-align: top;\n",
       "    }\n",
       "\n",
       "    .dataframe thead th {\n",
       "        text-align: right;\n",
       "    }\n",
       "</style>\n",
       "<table border=\"1\" class=\"dataframe\">\n",
       "  <thead>\n",
       "    <tr style=\"text-align: right;\">\n",
       "      <th></th>\n",
       "      <th>StockCode</th>\n",
       "      <th>Description</th>\n",
       "      <th>InvoiceDate</th>\n",
       "      <th>Country</th>\n",
       "      <th>SalesTotal</th>\n",
       "    </tr>\n",
       "    <tr>\n",
       "      <th>InvoiceDate</th>\n",
       "      <th></th>\n",
       "      <th></th>\n",
       "      <th></th>\n",
       "      <th></th>\n",
       "      <th></th>\n",
       "    </tr>\n",
       "  </thead>\n",
       "  <tbody>\n",
       "    <tr>\n",
       "      <th>2011-10-27 12:11:00</th>\n",
       "      <td>23084</td>\n",
       "      <td>RABBIT NIGHT LIGHT</td>\n",
       "      <td>10/27/2011 12:11</td>\n",
       "      <td>Netherlands</td>\n",
       "      <td>4992.00</td>\n",
       "    </tr>\n",
       "    <tr>\n",
       "      <th>2011-10-27 12:26:00</th>\n",
       "      <td>84077</td>\n",
       "      <td>WORLD WAR 2 GLIDERS ASSTD DESIGNS</td>\n",
       "      <td>10/27/2011 12:26</td>\n",
       "      <td>United Kingdom</td>\n",
       "      <td>1008.00</td>\n",
       "    </tr>\n",
       "    <tr>\n",
       "      <th>2011-10-28 12:32:00</th>\n",
       "      <td>22197</td>\n",
       "      <td>POPCORN HOLDER</td>\n",
       "      <td>10/28/2011 12:32</td>\n",
       "      <td>United Kingdom</td>\n",
       "      <td>1434.24</td>\n",
       "    </tr>\n",
       "    <tr>\n",
       "      <th>2011-11-02 11:24:00</th>\n",
       "      <td>16014</td>\n",
       "      <td>SMALL CHINESE STYLE SCISSOR</td>\n",
       "      <td>11/2/2011 11:24</td>\n",
       "      <td>United Kingdom</td>\n",
       "      <td>960.00</td>\n",
       "    </tr>\n",
       "    <tr>\n",
       "      <th>2011-11-03 15:47:00</th>\n",
       "      <td>22086</td>\n",
       "      <td>PAPER CHAIN KIT 50'S CHRISTMAS</td>\n",
       "      <td>11/3/2011 15:47</td>\n",
       "      <td>United Kingdom</td>\n",
       "      <td>2601.00</td>\n",
       "    </tr>\n",
       "    <tr>\n",
       "      <th>2011-11-03 15:47:00</th>\n",
       "      <td>21915</td>\n",
       "      <td>RED  HARMONICA IN BOX</td>\n",
       "      <td>11/3/2011 15:47</td>\n",
       "      <td>United Kingdom</td>\n",
       "      <td>2226.00</td>\n",
       "    </tr>\n",
       "    <tr>\n",
       "      <th>2011-11-07 17:42:00</th>\n",
       "      <td>22197</td>\n",
       "      <td>POPCORN HOLDER</td>\n",
       "      <td>11/7/2011 17:42</td>\n",
       "      <td>United Kingdom</td>\n",
       "      <td>3549.00</td>\n",
       "    </tr>\n",
       "    <tr>\n",
       "      <th>2011-11-09 13:56:00</th>\n",
       "      <td>84879</td>\n",
       "      <td>ASSORTED COLOUR BIRD ORNAMENT</td>\n",
       "      <td>11/9/2011 13:56</td>\n",
       "      <td>United Kingdom</td>\n",
       "      <td>1740.00</td>\n",
       "    </tr>\n",
       "    <tr>\n",
       "      <th>2011-11-10 11:55:00</th>\n",
       "      <td>85099B</td>\n",
       "      <td>JUMBO BAG RED RETROSPOT</td>\n",
       "      <td>11/10/2011 11:55</td>\n",
       "      <td>United Kingdom</td>\n",
       "      <td>1790.00</td>\n",
       "    </tr>\n",
       "    <tr>\n",
       "      <th>2011-11-14 17:55:00</th>\n",
       "      <td>22197</td>\n",
       "      <td>POPCORN HOLDER</td>\n",
       "      <td>11/14/2011 17:55</td>\n",
       "      <td>United Kingdom</td>\n",
       "      <td>2203.50</td>\n",
       "    </tr>\n",
       "    <tr>\n",
       "      <th>2011-11-22 08:44:00</th>\n",
       "      <td>22197</td>\n",
       "      <td>POPCORN HOLDER</td>\n",
       "      <td>11/22/2011 8:44</td>\n",
       "      <td>United Kingdom</td>\n",
       "      <td>720.00</td>\n",
       "    </tr>\n",
       "    <tr>\n",
       "      <th>2011-11-29 15:52:00</th>\n",
       "      <td>23084</td>\n",
       "      <td>RABBIT NIGHT LIGHT</td>\n",
       "      <td>11/29/2011 15:52</td>\n",
       "      <td>Japan</td>\n",
       "      <td>3651.60</td>\n",
       "    </tr>\n",
       "    <tr>\n",
       "      <th>2011-12-01 10:07:00</th>\n",
       "      <td>21787</td>\n",
       "      <td>RAIN PONCHO RETROSPOT</td>\n",
       "      <td>12/1/2011 10:07</td>\n",
       "      <td>United Kingdom</td>\n",
       "      <td>780.00</td>\n",
       "    </tr>\n",
       "    <tr>\n",
       "      <th>2011-12-02 11:39:00</th>\n",
       "      <td>22197</td>\n",
       "      <td>POPCORN HOLDER</td>\n",
       "      <td>12/2/2011 11:39</td>\n",
       "      <td>United Kingdom</td>\n",
       "      <td>720.00</td>\n",
       "    </tr>\n",
       "    <tr>\n",
       "      <th>2011-12-02 12:19:00</th>\n",
       "      <td>21915</td>\n",
       "      <td>RED  HARMONICA IN BOX</td>\n",
       "      <td>12/2/2011 12:19</td>\n",
       "      <td>United Kingdom</td>\n",
       "      <td>1187.20</td>\n",
       "    </tr>\n",
       "    <tr>\n",
       "      <th>2011-12-02 16:32:00</th>\n",
       "      <td>23582</td>\n",
       "      <td>VINTAGE DOILY JUMBO BAG RED</td>\n",
       "      <td>12/2/2011 16:32</td>\n",
       "      <td>United Kingdom</td>\n",
       "      <td>2685.00</td>\n",
       "    </tr>\n",
       "    <tr>\n",
       "      <th>2011-12-07 12:20:00</th>\n",
       "      <td>22413</td>\n",
       "      <td>METAL SIGN TAKE IT OR LEAVE IT</td>\n",
       "      <td>12/7/2011 12:20</td>\n",
       "      <td>United Kingdom</td>\n",
       "      <td>3861.00</td>\n",
       "    </tr>\n",
       "    <tr>\n",
       "      <th>2011-12-07 15:16:00</th>\n",
       "      <td>23084</td>\n",
       "      <td>RABBIT NIGHT LIGHT</td>\n",
       "      <td>12/7/2011 15:16</td>\n",
       "      <td>Netherlands</td>\n",
       "      <td>2577.60</td>\n",
       "    </tr>\n",
       "    <tr>\n",
       "      <th>2011-12-08 18:45:00</th>\n",
       "      <td>22197</td>\n",
       "      <td>POPCORN HOLDER</td>\n",
       "      <td>12/8/2011 18:45</td>\n",
       "      <td>United Kingdom</td>\n",
       "      <td>1080.00</td>\n",
       "    </tr>\n",
       "    <tr>\n",
       "      <th>2011-12-08 18:46:00</th>\n",
       "      <td>22197</td>\n",
       "      <td>POPCORN HOLDER</td>\n",
       "      <td>12/8/2011 18:46</td>\n",
       "      <td>United Kingdom</td>\n",
       "      <td>864.00</td>\n",
       "    </tr>\n",
       "  </tbody>\n",
       "</table>\n",
       "</div>"
      ],
      "text/plain": [
       "                    StockCode                        Description  \\\n",
       "InvoiceDate                                                        \n",
       "2011-10-27 12:11:00     23084                 RABBIT NIGHT LIGHT   \n",
       "2011-10-27 12:26:00     84077  WORLD WAR 2 GLIDERS ASSTD DESIGNS   \n",
       "2011-10-28 12:32:00     22197                     POPCORN HOLDER   \n",
       "2011-11-02 11:24:00     16014        SMALL CHINESE STYLE SCISSOR   \n",
       "2011-11-03 15:47:00     22086    PAPER CHAIN KIT 50'S CHRISTMAS    \n",
       "2011-11-03 15:47:00     21915             RED  HARMONICA IN BOX    \n",
       "2011-11-07 17:42:00     22197                     POPCORN HOLDER   \n",
       "2011-11-09 13:56:00     84879      ASSORTED COLOUR BIRD ORNAMENT   \n",
       "2011-11-10 11:55:00    85099B            JUMBO BAG RED RETROSPOT   \n",
       "2011-11-14 17:55:00     22197                     POPCORN HOLDER   \n",
       "2011-11-22 08:44:00     22197                     POPCORN HOLDER   \n",
       "2011-11-29 15:52:00     23084                 RABBIT NIGHT LIGHT   \n",
       "2011-12-01 10:07:00     21787              RAIN PONCHO RETROSPOT   \n",
       "2011-12-02 11:39:00     22197                     POPCORN HOLDER   \n",
       "2011-12-02 12:19:00     21915             RED  HARMONICA IN BOX    \n",
       "2011-12-02 16:32:00     23582       VINTAGE DOILY JUMBO BAG RED    \n",
       "2011-12-07 12:20:00     22413    METAL SIGN TAKE IT OR LEAVE IT    \n",
       "2011-12-07 15:16:00     23084                 RABBIT NIGHT LIGHT   \n",
       "2011-12-08 18:45:00     22197                     POPCORN HOLDER   \n",
       "2011-12-08 18:46:00     22197                     POPCORN HOLDER   \n",
       "\n",
       "                          InvoiceDate         Country  SalesTotal  \n",
       "InvoiceDate                                                        \n",
       "2011-10-27 12:11:00  10/27/2011 12:11     Netherlands     4992.00  \n",
       "2011-10-27 12:26:00  10/27/2011 12:26  United Kingdom     1008.00  \n",
       "2011-10-28 12:32:00  10/28/2011 12:32  United Kingdom     1434.24  \n",
       "2011-11-02 11:24:00   11/2/2011 11:24  United Kingdom      960.00  \n",
       "2011-11-03 15:47:00   11/3/2011 15:47  United Kingdom     2601.00  \n",
       "2011-11-03 15:47:00   11/3/2011 15:47  United Kingdom     2226.00  \n",
       "2011-11-07 17:42:00   11/7/2011 17:42  United Kingdom     3549.00  \n",
       "2011-11-09 13:56:00   11/9/2011 13:56  United Kingdom     1740.00  \n",
       "2011-11-10 11:55:00  11/10/2011 11:55  United Kingdom     1790.00  \n",
       "2011-11-14 17:55:00  11/14/2011 17:55  United Kingdom     2203.50  \n",
       "2011-11-22 08:44:00   11/22/2011 8:44  United Kingdom      720.00  \n",
       "2011-11-29 15:52:00  11/29/2011 15:52           Japan     3651.60  \n",
       "2011-12-01 10:07:00   12/1/2011 10:07  United Kingdom      780.00  \n",
       "2011-12-02 11:39:00   12/2/2011 11:39  United Kingdom      720.00  \n",
       "2011-12-02 12:19:00   12/2/2011 12:19  United Kingdom     1187.20  \n",
       "2011-12-02 16:32:00   12/2/2011 16:32  United Kingdom     2685.00  \n",
       "2011-12-07 12:20:00   12/7/2011 12:20  United Kingdom     3861.00  \n",
       "2011-12-07 15:16:00   12/7/2011 15:16     Netherlands     2577.60  \n",
       "2011-12-08 18:45:00   12/8/2011 18:45  United Kingdom     1080.00  \n",
       "2011-12-08 18:46:00   12/8/2011 18:46  United Kingdom      864.00  "
      ]
     },
     "execution_count": 80,
     "metadata": {},
     "output_type": "execute_result"
    }
   ],
   "source": [
    "series_time_retail.tail(20)"
   ]
  },
  {
   "cell_type": "markdown",
   "id": "a73b26f2",
   "metadata": {},
   "source": [
    "Observe relationship between sales and unit price - are there more sales if the price is low or vice versa?"
   ]
  },
  {
   "cell_type": "code",
   "execution_count": 86,
   "id": "8b9cc3f7",
   "metadata": {},
   "outputs": [],
   "source": [
    "series_time_retail2 = read_csv('Retail_df_large_orders.csv', header=0, index_col=0, parse_dates=True, squeeze=True)\n",
    "series_time_retail2['SalesTotal']=series_time_retail2['Quantity']*series_time_retail2['UnitPrice']"
   ]
  },
  {
   "cell_type": "code",
   "execution_count": 123,
   "id": "f1c130c6",
   "metadata": {},
   "outputs": [
    {
     "data": {
      "image/png": "[encoded data removed]",
      "text/plain": [
       "<Figure size 1080x1440 with 2 Axes>"
      ]
     },
     "metadata": {
      "needs_background": "light"
     },
     "output_type": "display_data"
    }
   ],
   "source": [
    "plt.figure(figsize=(15,20))\n",
    "plt.scatter(series_time_retail2['Country'], series_time_retail2['UnitPrice'], \n",
    "            s=series_time_retail2['SalesTotal'], c=series_time_retail2['Quantity'], alpha=0.5\n",
    "#           ,main='Scatter Plot Relationship of Total Monthly Sales by Country and UnitPrice'\n",
    "           )\n",
    "#plt.title('Relationship of Total Monthly Sales by Country and UnitPrice')\n",
    "plt.gca().update(dict(title='Relationship of Total Monthly Sales by Country and UnitPrice', \n",
    "                      xlabel='Country where Order was made', ylabel='UnitPrice of item ordered', ylim=(0,5.6)))\n",
    "plt.colorbar()\n",
    "plt.show()"
   ]
  },
  {
   "cell_type": "markdown",
   "id": "a8048967",
   "metadata": {},
   "source": [
    "* Most orders have a unit price below 3.5\n",
    "* Most orders originate from the UK, which is where the company is based\n",
    "* Quantity lies in a certain range for most orders (purple/blue) with just a few yellow/green from UK\n",
    "* Total Sales are small for EIRE and larger sales come from the higher priced items"
   ]
  },
  {
   "cell_type": "markdown",
   "id": "dd0433ec",
   "metadata": {},
   "source": [
    "Plot monthly orders with a different line color for each country:"
   ]
  },
  {
   "cell_type": "code",
   "execution_count": null,
   "id": "153eea51",
   "metadata": {},
   "outputs": [],
   "source": []
  },
  {
   "cell_type": "code",
   "execution_count": null,
   "id": "d88b2ce4",
   "metadata": {},
   "outputs": [],
   "source": []
  },
  {
   "cell_type": "code",
   "execution_count": null,
   "id": "b1867a22",
   "metadata": {},
   "outputs": [],
   "source": []
  },
  {
   "cell_type": "code",
   "execution_count": null,
   "id": "cb3df8fc",
   "metadata": {},
   "outputs": [],
   "source": []
  },
  {
   "cell_type": "markdown",
   "id": "ce4f1fb7",
   "metadata": {},
   "source": [
    "Parse the InvoiceDate column"
   ]
  },
  {
   "cell_type": "code",
   "execution_count": 62,
   "id": "b2362869",
   "metadata": {},
   "outputs": [],
   "source": [
    "import datetime\n",
    "from dateutil.parser import parse\n",
    "#datetime.datetime.strptime('Mon Feb 15 2010', '%a %b %d %Y').strftime('%d/%m/%Y')\n",
    "#'15/02/2010'"
   ]
  },
  {
   "cell_type": "code",
   "execution_count": 239,
   "id": "b5ee6278",
   "metadata": {},
   "outputs": [],
   "source": [
    "series_time_retail33 = read_csv('Retail_df_large_orders.csv', header=0, index_col=0, parse_dates=True, squeeze=True)\n",
    "series_time_retail33['SalesTotal']=series_time_retail33['Quantity']*series_time_retail33['UnitPrice']"
   ]
  },
  {
   "cell_type": "code",
   "execution_count": 263,
   "id": "aedf5754",
   "metadata": {},
   "outputs": [
    {
     "data": {
      "text/html": [
       "<div>\n",
       "<style scoped>\n",
       "    .dataframe tbody tr th:only-of-type {\n",
       "        vertical-align: middle;\n",
       "    }\n",
       "\n",
       "    .dataframe tbody tr th {\n",
       "        vertical-align: top;\n",
       "    }\n",
       "\n",
       "    .dataframe thead th {\n",
       "        text-align: right;\n",
       "    }\n",
       "</style>\n",
       "<table border=\"1\" class=\"dataframe\">\n",
       "  <thead>\n",
       "    <tr style=\"text-align: right;\">\n",
       "      <th></th>\n",
       "      <th>InvoiceNo</th>\n",
       "      <th>StockCode</th>\n",
       "      <th>Description</th>\n",
       "      <th>Quantity</th>\n",
       "      <th>InvoiceDate</th>\n",
       "      <th>UnitPrice</th>\n",
       "      <th>CustomerID</th>\n",
       "      <th>Country</th>\n",
       "      <th>SalesTotal</th>\n",
       "    </tr>\n",
       "    <tr>\n",
       "      <th>InvoiceDate</th>\n",
       "      <th></th>\n",
       "      <th></th>\n",
       "      <th></th>\n",
       "      <th></th>\n",
       "      <th></th>\n",
       "      <th></th>\n",
       "      <th></th>\n",
       "      <th></th>\n",
       "      <th></th>\n",
       "    </tr>\n",
       "  </thead>\n",
       "  <tbody>\n",
       "    <tr>\n",
       "      <th>2010-12-02 16:48:00</th>\n",
       "      <td>536809</td>\n",
       "      <td>84950</td>\n",
       "      <td>ASSORTED COLOUR T-LIGHT HOLDER</td>\n",
       "      <td>1824</td>\n",
       "      <td>12/2/2010 16:48</td>\n",
       "      <td>0.55</td>\n",
       "      <td>15299.0</td>\n",
       "      <td>United Kingdom</td>\n",
       "      <td>1003.20</td>\n",
       "    </tr>\n",
       "    <tr>\n",
       "      <th>2010-12-02 17:38:00</th>\n",
       "      <td>536830</td>\n",
       "      <td>84077</td>\n",
       "      <td>WORLD WAR 2 GLIDERS ASSTD DESIGNS</td>\n",
       "      <td>2880</td>\n",
       "      <td>12/2/2010 17:38</td>\n",
       "      <td>0.18</td>\n",
       "      <td>16754.0</td>\n",
       "      <td>United Kingdom</td>\n",
       "      <td>518.40</td>\n",
       "    </tr>\n",
       "    <tr>\n",
       "      <th>2010-12-02 17:38:00</th>\n",
       "      <td>536830</td>\n",
       "      <td>21915</td>\n",
       "      <td>RED  HARMONICA IN BOX</td>\n",
       "      <td>1400</td>\n",
       "      <td>12/2/2010 17:38</td>\n",
       "      <td>1.06</td>\n",
       "      <td>16754.0</td>\n",
       "      <td>United Kingdom</td>\n",
       "      <td>1484.00</td>\n",
       "    </tr>\n",
       "    <tr>\n",
       "      <th>2010-12-03 11:48:00</th>\n",
       "      <td>536890</td>\n",
       "      <td>17084R</td>\n",
       "      <td>ASSORTED INCENSE PACK</td>\n",
       "      <td>1440</td>\n",
       "      <td>12/3/2010 11:48</td>\n",
       "      <td>0.16</td>\n",
       "      <td>14156.0</td>\n",
       "      <td>EIRE</td>\n",
       "      <td>230.40</td>\n",
       "    </tr>\n",
       "    <tr>\n",
       "      <th>2010-12-07 16:43:00</th>\n",
       "      <td>537659</td>\n",
       "      <td>22189</td>\n",
       "      <td>CREAM HEART CARD HOLDER</td>\n",
       "      <td>1008</td>\n",
       "      <td>12/7/2010 16:43</td>\n",
       "      <td>2.31</td>\n",
       "      <td>18102.0</td>\n",
       "      <td>United Kingdom</td>\n",
       "      <td>2328.48</td>\n",
       "    </tr>\n",
       "    <tr>\n",
       "      <th>...</th>\n",
       "      <td>...</td>\n",
       "      <td>...</td>\n",
       "      <td>...</td>\n",
       "      <td>...</td>\n",
       "      <td>...</td>\n",
       "      <td>...</td>\n",
       "      <td>...</td>\n",
       "      <td>...</td>\n",
       "      <td>...</td>\n",
       "    </tr>\n",
       "    <tr>\n",
       "      <th>2011-12-02 16:32:00</th>\n",
       "      <td>580363</td>\n",
       "      <td>23582</td>\n",
       "      <td>VINTAGE DOILY JUMBO BAG RED</td>\n",
       "      <td>1500</td>\n",
       "      <td>12/2/2011 16:32</td>\n",
       "      <td>1.79</td>\n",
       "      <td>13868.0</td>\n",
       "      <td>United Kingdom</td>\n",
       "      <td>2685.00</td>\n",
       "    </tr>\n",
       "    <tr>\n",
       "      <th>2011-12-07 12:20:00</th>\n",
       "      <td>581115</td>\n",
       "      <td>22413</td>\n",
       "      <td>METAL SIGN TAKE IT OR LEAVE IT</td>\n",
       "      <td>1404</td>\n",
       "      <td>12/7/2011 12:20</td>\n",
       "      <td>2.75</td>\n",
       "      <td>15195.0</td>\n",
       "      <td>United Kingdom</td>\n",
       "      <td>3861.00</td>\n",
       "    </tr>\n",
       "    <tr>\n",
       "      <th>2011-12-07 15:16:00</th>\n",
       "      <td>581175</td>\n",
       "      <td>23084</td>\n",
       "      <td>RABBIT NIGHT LIGHT</td>\n",
       "      <td>1440</td>\n",
       "      <td>12/7/2011 15:16</td>\n",
       "      <td>1.79</td>\n",
       "      <td>14646.0</td>\n",
       "      <td>Netherlands</td>\n",
       "      <td>2577.60</td>\n",
       "    </tr>\n",
       "    <tr>\n",
       "      <th>2011-12-08 18:45:00</th>\n",
       "      <td>581458</td>\n",
       "      <td>22197</td>\n",
       "      <td>POPCORN HOLDER</td>\n",
       "      <td>1500</td>\n",
       "      <td>12/8/2011 18:45</td>\n",
       "      <td>0.72</td>\n",
       "      <td>17949.0</td>\n",
       "      <td>United Kingdom</td>\n",
       "      <td>1080.00</td>\n",
       "    </tr>\n",
       "    <tr>\n",
       "      <th>2011-12-08 18:46:00</th>\n",
       "      <td>581459</td>\n",
       "      <td>22197</td>\n",
       "      <td>POPCORN HOLDER</td>\n",
       "      <td>1200</td>\n",
       "      <td>12/8/2011 18:46</td>\n",
       "      <td>0.72</td>\n",
       "      <td>17949.0</td>\n",
       "      <td>United Kingdom</td>\n",
       "      <td>864.00</td>\n",
       "    </tr>\n",
       "  </tbody>\n",
       "</table>\n",
       "<p>113 rows × 9 columns</p>\n",
       "</div>"
      ],
      "text/plain": [
       "                     InvoiceNo StockCode                        Description  \\\n",
       "InvoiceDate                                                                   \n",
       "2010-12-02 16:48:00     536809     84950     ASSORTED COLOUR T-LIGHT HOLDER   \n",
       "2010-12-02 17:38:00     536830     84077  WORLD WAR 2 GLIDERS ASSTD DESIGNS   \n",
       "2010-12-02 17:38:00     536830     21915             RED  HARMONICA IN BOX    \n",
       "2010-12-03 11:48:00     536890    17084R              ASSORTED INCENSE PACK   \n",
       "2010-12-07 16:43:00     537659     22189            CREAM HEART CARD HOLDER   \n",
       "...                        ...       ...                                ...   \n",
       "2011-12-02 16:32:00     580363     23582       VINTAGE DOILY JUMBO BAG RED    \n",
       "2011-12-07 12:20:00     581115     22413    METAL SIGN TAKE IT OR LEAVE IT    \n",
       "2011-12-07 15:16:00     581175     23084                 RABBIT NIGHT LIGHT   \n",
       "2011-12-08 18:45:00     581458     22197                     POPCORN HOLDER   \n",
       "2011-12-08 18:46:00     581459     22197                     POPCORN HOLDER   \n",
       "\n",
       "                     Quantity      InvoiceDate  UnitPrice  CustomerID  \\\n",
       "InvoiceDate                                                             \n",
       "2010-12-02 16:48:00      1824  12/2/2010 16:48       0.55     15299.0   \n",
       "2010-12-02 17:38:00      2880  12/2/2010 17:38       0.18     16754.0   \n",
       "2010-12-02 17:38:00      1400  12/2/2010 17:38       1.06     16754.0   \n",
       "2010-12-03 11:48:00      1440  12/3/2010 11:48       0.16     14156.0   \n",
       "2010-12-07 16:43:00      1008  12/7/2010 16:43       2.31     18102.0   \n",
       "...                       ...              ...        ...         ...   \n",
       "2011-12-02 16:32:00      1500  12/2/2011 16:32       1.79     13868.0   \n",
       "2011-12-07 12:20:00      1404  12/7/2011 12:20       2.75     15195.0   \n",
       "2011-12-07 15:16:00      1440  12/7/2011 15:16       1.79     14646.0   \n",
       "2011-12-08 18:45:00      1500  12/8/2011 18:45       0.72     17949.0   \n",
       "2011-12-08 18:46:00      1200  12/8/2011 18:46       0.72     17949.0   \n",
       "\n",
       "                            Country  SalesTotal  \n",
       "InvoiceDate                                      \n",
       "2010-12-02 16:48:00  United Kingdom     1003.20  \n",
       "2010-12-02 17:38:00  United Kingdom      518.40  \n",
       "2010-12-02 17:38:00  United Kingdom     1484.00  \n",
       "2010-12-03 11:48:00            EIRE      230.40  \n",
       "2010-12-07 16:43:00  United Kingdom     2328.48  \n",
       "...                             ...         ...  \n",
       "2011-12-02 16:32:00  United Kingdom     2685.00  \n",
       "2011-12-07 12:20:00  United Kingdom     3861.00  \n",
       "2011-12-07 15:16:00     Netherlands     2577.60  \n",
       "2011-12-08 18:45:00  United Kingdom     1080.00  \n",
       "2011-12-08 18:46:00  United Kingdom      864.00  \n",
       "\n",
       "[113 rows x 9 columns]"
      ]
     },
     "execution_count": 263,
     "metadata": {},
     "output_type": "execute_result"
    }
   ],
   "source": [
    "series_time_retail3"
   ]
  },
  {
   "cell_type": "code",
   "execution_count": 265,
   "id": "92b23876",
   "metadata": {},
   "outputs": [],
   "source": [
    "#series_time_retail3['InvoiceDate']=series_time_retail3['InvoiceDate'].astype('string')\n",
    "series_time_retail33.index = pd.to_datetime(series_time_retail33['InvoiceDate'],format='%m/%d/%Y %H:%M')\n",
    "##series_monthly_time_retail = series_time_retail.groupby(by=[series_time_retail.index.month, series_time_retail.index.year]).sum()\n",
    "series_monthly_time_retail3 = series_time_retail3.groupby(by=[series_time_retail33.index.year, series_time_retail33.index.month]).sum()\n",
    "#series_monthly_time_retail3 = series_time_retail33.groupby(series_time_retail33.index.year, series_time_retail33.index.month).sum()\n",
    "\n",
    "\n"
   ]
  },
  {
   "cell_type": "code",
   "execution_count": 266,
   "id": "759c1d4b",
   "metadata": {},
   "outputs": [
    {
     "data": {
      "text/html": [
       "<div>\n",
       "<style scoped>\n",
       "    .dataframe tbody tr th:only-of-type {\n",
       "        vertical-align: middle;\n",
       "    }\n",
       "\n",
       "    .dataframe tbody tr th {\n",
       "        vertical-align: top;\n",
       "    }\n",
       "\n",
       "    .dataframe thead th {\n",
       "        text-align: right;\n",
       "    }\n",
       "</style>\n",
       "<table border=\"1\" class=\"dataframe\">\n",
       "  <thead>\n",
       "    <tr style=\"text-align: right;\">\n",
       "      <th></th>\n",
       "      <th></th>\n",
       "      <th>InvoiceNo</th>\n",
       "      <th>Quantity</th>\n",
       "      <th>UnitPrice</th>\n",
       "      <th>CustomerID</th>\n",
       "      <th>SalesTotal</th>\n",
       "    </tr>\n",
       "    <tr>\n",
       "      <th>InvoiceDate</th>\n",
       "      <th>InvoiceDate</th>\n",
       "      <th></th>\n",
       "      <th></th>\n",
       "      <th></th>\n",
       "      <th></th>\n",
       "      <th></th>\n",
       "    </tr>\n",
       "  </thead>\n",
       "  <tbody>\n",
       "    <tr>\n",
       "      <th>2010</th>\n",
       "      <th>12</th>\n",
       "      <td>6453640</td>\n",
       "      <td>18866</td>\n",
       "      <td>11.35</td>\n",
       "      <td>189837.0</td>\n",
       "      <td>15647.82</td>\n",
       "    </tr>\n",
       "    <tr>\n",
       "      <th rowspan=\"12\" valign=\"top\">2011</th>\n",
       "      <th>1</th>\n",
       "      <td>4326900</td>\n",
       "      <td>13434</td>\n",
       "      <td>17.85</td>\n",
       "      <td>129992.0</td>\n",
       "      <td>29091.82</td>\n",
       "    </tr>\n",
       "    <tr>\n",
       "      <th>2</th>\n",
       "      <td>5981955</td>\n",
       "      <td>20094</td>\n",
       "      <td>4.91</td>\n",
       "      <td>180134.0</td>\n",
       "      <td>9600.84</td>\n",
       "    </tr>\n",
       "    <tr>\n",
       "      <th>3</th>\n",
       "      <td>3827994</td>\n",
       "      <td>9448</td>\n",
       "      <td>3.21</td>\n",
       "      <td>106261.0</td>\n",
       "      <td>4082.72</td>\n",
       "    </tr>\n",
       "    <tr>\n",
       "      <th>4</th>\n",
       "      <td>7701703</td>\n",
       "      <td>20392</td>\n",
       "      <td>11.75</td>\n",
       "      <td>221867.0</td>\n",
       "      <td>21321.08</td>\n",
       "    </tr>\n",
       "    <tr>\n",
       "      <th>5</th>\n",
       "      <td>3322127</td>\n",
       "      <td>12702</td>\n",
       "      <td>2.78</td>\n",
       "      <td>91456.0</td>\n",
       "      <td>6547.42</td>\n",
       "    </tr>\n",
       "    <tr>\n",
       "      <th>6</th>\n",
       "      <td>1669018</td>\n",
       "      <td>4315</td>\n",
       "      <td>0.68</td>\n",
       "      <td>44326.0</td>\n",
       "      <td>1013.25</td>\n",
       "    </tr>\n",
       "    <tr>\n",
       "      <th>7</th>\n",
       "      <td>3364285</td>\n",
       "      <td>10146</td>\n",
       "      <td>1.69</td>\n",
       "      <td>82468.0</td>\n",
       "      <td>2365.56</td>\n",
       "    </tr>\n",
       "    <tr>\n",
       "      <th>8</th>\n",
       "      <td>3942020</td>\n",
       "      <td>10988</td>\n",
       "      <td>4.77</td>\n",
       "      <td>108080.0</td>\n",
       "      <td>8546.32</td>\n",
       "    </tr>\n",
       "    <tr>\n",
       "      <th>9</th>\n",
       "      <td>6238890</td>\n",
       "      <td>16186</td>\n",
       "      <td>13.67</td>\n",
       "      <td>175381.0</td>\n",
       "      <td>20509.80</td>\n",
       "    </tr>\n",
       "    <tr>\n",
       "      <th>10</th>\n",
       "      <td>6283263</td>\n",
       "      <td>19748</td>\n",
       "      <td>10.22</td>\n",
       "      <td>168618.0</td>\n",
       "      <td>16774.08</td>\n",
       "    </tr>\n",
       "    <tr>\n",
       "      <th>11</th>\n",
       "      <td>5182114</td>\n",
       "      <td>14310</td>\n",
       "      <td>13.58</td>\n",
       "      <td>109638.0</td>\n",
       "      <td>19441.10</td>\n",
       "    </tr>\n",
       "    <tr>\n",
       "      <th>12</th>\n",
       "      <td>4645919</td>\n",
       "      <td>10364</td>\n",
       "      <td>10.20</td>\n",
       "      <td>126790.0</td>\n",
       "      <td>13754.80</td>\n",
       "    </tr>\n",
       "  </tbody>\n",
       "</table>\n",
       "</div>"
      ],
      "text/plain": [
       "                         InvoiceNo  Quantity  UnitPrice  CustomerID  \\\n",
       "InvoiceDate InvoiceDate                                               \n",
       "2010        12             6453640     18866      11.35    189837.0   \n",
       "2011        1              4326900     13434      17.85    129992.0   \n",
       "            2              5981955     20094       4.91    180134.0   \n",
       "            3              3827994      9448       3.21    106261.0   \n",
       "            4              7701703     20392      11.75    221867.0   \n",
       "            5              3322127     12702       2.78     91456.0   \n",
       "            6              1669018      4315       0.68     44326.0   \n",
       "            7              3364285     10146       1.69     82468.0   \n",
       "            8              3942020     10988       4.77    108080.0   \n",
       "            9              6238890     16186      13.67    175381.0   \n",
       "            10             6283263     19748      10.22    168618.0   \n",
       "            11             5182114     14310      13.58    109638.0   \n",
       "            12             4645919     10364      10.20    126790.0   \n",
       "\n",
       "                         SalesTotal  \n",
       "InvoiceDate InvoiceDate              \n",
       "2010        12             15647.82  \n",
       "2011        1              29091.82  \n",
       "            2               9600.84  \n",
       "            3               4082.72  \n",
       "            4              21321.08  \n",
       "            5               6547.42  \n",
       "            6               1013.25  \n",
       "            7               2365.56  \n",
       "            8               8546.32  \n",
       "            9              20509.80  \n",
       "            10             16774.08  \n",
       "            11             19441.10  \n",
       "            12             13754.80  "
      ]
     },
     "execution_count": 266,
     "metadata": {},
     "output_type": "execute_result"
    }
   ],
   "source": [
    "series_monthly_time_retail3"
   ]
  },
  {
   "cell_type": "code",
   "execution_count": 231,
   "id": "7abc2850",
   "metadata": {},
   "outputs": [
    {
     "data": {
      "text/html": [
       "<div>\n",
       "<style scoped>\n",
       "    .dataframe tbody tr th:only-of-type {\n",
       "        vertical-align: middle;\n",
       "    }\n",
       "\n",
       "    .dataframe tbody tr th {\n",
       "        vertical-align: top;\n",
       "    }\n",
       "\n",
       "    .dataframe thead th {\n",
       "        text-align: right;\n",
       "    }\n",
       "</style>\n",
       "<table border=\"1\" class=\"dataframe\">\n",
       "  <thead>\n",
       "    <tr style=\"text-align: right;\">\n",
       "      <th></th>\n",
       "      <th></th>\n",
       "      <th>InvoiceNo</th>\n",
       "      <th>Quantity</th>\n",
       "      <th>UnitPrice</th>\n",
       "      <th>CustomerID</th>\n",
       "      <th>SalesTotal</th>\n",
       "    </tr>\n",
       "    <tr>\n",
       "      <th>InvoiceDate</th>\n",
       "      <th>InvoiceDate</th>\n",
       "      <th></th>\n",
       "      <th></th>\n",
       "      <th></th>\n",
       "      <th></th>\n",
       "      <th></th>\n",
       "    </tr>\n",
       "  </thead>\n",
       "  <tbody>\n",
       "    <tr>\n",
       "      <th>2010</th>\n",
       "      <th>12</th>\n",
       "      <td>6453640</td>\n",
       "      <td>18866</td>\n",
       "      <td>11.35</td>\n",
       "      <td>189837.0</td>\n",
       "      <td>15647.82</td>\n",
       "    </tr>\n",
       "    <tr>\n",
       "      <th rowspan=\"12\" valign=\"top\">2011</th>\n",
       "      <th>1</th>\n",
       "      <td>4326900</td>\n",
       "      <td>13434</td>\n",
       "      <td>17.85</td>\n",
       "      <td>129992.0</td>\n",
       "      <td>29091.82</td>\n",
       "    </tr>\n",
       "    <tr>\n",
       "      <th>2</th>\n",
       "      <td>5981955</td>\n",
       "      <td>20094</td>\n",
       "      <td>4.91</td>\n",
       "      <td>180134.0</td>\n",
       "      <td>9600.84</td>\n",
       "    </tr>\n",
       "    <tr>\n",
       "      <th>3</th>\n",
       "      <td>3827994</td>\n",
       "      <td>9448</td>\n",
       "      <td>3.21</td>\n",
       "      <td>106261.0</td>\n",
       "      <td>4082.72</td>\n",
       "    </tr>\n",
       "    <tr>\n",
       "      <th>4</th>\n",
       "      <td>7701703</td>\n",
       "      <td>20392</td>\n",
       "      <td>11.75</td>\n",
       "      <td>221867.0</td>\n",
       "      <td>21321.08</td>\n",
       "    </tr>\n",
       "    <tr>\n",
       "      <th>5</th>\n",
       "      <td>3322127</td>\n",
       "      <td>12702</td>\n",
       "      <td>2.78</td>\n",
       "      <td>91456.0</td>\n",
       "      <td>6547.42</td>\n",
       "    </tr>\n",
       "    <tr>\n",
       "      <th>6</th>\n",
       "      <td>1669018</td>\n",
       "      <td>4315</td>\n",
       "      <td>0.68</td>\n",
       "      <td>44326.0</td>\n",
       "      <td>1013.25</td>\n",
       "    </tr>\n",
       "    <tr>\n",
       "      <th>7</th>\n",
       "      <td>3364285</td>\n",
       "      <td>10146</td>\n",
       "      <td>1.69</td>\n",
       "      <td>82468.0</td>\n",
       "      <td>2365.56</td>\n",
       "    </tr>\n",
       "    <tr>\n",
       "      <th>8</th>\n",
       "      <td>3942020</td>\n",
       "      <td>10988</td>\n",
       "      <td>4.77</td>\n",
       "      <td>108080.0</td>\n",
       "      <td>8546.32</td>\n",
       "    </tr>\n",
       "    <tr>\n",
       "      <th>9</th>\n",
       "      <td>6238890</td>\n",
       "      <td>16186</td>\n",
       "      <td>13.67</td>\n",
       "      <td>175381.0</td>\n",
       "      <td>20509.80</td>\n",
       "    </tr>\n",
       "    <tr>\n",
       "      <th>10</th>\n",
       "      <td>6283263</td>\n",
       "      <td>19748</td>\n",
       "      <td>10.22</td>\n",
       "      <td>168618.0</td>\n",
       "      <td>16774.08</td>\n",
       "    </tr>\n",
       "    <tr>\n",
       "      <th>11</th>\n",
       "      <td>5182114</td>\n",
       "      <td>14310</td>\n",
       "      <td>13.58</td>\n",
       "      <td>109638.0</td>\n",
       "      <td>19441.10</td>\n",
       "    </tr>\n",
       "    <tr>\n",
       "      <th>12</th>\n",
       "      <td>4645919</td>\n",
       "      <td>10364</td>\n",
       "      <td>10.20</td>\n",
       "      <td>126790.0</td>\n",
       "      <td>13754.80</td>\n",
       "    </tr>\n",
       "  </tbody>\n",
       "</table>\n",
       "</div>"
      ],
      "text/plain": [
       "                         InvoiceNo  Quantity  UnitPrice  CustomerID  \\\n",
       "InvoiceDate InvoiceDate                                               \n",
       "2010        12             6453640     18866      11.35    189837.0   \n",
       "2011        1              4326900     13434      17.85    129992.0   \n",
       "            2              5981955     20094       4.91    180134.0   \n",
       "            3              3827994      9448       3.21    106261.0   \n",
       "            4              7701703     20392      11.75    221867.0   \n",
       "            5              3322127     12702       2.78     91456.0   \n",
       "            6              1669018      4315       0.68     44326.0   \n",
       "            7              3364285     10146       1.69     82468.0   \n",
       "            8              3942020     10988       4.77    108080.0   \n",
       "            9              6238890     16186      13.67    175381.0   \n",
       "            10             6283263     19748      10.22    168618.0   \n",
       "            11             5182114     14310      13.58    109638.0   \n",
       "            12             4645919     10364      10.20    126790.0   \n",
       "\n",
       "                         SalesTotal  \n",
       "InvoiceDate InvoiceDate              \n",
       "2010        12             15647.82  \n",
       "2011        1              29091.82  \n",
       "            2               9600.84  \n",
       "            3               4082.72  \n",
       "            4              21321.08  \n",
       "            5               6547.42  \n",
       "            6               1013.25  \n",
       "            7               2365.56  \n",
       "            8               8546.32  \n",
       "            9              20509.80  \n",
       "            10             16774.08  \n",
       "            11             19441.10  \n",
       "            12             13754.80  "
      ]
     },
     "execution_count": 231,
     "metadata": {},
     "output_type": "execute_result"
    }
   ],
   "source": [
    "series_monthly_time_retail3"
   ]
  },
  {
   "cell_type": "code",
   "execution_count": 268,
   "id": "e38ef675",
   "metadata": {},
   "outputs": [
    {
     "data": {
      "image/png": "[encoded data removed]",
      "text/plain": [
       "<Figure size 1800x1200 with 1 Axes>"
      ]
     },
     "metadata": {
      "needs_background": "light"
     },
     "output_type": "display_data"
    }
   ],
   "source": [
    "series_monthly_time_retail3.plot(figsize=(15,10))\n",
    "plt.show()"
   ]
  },
  {
   "cell_type": "markdown",
   "id": "fbe6dadf",
   "metadata": {},
   "source": [
    "----"
   ]
  },
  {
   "cell_type": "markdown",
   "id": "a760e326",
   "metadata": {},
   "source": [
    "Examples from readings:"
   ]
  },
  {
   "cell_type": "markdown",
   "id": "79c00112",
   "metadata": {},
   "source": [
    "## Module 4 ARIMA approach:"
   ]
  },
  {
   "cell_type": "code",
   "execution_count": 293,
   "id": "6dc76562",
   "metadata": {},
   "outputs": [
    {
     "name": "stdout",
     "output_type": "stream",
     "text": [
      "ADF Statistic: -2.308185\n",
      "p-value: 0.169342\n"
     ]
    }
   ],
   "source": [
    "from numpy import log\n",
    "from statsmodels.tsa.stattools import adfuller\n",
    "\n",
    "result = adfuller(values_sales.dropna())\n",
    "print('ADF Statistic: %f' % result[0])\n",
    "print('p-value: %f' % result[1])"
   ]
  },
  {
   "cell_type": "markdown",
   "id": "1a122080",
   "metadata": {},
   "source": [
    "Null Hypothesis: series is non-stationary\n",
    "p-value is > 0.05 so we cannot reject the null hypothesis.\n",
    "\n",
    "Therefore, the series is non-stationary."
   ]
  },
  {
   "cell_type": "code",
   "execution_count": 281,
   "id": "632d315d",
   "metadata": {},
   "outputs": [],
   "source": [
    "values_sales=DataFrame(series_monthly_time_retail3.SalesTotal.values)"
   ]
  },
  {
   "cell_type": "code",
   "execution_count": 290,
   "id": "73971f38",
   "metadata": {},
   "outputs": [
    {
     "data": {
      "text/html": [
       "<div>\n",
       "<style scoped>\n",
       "    .dataframe tbody tr th:only-of-type {\n",
       "        vertical-align: middle;\n",
       "    }\n",
       "\n",
       "    .dataframe tbody tr th {\n",
       "        vertical-align: top;\n",
       "    }\n",
       "\n",
       "    .dataframe thead th {\n",
       "        text-align: right;\n",
       "    }\n",
       "</style>\n",
       "<table border=\"1\" class=\"dataframe\">\n",
       "  <thead>\n",
       "    <tr style=\"text-align: right;\">\n",
       "      <th></th>\n",
       "      <th>0</th>\n",
       "    </tr>\n",
       "  </thead>\n",
       "  <tbody>\n",
       "    <tr>\n",
       "      <th>0</th>\n",
       "      <td>15647.82</td>\n",
       "    </tr>\n",
       "    <tr>\n",
       "      <th>1</th>\n",
       "      <td>29091.82</td>\n",
       "    </tr>\n",
       "    <tr>\n",
       "      <th>2</th>\n",
       "      <td>9600.84</td>\n",
       "    </tr>\n",
       "    <tr>\n",
       "      <th>3</th>\n",
       "      <td>4082.72</td>\n",
       "    </tr>\n",
       "    <tr>\n",
       "      <th>4</th>\n",
       "      <td>21321.08</td>\n",
       "    </tr>\n",
       "    <tr>\n",
       "      <th>5</th>\n",
       "      <td>6547.42</td>\n",
       "    </tr>\n",
       "    <tr>\n",
       "      <th>6</th>\n",
       "      <td>1013.25</td>\n",
       "    </tr>\n",
       "    <tr>\n",
       "      <th>7</th>\n",
       "      <td>2365.56</td>\n",
       "    </tr>\n",
       "    <tr>\n",
       "      <th>8</th>\n",
       "      <td>8546.32</td>\n",
       "    </tr>\n",
       "    <tr>\n",
       "      <th>9</th>\n",
       "      <td>20509.80</td>\n",
       "    </tr>\n",
       "    <tr>\n",
       "      <th>10</th>\n",
       "      <td>16774.08</td>\n",
       "    </tr>\n",
       "    <tr>\n",
       "      <th>11</th>\n",
       "      <td>19441.10</td>\n",
       "    </tr>\n",
       "    <tr>\n",
       "      <th>12</th>\n",
       "      <td>13754.80</td>\n",
       "    </tr>\n",
       "  </tbody>\n",
       "</table>\n",
       "</div>"
      ],
      "text/plain": [
       "           0\n",
       "0   15647.82\n",
       "1   29091.82\n",
       "2    9600.84\n",
       "3    4082.72\n",
       "4   21321.08\n",
       "5    6547.42\n",
       "6    1013.25\n",
       "7    2365.56\n",
       "8    8546.32\n",
       "9   20509.80\n",
       "10  16774.08\n",
       "11  19441.10\n",
       "12  13754.80"
      ]
     },
     "execution_count": 290,
     "metadata": {},
     "output_type": "execute_result"
    }
   ],
   "source": [
    "values_sales"
   ]
  },
  {
   "cell_type": "code",
   "execution_count": 289,
   "id": "154764b4",
   "metadata": {},
   "outputs": [
    {
     "data": {
      "image/png": "[encoded data removed]",
      "text/plain": [
       "<Figure size 1080x840 with 6 Axes>"
      ]
     },
     "metadata": {
      "needs_background": "light"
     },
     "output_type": "display_data"
    }
   ],
   "source": [
    "from statsmodels.graphics.tsaplots import plot_acf, plot_pacf\n",
    "plt.rcParams.update({'figure.figsize':(9,7), 'figure.dpi':120})\n",
    "# Import data\n",
    "\n",
    "# Original Series\n",
    "fig, axes = plt.subplots(3, 2, sharex=True)\n",
    "axes[0, 0].plot(values_sales); axes[0, 0].set_title('Original Series')\n",
    "\n",
    "\n",
    "plot_acf(values_sales, ax=axes[0, 1])\n",
    "# 1st Differencing\n",
    "axes[1, 0].plot(values_sales.diff()); axes[1, 0].set_title('1st Order Differencing')\n",
    "plot_acf(values_sales.diff().dropna(), ax=axes[1, 1])\n",
    "# 2nd Differencing\n",
    "axes[2, 0].plot(values_sales.diff().diff()); axes[2, 0].set_title('2nd Order Differencing')\n",
    "plot_acf(values_sales.diff().diff().dropna(), ax=axes[2, 1])\n",
    "plt.show()\n"
   ]
  },
  {
   "cell_type": "markdown",
   "id": "b8971248",
   "metadata": {},
   "source": [
    "DIfferencing first order is enough to reach stationarity"
   ]
  },
  {
   "cell_type": "code",
   "execution_count": 294,
   "id": "889be690",
   "metadata": {},
   "outputs": [
    {
     "name": "stdout",
     "output_type": "stream",
     "text": [
      "ADF Statistic: -4.442813\n",
      "p-value: 0.000249\n"
     ]
    }
   ],
   "source": [
    "result = adfuller(values_sales.diff().dropna())\n",
    "print('ADF Statistic: %f' % result[0])\n",
    "print('p-value: %f' % result[1])"
   ]
  },
  {
   "cell_type": "code",
   "execution_count": 298,
   "id": "2d5e90db",
   "metadata": {},
   "outputs": [
    {
     "data": {
      "image/png": "[encoded data removed]",
      "text/plain": [
       "<Figure size 1080x360 with 2 Axes>"
      ]
     },
     "metadata": {
      "needs_background": "light"
     },
     "output_type": "display_data"
    }
   ],
   "source": [
    "# PACF plot of 1st differenced series\n",
    "plt.rcParams.update({'figure.figsize':(9,3), 'figure.dpi':120})\n",
    "fig, axes = plt.subplots(1, 2, sharex=True)\n",
    "axes[0].plot(values_sales.diff()); axes[0].set_title('1st Differencing')\n",
    "axes[1].set(ylim=(0,5))\n",
    "plot_pacf(values_sales.diff().dropna(), lags=5, ax=axes[1])\n",
    "plt.show()"
   ]
  },
  {
   "cell_type": "code",
   "execution_count": 364,
   "id": "2578ba00",
   "metadata": {},
   "outputs": [
    {
     "name": "stdout",
     "output_type": "stream",
     "text": [
      "                               SARIMAX Results                                \n",
      "==============================================================================\n",
      "Dep. Variable:                      0   No. Observations:                   13\n",
      "Model:                 ARIMA(2, 2, 0)   Log Likelihood                -119.392\n",
      "Date:                Fri, 18 Nov 2022   AIC                            244.785\n",
      "Time:                        14:51:13   BIC                            245.978\n",
      "Sample:                             0   HQIC                           244.032\n",
      "                                 - 13                                         \n",
      "Covariance Type:                  opg                                         \n",
      "==============================================================================\n",
      "                 coef    std err          z      P>|z|      [0.025      0.975]\n",
      "------------------------------------------------------------------------------\n",
      "ar.L1         -0.6059      0.250     -2.425      0.015      -1.096      -0.116\n",
      "ar.L2         -0.6559      0.161     -4.078      0.000      -0.971      -0.341\n",
      "sigma2       1.02e+08   2.45e-10   4.17e+17      0.000    1.02e+08    1.02e+08\n",
      "===================================================================================\n",
      "Ljung-Box (L1) (Q):                   0.08   Jarque-Bera (JB):                 0.46\n",
      "Prob(Q):                              0.78   Prob(JB):                         0.80\n",
      "Heteroskedasticity (H):               0.59   Skew:                            -0.02\n",
      "Prob(H) (two-sided):                  0.62   Kurtosis:                         2.00\n",
      "===================================================================================\n",
      "\n",
      "Warnings:\n",
      "[1] Covariance matrix calculated using the outer product of gradients (complex-step).\n",
      "[2] Covariance matrix is singular or near-singular, with condition number 7.2e+33. Standard errors may be unstable.\n"
     ]
    }
   ],
   "source": [
    "from statsmodels.tsa.arima.model import ARIMA\n",
    "from statsmodels.graphics.tsaplots import plot_predict\n",
    "# 1,1,2 ARIMA Model\n",
    "model = ARIMA(values_sales, order=(2,2,0))\n",
    "model_fit = model.fit()\n",
    "print(model_fit.summary())"
   ]
  },
  {
   "cell_type": "code",
   "execution_count": 365,
   "id": "3454028e",
   "metadata": {},
   "outputs": [
    {
     "data": {
      "image/png": "[encoded data removed]",
      "text/plain": [
       "<Figure size 1080x360 with 2 Axes>"
      ]
     },
     "metadata": {
      "needs_background": "light"
     },
     "output_type": "display_data"
    }
   ],
   "source": [
    "residuals = pd.DataFrame(model_fit.resid)\n",
    "fig, ax = plt.subplots(1,2)\n",
    "residuals.plot(title=\"Residuals\", ax=ax[0])\n",
    "residuals.plot(kind='kde', title='Density', ax=ax[1])\n",
    "plt.show()"
   ]
  },
  {
   "cell_type": "code",
   "execution_count": 366,
   "id": "fc070a9a",
   "metadata": {},
   "outputs": [
    {
     "data": {
      "image/png": "[encoded data removed]",
      "text/plain": [
       "<Figure size 1080x360 with 1 Axes>"
      ]
     },
     "metadata": {
      "needs_background": "light"
     },
     "output_type": "display_data"
    }
   ],
   "source": [
    "# Actual vs Fitted\n",
    "plot_predict(model_fit)\n",
    "plt.plot(values_sales)\n",
    "plt.show()"
   ]
  },
  {
   "cell_type": "markdown",
   "id": "86573aed",
   "metadata": {},
   "source": [
    "validating the ARIMA model:"
   ]
  },
  {
   "cell_type": "code",
   "execution_count": null,
   "id": "63a24ea1",
   "metadata": {},
   "outputs": [],
   "source": [
    "from statsmodels.tsa.stattools import acf\n",
    "# Create Training and Test\n",
    "train = df.value[:85]\n",
    "test = df.value[85:]"
   ]
  },
  {
   "cell_type": "code",
   "execution_count": null,
   "id": "757b1ddc",
   "metadata": {},
   "outputs": [],
   "source": [
    "model = ARIMA(train, order=(1, 1, 1)) \n",
    "fitted = model.fit(disp=-1) \n",
    "# Forecast\n",
    "fc, se, conf = fitted.forecast(15, alpha=0.05) # 95% conf\n",
    "# Make as pandas series\n",
    "fc_series = pd.Series(fc, index=test.index)\n",
    "lower_series = pd.Series(conf[:, 0], index=test.index)\n",
    "upper_series = pd.Series(conf[:, 1], index=test.index)\n",
    "# Plot\n",
    "plt.figure(figsize=(12,5), dpi=100)\n",
    "plt.plot(train, label='training')\n",
    "plt.plot(test, label='actual')\n",
    "plt.plot(fc_series, label='forecast')\n",
    "plt.fill_between(lower_series.index, lower_series, upper_series, \n",
    " color='k', alpha=.15)\n",
    "plt.title('Forecast vs Actuals')\n",
    "plt.legend(loc='upper left', fontsize=8)\n",
    "plt.show()\n"
   ]
  },
  {
   "cell_type": "code",
   "execution_count": null,
   "id": "e21a1d39",
   "metadata": {},
   "outputs": [],
   "source": [
    "model = pm.auto_arima(df.value, start_p=1, start_q=1,\n",
    " test='adf', # use adftest to find optimal 'd'\n",
    " max_p=3, max_q=3, # maximum p and q\n",
    " m=1, # frequency of series\n",
    " d=None, # let model determine 'd'\n",
    " seasonal=False, # No Seasonality\n",
    " start_P=0, \n",
    " D=0, \n",
    " trace=True,\n",
    " error_action='ignore',\n",
    " suppress_warnings=True, \n",
    " stepwise=True)\n",
    "print(model.summary())                     "
   ]
  },
  {
   "cell_type": "code",
   "execution_count": null,
   "id": "306a7080",
   "metadata": {},
   "outputs": [],
   "source": [
    "model.plot_diagnostics(figsize=(7,5))\n",
    "plt.show()"
   ]
  },
  {
   "cell_type": "code",
   "execution_count": null,
   "id": "21c6c06e",
   "metadata": {},
   "outputs": [],
   "source": [
    "# Forecast\n",
    "n_periods = 24\n",
    "fc, confint = model.predict(n_periods=n_periods, return_conf_int=True)\n",
    "index_of_fc = np.arange(len(df.value), len(df.value)+n_periods)\n",
    "# make series for plotting purpose\n",
    "fc_series = pd.Series(fc, index=index_of_fc)\n",
    "lower_series = pd.Series(confint[:, 0], index=index_of_fc)\n",
    "upper_series = pd.Series(confint[:, 1], index=index_of_fc)\n",
    "# Plot\n",
    "plt.plot(df.value)\n",
    "plt.plot(fc_series, color='darkgreen')\n",
    "plt.fill_between(lower_series.index, \n",
    " lower_series, \n",
    " upper_series, \n",
    " color='k', alpha=.15)\n",
    "plt.title(\"Final Forecast of WWW Usage\")\n",
    "plt.show()"
   ]
  },
  {
   "cell_type": "markdown",
   "id": "fd7336e4",
   "metadata": {},
   "source": [
    "SARIMA"
   ]
  },
  {
   "cell_type": "code",
   "execution_count": null,
   "id": "ce11afbd",
   "metadata": {},
   "outputs": [],
   "source": [
    "fig, axes = plt.subplots(2, 1, figsize=(10,5), dpi=100, sharex=True)\n",
    "# Usual Differencing\n",
    "axes[0].plot(data[:], label='Original Series')\n",
    "axes[0].plot(data[:].diff(1), label='Usual Differencing')\n",
    "axes[0].set_title('Usual Differencing')\n",
    "axes[0].legend(loc='upper left', fontsize=10)\n",
    "# Seasinal Dei\n",
    "axes[1].plot(data[:], label='Original Series')\n",
    "axes[1].plot(data[:].diff(12), label='Seasonal Differencing', color='green')\n",
    "axes[1].set_title('Seasonal Differencing')\n",
    "plt.legend(loc='upper left', fontsize=10)\n",
    "plt.suptitle('a10 - Drug Sales', fontsize=16)\n",
    "plt.show()"
   ]
  },
  {
   "cell_type": "code",
   "execution_count": null,
   "id": "de42bfc1",
   "metadata": {},
   "outputs": [],
   "source": [
    "# !pip3 install pyramid-arima\n",
    "import pmdarima as pm\n",
    "# Seasonal - fit stepwise auto-ARIMA\n",
    "smodel = pm.auto_arima(data, start_p=1, start_q=1,\n",
    " test='adf',\n",
    " max_p=3, max_q=3, m=12,\n",
    " start_P=0, seasonal=True,\n",
    " d=None, D=1, trace=True,\n",
    " error_action='ignore', \n",
    " suppress_warnings=True, \n",
    " stepwise=True)\n",
    "smodel.summary()"
   ]
  },
  {
   "cell_type": "code",
   "execution_count": null,
   "id": "f9791131",
   "metadata": {},
   "outputs": [],
   "source": [
    "# Forecast\n",
    "n_periods = 24\n",
    "fitted, confint = smodel.predict(n_periods=n_periods, return_conf_int=True)\n",
    "index_of_fc = pd.date_range(data.index[-1], periods = n_periods, freq='MS')\n",
    "# make series for plotting purpose\n",
    "fitted_series = pd.Series(fitted, index=index_of_fc)\n",
    "lower_series = pd.Series(confint[:, 0], index=index_of_fc)\n",
    "upper_series = pd.Series(confint[:, 1], index=index_of_fc)\n",
    "# Plot\n",
    "plt.plot(data)\n",
    "plt.plot(fitted_series, color='darkgreen')\n",
    "plt.fill_between(lower_series.index, \n",
    " lower_series, \n",
    " upper_series, \n",
    " color='k', alpha=.15)\n",
    "plt.title(\"SARIMA - Final Forecast of a10 - Drug Sales\")\n",
    "plt.show()\n"
   ]
  },
  {
   "cell_type": "markdown",
   "id": "3638fc6f",
   "metadata": {},
   "source": [
    "SARIMAX"
   ]
  },
  {
   "cell_type": "code",
   "execution_count": null,
   "id": "b6bbb0d5",
   "metadata": {},
   "outputs": [],
   "source": [
    "# Compute Seasonal Index\n",
    "from statsmodels.tsa.seasonal import seasonal_decompose\n",
    "from dateutil.parser import parse\n",
    "# multiplicative seasonal component\n",
    "result_mul = seasonal_decompose(data['value'][-36:], # 3 years\n",
    " model='multiplicative', \n",
    " extrapolate_trend='freq')\n",
    "seasonal_index = result_mul.seasonal[-12:].to_frame()\n",
    "seasonal_index['month'] = pd.to_datetime(seasonal_index.index).month\n",
    "# merge with the base data\n",
    "data['month'] = data.index.month\n",
    "df = pd.merge(data, seasonal_index, how='left', on='month')\n",
    "df.columns = ['value', 'month', 'seasonal_index']\n",
    "df.index = data.index # reassign the index.\n"
   ]
  },
  {
   "cell_type": "code",
   "execution_count": null,
   "id": "6ef033b3",
   "metadata": {},
   "outputs": [],
   "source": [
    "import pmdarima as pm\n",
    "# SARIMAX Model\n",
    "sxmodel = pm.auto_arima(df[['value']], exogenous=df[['seasonal_index']],\n",
    " start_p=1, start_q=1,\n",
    " test='adf',\n",
    " max_p=3, max_q=3, m=12,\n",
    " start_P=0, seasonal=True,\n",
    " d=None, D=1, trace=True,\n",
    " error_action='ignore', \n",
    " suppress_warnings=True, \n",
    " stepwise=True)\n",
    "sxmodel.summary()"
   ]
  },
  {
   "cell_type": "code",
   "execution_count": null,
   "id": "e3f79c6e",
   "metadata": {},
   "outputs": [],
   "source": [
    "# Forecast\n",
    "n_periods = 24\n",
    "fitted, confint = sxmodel.predict(n_periods=n_periods, \n",
    " exogenous=np.tile(seasonal_index.value, 2).reshape(-1,1), \n",
    " return_conf_int=True)\n",
    "index_of_fc = pd.date_range(data.index[-1], periods = n_periods, freq='MS')\n",
    "# make series for plotting purpose\n",
    "fitted_series = pd.Series(fitted, index=index_of_fc)\n",
    "lower_series = pd.Series(confint[:, 0], index=index_of_fc)\n",
    "upper_series = pd.Series(confint[:, 1], index=index_of_fc)\n",
    "# Plot\n",
    "plt.plot(data['value'])\n",
    "plt.plot(fitted_series, color='darkgreen')\n",
    "plt.fill_between(lower_series.index, \n",
    " lower_series, \n",
    " upper_series, \n",
    " color='k', alpha=.15)\n",
    "plt.title(\"SARIMAX Forecast of a10 - Drug Sales\")\n",
    "plt.show()\n"
   ]
  },
  {
   "cell_type": "code",
   "execution_count": null,
   "id": "25155e86",
   "metadata": {},
   "outputs": [],
   "source": []
  },
  {
   "cell_type": "code",
   "execution_count": 176,
   "id": "b78633b9",
   "metadata": {},
   "outputs": [
    {
     "name": "stdout",
     "output_type": "stream",
     "text": [
      "Test MSE: 81305676.872\n"
     ]
    },
    {
     "data": {
      "image/png": "[encoded data removed]",
      "text/plain": [
       "<Figure size 1152x648 with 1 Axes>"
      ]
     },
     "metadata": {
      "needs_background": "light"
     },
     "output_type": "display_data"
    }
   ],
   "source": [
    "from pandas import DataFrame\n",
    "from pandas import concat\n",
    "from matplotlib import pyplot\n",
    "from sklearn.metrics import mean_squared_error\n",
    "\n",
    "# create lagged dataset\n",
    "values = DataFrame(series_monthly_time_retail.SalesTotal)\n",
    "dataframe = concat([values.shift(1), values], axis=1)\n",
    "dataframe.columns = ['t-1', 't+1']\n",
    "\n",
    "# split into train and test sets\n",
    "X2 = dataframe.values\n",
    "train, test = X2[1:len(X2)-10], X2[len(X2)-10:]\n",
    "train_X, train_y = train[:,0], train[:,1]\n",
    "test_X, test_y = test[:,0], test[:,1]\n",
    "\n",
    "# persistence model\n",
    "def model_persistence(x):\n",
    "    return x\n",
    "\n",
    "# walk-forward validation\n",
    "predictions = list()\n",
    "for x in test_X:\n",
    "    yhat = model_persistence(x)\n",
    "    predictions.append(yhat)\n",
    "\n",
    "test_score = mean_squared_error(test_y, predictions)\n",
    "print('Test MSE: %.3f' % test_score)\n",
    "# plot predictions vs expected\n",
    "plt.plot(test_y)\n",
    "plt.plot(predictions, color='red')\n",
    "plt.show()\n"
   ]
  },
  {
   "cell_type": "code",
   "execution_count": 250,
   "id": "dd777c35",
   "metadata": {},
   "outputs": [],
   "source": [
    "series_monthly_time_retail\n",
    "\n",
    "series_time_retail.index = pd.to_datetime(series_time_retail['InvoiceDate'],format='%m/%d/%Y %H:%M')\n",
    "#series_monthly_time_retail = series_time_retail.groupby(by=[series_time_retail.index.month, series_time_retail.index.year]).sum()\n",
    "series_monthly_time_retail = series_time_retail.groupby(by=[series_time_retail.index.year, series_time_retail.index.month]).sum()\n"
   ]
  },
  {
   "cell_type": "code",
   "execution_count": 253,
   "id": "b49709e3",
   "metadata": {},
   "outputs": [
    {
     "data": {
      "text/html": [
       "<div>\n",
       "<style scoped>\n",
       "    .dataframe tbody tr th:only-of-type {\n",
       "        vertical-align: middle;\n",
       "    }\n",
       "\n",
       "    .dataframe tbody tr th {\n",
       "        vertical-align: top;\n",
       "    }\n",
       "\n",
       "    .dataframe thead th {\n",
       "        text-align: right;\n",
       "    }\n",
       "</style>\n",
       "<table border=\"1\" class=\"dataframe\">\n",
       "  <thead>\n",
       "    <tr style=\"text-align: right;\">\n",
       "      <th></th>\n",
       "      <th></th>\n",
       "      <th>SalesTotal</th>\n",
       "    </tr>\n",
       "    <tr>\n",
       "      <th>InvoiceDate</th>\n",
       "      <th>InvoiceDate</th>\n",
       "      <th></th>\n",
       "    </tr>\n",
       "  </thead>\n",
       "  <tbody>\n",
       "    <tr>\n",
       "      <th>2010</th>\n",
       "      <th>12</th>\n",
       "      <td>15647.82</td>\n",
       "    </tr>\n",
       "    <tr>\n",
       "      <th rowspan=\"12\" valign=\"top\">2011</th>\n",
       "      <th>1</th>\n",
       "      <td>29091.82</td>\n",
       "    </tr>\n",
       "    <tr>\n",
       "      <th>2</th>\n",
       "      <td>9600.84</td>\n",
       "    </tr>\n",
       "    <tr>\n",
       "      <th>3</th>\n",
       "      <td>4082.72</td>\n",
       "    </tr>\n",
       "    <tr>\n",
       "      <th>4</th>\n",
       "      <td>21321.08</td>\n",
       "    </tr>\n",
       "    <tr>\n",
       "      <th>5</th>\n",
       "      <td>6547.42</td>\n",
       "    </tr>\n",
       "    <tr>\n",
       "      <th>6</th>\n",
       "      <td>1013.25</td>\n",
       "    </tr>\n",
       "    <tr>\n",
       "      <th>7</th>\n",
       "      <td>2365.56</td>\n",
       "    </tr>\n",
       "    <tr>\n",
       "      <th>8</th>\n",
       "      <td>8546.32</td>\n",
       "    </tr>\n",
       "    <tr>\n",
       "      <th>9</th>\n",
       "      <td>20509.80</td>\n",
       "    </tr>\n",
       "    <tr>\n",
       "      <th>10</th>\n",
       "      <td>16774.08</td>\n",
       "    </tr>\n",
       "    <tr>\n",
       "      <th>11</th>\n",
       "      <td>19441.10</td>\n",
       "    </tr>\n",
       "    <tr>\n",
       "      <th>12</th>\n",
       "      <td>13754.80</td>\n",
       "    </tr>\n",
       "  </tbody>\n",
       "</table>\n",
       "</div>"
      ],
      "text/plain": [
       "                         SalesTotal\n",
       "InvoiceDate InvoiceDate            \n",
       "2010        12             15647.82\n",
       "2011        1              29091.82\n",
       "            2               9600.84\n",
       "            3               4082.72\n",
       "            4              21321.08\n",
       "            5               6547.42\n",
       "            6               1013.25\n",
       "            7               2365.56\n",
       "            8               8546.32\n",
       "            9              20509.80\n",
       "            10             16774.08\n",
       "            11             19441.10\n",
       "            12             13754.80"
      ]
     },
     "execution_count": 253,
     "metadata": {},
     "output_type": "execute_result"
    }
   ],
   "source": [
    "series_monthly_time_retail"
   ]
  },
  {
   "cell_type": "code",
   "execution_count": 254,
   "id": "289c57aa",
   "metadata": {},
   "outputs": [
    {
     "ename": "AttributeError",
     "evalue": "'DataFrame' object has no attribute 'InvoiceDate'",
     "output_type": "error",
     "traceback": [
      "\u001b[1;31m---------------------------------------------------------------------------\u001b[0m",
      "\u001b[1;31mAttributeError\u001b[0m                            Traceback (most recent call last)",
      "\u001b[1;32m~\\AppData\\Local\\Temp/ipykernel_11348/1697183643.py\u001b[0m in \u001b[0;36m<module>\u001b[1;34m\u001b[0m\n\u001b[1;32m----> 1\u001b[1;33m \u001b[0mseries_monthly_time_retail\u001b[0m\u001b[1;33m.\u001b[0m\u001b[0mInvoiceDate\u001b[0m \u001b[1;33m=\u001b[0m \u001b[0mseries_monthly_time_retail\u001b[0m\u001b[1;33m.\u001b[0m\u001b[0mInvoiceDate\u001b[0m\u001b[1;33m.\u001b[0m\u001b[0mto_flat_index\u001b[0m\u001b[1;33m(\u001b[0m\u001b[1;33m)\u001b[0m\u001b[1;33m\u001b[0m\u001b[1;33m\u001b[0m\u001b[0m\n\u001b[0m",
      "\u001b[1;32m~\\anaconda3\\envs\\humans\\lib\\site-packages\\pandas\\core\\generic.py\u001b[0m in \u001b[0;36m__getattr__\u001b[1;34m(self, name)\u001b[0m\n\u001b[0;32m   5573\u001b[0m         ):\n\u001b[0;32m   5574\u001b[0m             \u001b[1;32mreturn\u001b[0m \u001b[0mself\u001b[0m\u001b[1;33m[\u001b[0m\u001b[0mname\u001b[0m\u001b[1;33m]\u001b[0m\u001b[1;33m\u001b[0m\u001b[1;33m\u001b[0m\u001b[0m\n\u001b[1;32m-> 5575\u001b[1;33m         \u001b[1;32mreturn\u001b[0m \u001b[0mobject\u001b[0m\u001b[1;33m.\u001b[0m\u001b[0m__getattribute__\u001b[0m\u001b[1;33m(\u001b[0m\u001b[0mself\u001b[0m\u001b[1;33m,\u001b[0m \u001b[0mname\u001b[0m\u001b[1;33m)\u001b[0m\u001b[1;33m\u001b[0m\u001b[1;33m\u001b[0m\u001b[0m\n\u001b[0m\u001b[0;32m   5576\u001b[0m \u001b[1;33m\u001b[0m\u001b[0m\n\u001b[0;32m   5577\u001b[0m     \u001b[1;32mdef\u001b[0m \u001b[0m__setattr__\u001b[0m\u001b[1;33m(\u001b[0m\u001b[0mself\u001b[0m\u001b[1;33m,\u001b[0m \u001b[0mname\u001b[0m\u001b[1;33m:\u001b[0m \u001b[0mstr\u001b[0m\u001b[1;33m,\u001b[0m \u001b[0mvalue\u001b[0m\u001b[1;33m)\u001b[0m \u001b[1;33m->\u001b[0m \u001b[1;32mNone\u001b[0m\u001b[1;33m:\u001b[0m\u001b[1;33m\u001b[0m\u001b[1;33m\u001b[0m\u001b[0m\n",
      "\u001b[1;31mAttributeError\u001b[0m: 'DataFrame' object has no attribute 'InvoiceDate'"
     ]
    }
   ],
   "source": [
    "series_monthly_time_retail.columns = series_monthly_time_retail.columns.to_flat_index()"
   ]
  },
  {
   "cell_type": "code",
   "execution_count": 212,
   "id": "67b6bc8c",
   "metadata": {},
   "outputs": [
    {
     "name": "stdout",
     "output_type": "stream",
     "text": [
      "Coefficients: const            10815.757760\n",
      "SalesTotal.L1        0.012140\n",
      "SalesTotal.L2       -0.372338\n",
      "SalesTotal.L3        0.178548\n",
      "dtype: float64\n"
     ]
    },
    {
     "name": "stderr",
     "output_type": "stream",
     "text": [
      "C:\\Users\\Susy\\anaconda3\\envs\\humans\\lib\\site-packages\\statsmodels\\tsa\\base\\tsa_model.py:590: ValueWarning: An unsupported index was provided and will be ignored when e.g. forecasting.\n",
      "  warnings.warn('An unsupported index was provided and will be'\n"
     ]
    }
   ],
   "source": [
    "from statsmodels.tsa.ar_model import AutoReg\n",
    "from math import sqrt\n",
    "\n",
    "# split dataset\n",
    "X3 = series_monthly_time_retail.SalesTotal\n",
    "train3, test3 = X3[0:len(X3)-3], X3[len(X3)-3:]\n",
    "\n",
    "# train autoregression\n",
    "model3 = AutoReg(train3, lags=3)\n",
    "model_fit3 = model3.fit()\n",
    "print('Coefficients: %s' % model_fit3.params)\n",
    "\n",
    "\n"
   ]
  },
  {
   "cell_type": "code",
   "execution_count": 213,
   "id": "5b9715f6",
   "metadata": {},
   "outputs": [
    {
     "name": "stderr",
     "output_type": "stream",
     "text": [
      "C:\\Users\\Susy\\anaconda3\\envs\\humans\\lib\\site-packages\\statsmodels\\tsa\\base\\tsa_model.py:390: ValueWarning: No supported index is available. Prediction results will be given with an integer index beginning at `start`.\n",
      "  warnings.warn('No supported index is available.'\n"
     ]
    }
   ],
   "source": [
    "# make predictions\n",
    "predictions3 = model_fit3.predict(start=len(train3), end=len(train3)+len(test3)-1, dynamic=False)\n"
   ]
  },
  {
   "cell_type": "code",
   "execution_count": 220,
   "id": "410e9e2d",
   "metadata": {},
   "outputs": [
    {
     "data": {
      "text/plain": [
       "InvoiceDate  InvoiceDate\n",
       "2010         12             15647.82\n",
       "2011         1              29091.82\n",
       "             2               9600.84\n",
       "             3               4082.72\n",
       "             4              21321.08\n",
       "             5               6547.42\n",
       "             6               1013.25\n",
       "             7               2365.56\n",
       "             8               8546.32\n",
       "             9              20509.80\n",
       "Name: SalesTotal, dtype: float64"
      ]
     },
     "execution_count": 220,
     "metadata": {},
     "output_type": "execute_result"
    }
   ],
   "source": [
    "train3"
   ]
  },
  {
   "cell_type": "code",
   "execution_count": 219,
   "id": "318aaaf9",
   "metadata": {},
   "outputs": [
    {
     "data": {
      "text/plain": [
       "InvoiceDate  InvoiceDate\n",
       "2011         10             16774.08\n",
       "             11             19441.10\n",
       "             12             13754.80\n",
       "Name: SalesTotal, dtype: float64"
      ]
     },
     "execution_count": 219,
     "metadata": {},
     "output_type": "execute_result"
    }
   ],
   "source": [
    "test3"
   ]
  },
  {
   "cell_type": "code",
   "execution_count": 217,
   "id": "75715573",
   "metadata": {},
   "outputs": [
    {
     "data": {
      "text/plain": [
       "8304.99902023769"
      ]
     },
     "execution_count": 217,
     "metadata": {},
     "output_type": "execute_result"
    }
   ],
   "source": [
    "predictions3[10]"
   ]
  },
  {
   "cell_type": "code",
   "execution_count": 222,
   "id": "9a001524",
   "metadata": {},
   "outputs": [
    {
     "name": "stdout",
     "output_type": "stream",
     "text": [
      "predicted=8304.999020, expected=16774.080000\n",
      "predicted=4805.927297, expected=19441.100000\n",
      "predicted=11443.809491, expected=13754.800000\n",
      "Test RMSE: 9853.160\n"
     ]
    },
    {
     "data": {
      "image/png": "[encoded data removed]",
      "text/plain": [
       "<Figure size 1152x648 with 1 Axes>"
      ]
     },
     "metadata": {
      "needs_background": "light"
     },
     "output_type": "display_data"
    }
   ],
   "source": [
    "for i3 in [10,11,12]:\n",
    "    print('predicted=%f, expected=%f' % (predictions3[i3], test3[2011][i3]))\n",
    "rmse3 = sqrt(mean_squared_error(test3, predictions3))\n",
    "print('Test RMSE: %.3f' % rmse3)\n",
    "\n",
    "# plot results\n",
    "plt.plot(test3[2011])\n",
    "plt.plot(predictions3, color='red')\n",
    "plt.show()"
   ]
  },
  {
   "cell_type": "code",
   "execution_count": 174,
   "id": "38609653",
   "metadata": {},
   "outputs": [
    {
     "data": {
      "image/png": "[encoded data removed]",
      "text/plain": [
       "<Figure size 1152x648 with 1 Axes>"
      ]
     },
     "metadata": {
      "needs_background": "light"
     },
     "output_type": "display_data"
    }
   ],
   "source": [
    "from statsmodels.graphics.tsaplots import plot_acf\n",
    "plot_acf(series_monthly_time_retail, lags=12)\n",
    "plt.show()"
   ]
  },
  {
   "cell_type": "code",
   "execution_count": 172,
   "id": "414f1ffa",
   "metadata": {},
   "outputs": [
    {
     "data": {
      "image/png": "[encoded data removed]",
      "text/plain": [
       "<Figure size 1152x648 with 1 Axes>"
      ]
     },
     "metadata": {
      "needs_background": "light"
     },
     "output_type": "display_data"
    }
   ],
   "source": [
    "\n",
    "from pandas.plotting import autocorrelation_plot\n",
    "autocorrelation_plot(series_monthly_time_retail)\n",
    "plt.show()"
   ]
  },
  {
   "cell_type": "code",
   "execution_count": 170,
   "id": "a0b3b292",
   "metadata": {},
   "outputs": [
    {
     "data": {
      "image/png": "[encoded data removed]",
      "text/plain": [
       "<Figure size 1152x648 with 1 Axes>"
      ]
     },
     "metadata": {
      "needs_background": "light"
     },
     "output_type": "display_data"
    }
   ],
   "source": [
    "\n",
    "from pandas.plotting import lag_plot\n",
    "lag_plot(series_monthly_time_retail)\n",
    "plt.show()"
   ]
  },
  {
   "cell_type": "code",
   "execution_count": 143,
   "id": "0d32eaac",
   "metadata": {},
   "outputs": [],
   "source": [
    "from sklearn.model_selection import ParameterGrid\n",
    "\n",
    "from statsmodels.tsa.api import SimpleExpSmoothing\n",
    "from statsmodels.tsa.api import Holt\n",
    "from statsmodels.tsa.api import ExponentialSmoothing\n",
    "from sklearn.metrics import r2_score, mean_absolute_error, mean_squared_error\n"
   ]
  },
  {
   "cell_type": "code",
   "execution_count": 128,
   "id": "74be89dc",
   "metadata": {},
   "outputs": [
    {
     "data": {
      "text/plain": [
       "(13, 1)"
      ]
     },
     "execution_count": 128,
     "metadata": {},
     "output_type": "execute_result"
    }
   ],
   "source": [
    "series_monthly_time_retail.shape"
   ]
  },
  {
   "cell_type": "code",
   "execution_count": 167,
   "id": "467a0157",
   "metadata": {},
   "outputs": [
    {
     "data": {
      "text/html": [
       "<div>\n",
       "<style scoped>\n",
       "    .dataframe tbody tr th:only-of-type {\n",
       "        vertical-align: middle;\n",
       "    }\n",
       "\n",
       "    .dataframe tbody tr th {\n",
       "        vertical-align: top;\n",
       "    }\n",
       "\n",
       "    .dataframe thead th {\n",
       "        text-align: right;\n",
       "    }\n",
       "</style>\n",
       "<table border=\"1\" class=\"dataframe\">\n",
       "  <thead>\n",
       "    <tr style=\"text-align: right;\">\n",
       "      <th></th>\n",
       "      <th></th>\n",
       "      <th>SalesTotal</th>\n",
       "    </tr>\n",
       "    <tr>\n",
       "      <th>InvoiceDate</th>\n",
       "      <th>InvoiceDate</th>\n",
       "      <th></th>\n",
       "    </tr>\n",
       "  </thead>\n",
       "  <tbody>\n",
       "    <tr>\n",
       "      <th>2010</th>\n",
       "      <th>12</th>\n",
       "      <td>15647.82</td>\n",
       "    </tr>\n",
       "    <tr>\n",
       "      <th rowspan=\"4\" valign=\"top\">2011</th>\n",
       "      <th>1</th>\n",
       "      <td>29091.82</td>\n",
       "    </tr>\n",
       "    <tr>\n",
       "      <th>2</th>\n",
       "      <td>9600.84</td>\n",
       "    </tr>\n",
       "    <tr>\n",
       "      <th>3</th>\n",
       "      <td>4082.72</td>\n",
       "    </tr>\n",
       "    <tr>\n",
       "      <th>4</th>\n",
       "      <td>21321.08</td>\n",
       "    </tr>\n",
       "  </tbody>\n",
       "</table>\n",
       "</div>"
      ],
      "text/plain": [
       "                         SalesTotal\n",
       "InvoiceDate InvoiceDate            \n",
       "2010        12             15647.82\n",
       "2011        1              29091.82\n",
       "            2               9600.84\n",
       "            3               4082.72\n",
       "            4              21321.08"
      ]
     },
     "execution_count": 167,
     "metadata": {},
     "output_type": "execute_result"
    }
   ],
   "source": [
    "series_monthly_time_retail.head()"
   ]
  },
  {
   "cell_type": "code",
   "execution_count": 168,
   "id": "035cb63a",
   "metadata": {},
   "outputs": [
    {
     "ename": "TypeError",
     "evalue": "list indices must be integers or slices, not str",
     "output_type": "error",
     "traceback": [
      "\u001b[1;31m---------------------------------------------------------------------------\u001b[0m",
      "\u001b[1;31mTypeError\u001b[0m                                 Traceback (most recent call last)",
      "\u001b[1;32m~\\AppData\\Local\\Temp/ipykernel_11348/3358868900.py\u001b[0m in \u001b[0;36m<module>\u001b[1;34m\u001b[0m\n\u001b[1;32m----> 1\u001b[1;33m \u001b[0mts\u001b[0m \u001b[1;33m=\u001b[0m \u001b[0mseries_monthly_time_retail\u001b[0m\u001b[1;33m.\u001b[0m\u001b[0mset_index\u001b[0m\u001b[1;33m(\u001b[0m\u001b[1;33m[\u001b[0m\u001b[1;34m'InvoiceDate'\u001b[0m\u001b[1;33m]\u001b[0m\u001b[1;33m[\u001b[0m\u001b[1;34m'InvoiceDate'\u001b[0m\u001b[1;33m]\u001b[0m\u001b[1;33m)\u001b[0m\u001b[1;33m\u001b[0m\u001b[1;33m\u001b[0m\u001b[0m\n\u001b[0m",
      "\u001b[1;31mTypeError\u001b[0m: list indices must be integers or slices, not str"
     ]
    }
   ],
   "source": [
    "ts = series_monthly_time_retail.set_index(['InvoiceDate']['InvoiceDate'])"
   ]
  },
  {
   "cell_type": "code",
   "execution_count": 137,
   "id": "734b9863",
   "metadata": {},
   "outputs": [],
   "source": [
    "X = series_monthly_time_retail['SalesTotal']\n",
    "\n",
    "trainX = X.iloc[-12:]\n",
    "testX = X.iloc[:-12]"
   ]
  },
  {
   "cell_type": "code",
   "execution_count": 138,
   "id": "b69a774d",
   "metadata": {},
   "outputs": [
    {
     "data": {
      "text/plain": [
       "InvoiceDate  InvoiceDate\n",
       "2010         12             15647.82\n",
       "Name: SalesTotal, dtype: float64"
      ]
     },
     "execution_count": 138,
     "metadata": {},
     "output_type": "execute_result"
    }
   ],
   "source": [
    "testX"
   ]
  },
  {
   "cell_type": "raw",
   "id": "d94296f1",
   "metadata": {},
   "source": []
  },
  {
   "cell_type": "code",
   "execution_count": 131,
   "id": "1a884fa4",
   "metadata": {},
   "outputs": [],
   "source": [
    "def mean_absolute_percentage_error_func(y_true, y_pred):\n",
    "    '''\n",
    "    Calculate the mean absolute percentage error as a metric for evaluation\n",
    "    \n",
    "    Args:\n",
    "        y_true (float64): Y values for the dependent variable (test part), numpy array of floats \n",
    "        y_pred (float64): Predicted values for the dependen variable (test parrt), numpy array of floats\n",
    "    \n",
    "    Returns:\n",
    "        Mean absolute percentage error \n",
    "    '''    \n",
    "    y_true, y_pred = np.array(y_true), np.array(y_pred)\n",
    "    return np.mean(np.abs((y_true - y_pred) / y_true)) * 100"
   ]
  },
  {
   "cell_type": "code",
   "execution_count": 147,
   "id": "a6a71067",
   "metadata": {},
   "outputs": [],
   "source": [
    "def timeseries_evaluation_metrics_func(y_true, y_pred):\n",
    "    '''\n",
    "    Calculate the following evaluation metrics:\n",
    "        - MSE\n",
    "        - MAE\n",
    "        - RMSE\n",
    "        - MAPE\n",
    "        - R²\n",
    "    \n",
    "    Args:\n",
    "        y_true (float64): Y values for the dependent variable (test part), numpy array of floats \n",
    "        y_pred (float64): Predicted values for the dependen variable (test parrt), numpy array of floats\n",
    "    \n",
    "    Returns:\n",
    "        MSE, MAE, RMSE, MAPE and R² \n",
    "    '''    \n",
    "    print('Evaluation metric results: ')\n",
    "    print(f'MSE is : {mean_squared_error(y_true, y_pred)}')\n",
    "    print(f'MAE is : {mean_absolute_error(y_true, y_pred)}')\n",
    "    print(f'RMSE is : {np.sqrt(mean_squared_error(y_true, y_pred))}')\n",
    "    print(f'MAPE is : {mean_absolute_percentage_error_func(y_true, y_pred)}')\n",
    "    print(f'R2 is : {r2_score(y_true, y_pred)}',end='\\n\\n')\n",
    "#\n",
    "# 4 Simple Exponential Smoothing\n",
    "# Simple Exponential Smoothing is one of the minimal models of the exponential smoothing algorithms. This method can be used to predict series that do not have trends or seasonality.\n",
    "\n",
    "# Assume that a time series has the following:\n",
    "\n",
    "# Level\n",
    "# No trends\n",
    "# No seasonality\n",
    "# Noise\n",
    "# 4.1 Searching for best parameters for SES\n",
    "# In the Simple Exponential Smoothing function we have the following parameter that we can set:\n",
    "\n",
    "#smooting_level(float, optional)\n",
    "# To find out which value fits best for this we perform a for-loop.\n",
    "\n"
   ]
  },
  {
   "cell_type": "code",
   "execution_count": 148,
   "id": "c47dc865",
   "metadata": {
    "scrolled": false
   },
   "outputs": [
    {
     "name": "stdout",
     "output_type": "stream",
     "text": [
      "Fitting for smoothing level= 0\n",
      "Evaluation metric results: \n",
      "MSE is : 8373769.350719552\n",
      "MAE is : 2893.746594074808\n",
      "RMSE is : 2893.746594074808\n",
      "MAPE is : 18.492969589852184\n",
      "R2 is : nan\n",
      "\n",
      "Fitting for smoothing level= 0.1\n",
      "Evaluation metric results: \n",
      "MSE is : 6778796.182967856\n",
      "MAE is : 2603.6121414234985\n",
      "RMSE is : 2603.6121414234985\n",
      "MAPE is : 16.638817045591644\n",
      "R2 is : nan\n",
      "\n",
      "Fitting for smoothing level= 0.2\n",
      "Evaluation metric results: \n",
      "MSE is : 3500559.276786317\n",
      "MAE is : 1870.9781604247328\n",
      "RMSE is : 1870.9781604247328\n",
      "MAPE is : 11.95679756301346\n",
      "R2 is : nan\n",
      "\n",
      "Fitting for smoothing level= 0.3\n",
      "Evaluation metric results: \n",
      "MSE is : 1092876.586953291\n",
      "MAE is : 1045.4073784670218\n",
      "RMSE is : 1045.4073784670218\n",
      "MAPE is : 6.680849974418301\n",
      "R2 is : nan\n",
      "\n",
      "Fitting for smoothing level= 0.4\n",
      "Evaluation metric results: \n",
      "MSE is : 177348.24519251936\n",
      "MAE is : 421.1273503259072\n",
      "RMSE is : 421.1273503259072\n",
      "MAPE is : 2.691284474935852\n",
      "R2 is : nan\n",
      "\n",
      "Fitting for smoothing level= 0.5\n",
      "Evaluation metric results: \n",
      "MSE is : 17398.786579238436\n",
      "MAE is : 131.90446004301157\n",
      "RMSE is : 131.90446004301157\n",
      "MAPE is : 0.8429574218198547\n",
      "R2 is : nan\n",
      "\n",
      "Fitting for smoothing level= 0.6\n",
      "Evaluation metric results: \n",
      "MSE is : 27469.686443698225\n",
      "MAE is : 165.73981550520148\n",
      "RMSE is : 165.73981550520148\n",
      "MAPE is : 1.0591878964942176\n",
      "R2 is : nan\n",
      "\n",
      "Fitting for smoothing level= 0.7\n",
      "Evaluation metric results: \n",
      "MSE is : 191233.38004704332\n",
      "MAE is : 437.3023897111052\n",
      "RMSE is : 437.3023897111052\n",
      "MAPE is : 2.794653758230253\n",
      "R2 is : nan\n",
      "\n",
      "Fitting for smoothing level= 0.8\n",
      "Evaluation metric results: \n",
      "MSE is : 728735.7700391035\n",
      "MAE is : 853.6602193139279\n",
      "RMSE is : 853.6602193139279\n",
      "MAPE is : 5.455457816577184\n",
      "R2 is : nan\n",
      "\n",
      "Fitting for smoothing level= 0.9\n",
      "Evaluation metric results: \n",
      "MSE is : 1818676.9258047538\n",
      "MAE is : 1348.5833032500268\n",
      "RMSE is : 1348.5833032500268\n",
      "MAPE is : 8.618346218514954\n",
      "R2 is : nan\n",
      "\n",
      "Fitting for smoothing level= 1\n",
      "Evaluation metric results: \n",
      "MSE is : 3583524.720400002\n",
      "MAE is : 1893.0200000000004\n",
      "RMSE is : 1893.0200000000004\n",
      "MAPE is : 12.097659610092656\n",
      "R2 is : nan\n",
      "\n"
     ]
    }
   ],
   "source": [
    "resu = []\n",
    "temp_df = pd.DataFrame()\n",
    "for i in [0 , 0.10, 0.20, 0.30, 0.40, 0.50, 0.60, 0.70, 0.80, 0.90,1]:\n",
    "    print(f'Fitting for smoothing level= {i}')\n",
    "    fit_v = SimpleExpSmoothing(np.asarray(trainX)).fit(i)\n",
    "    fcst_pred_v= fit_v.forecast(len(testX))   \n",
    "    timeseries_evaluation_metrics_func(testX, fcst_pred_v)"
   ]
  },
  {
   "cell_type": "markdown",
   "id": "aab5e86c",
   "metadata": {},
   "source": [
    "ideal smoothing value is 0.5"
   ]
  },
  {
   "cell_type": "code",
   "execution_count": 149,
   "id": "e6867021",
   "metadata": {},
   "outputs": [],
   "source": [
    "resu = []\n",
    "temp_df = pd.DataFrame()\n",
    "for i in [0 , 0.10, 0.20, 0.30, 0.40, 0.50, 0.60, 0.70, 0.80, 0.90,1]:\n",
    "    fit_v = SimpleExpSmoothing(np.asarray(trainX)).fit(i)\n",
    "    fcst_pred_v= fit_v.forecast(len(testX))   \n",
    "    rmse = np.sqrt(mean_squared_error(testX, fcst_pred_v))\n",
    "    df3 = {'smoothing parameter':i, 'RMSE': rmse}\n",
    "    temp_df = temp_df.append(df3, ignore_index=True)"
   ]
  },
  {
   "cell_type": "code",
   "execution_count": 150,
   "id": "d0b90822",
   "metadata": {},
   "outputs": [
    {
     "name": "stdout",
     "output_type": "stream",
     "text": [
      "Evaluation metric results: \n",
      "MSE is : 16763.40894975929\n",
      "MAE is : 129.4735839843761\n",
      "RMSE is : 129.4735839843761\n",
      "MAPE is : 0.8274225034821215\n",
      "R2 is : nan\n",
      "\n"
     ]
    }
   ],
   "source": [
    "SES = SimpleExpSmoothing(np.asarray(trainX))\n",
    "fit_SES = SES.fit(smoothing_level = .5, optimized=False)\n",
    "\n",
    "fcst_gs_pred = fit_SES.forecast(len(testX))\n",
    "timeseries_evaluation_metrics_func(testX, fcst_gs_pred)\n"
   ]
  },
  {
   "cell_type": "code",
   "execution_count": 151,
   "id": "3e79fa59",
   "metadata": {},
   "outputs": [
    {
     "name": "stdout",
     "output_type": "stream",
     "text": [
      "Evaluation metric results: \n",
      "MSE is : 523240.73315811984\n",
      "MAE is : 723.3538091128848\n",
      "RMSE is : 723.3538091128848\n",
      "MAPE is : 4.6227129984424975\n",
      "R2 is : nan\n",
      "\n"
     ]
    },
    {
     "name": "stderr",
     "output_type": "stream",
     "text": [
      "C:\\Users\\Susy\\anaconda3\\envs\\humans\\lib\\site-packages\\statsmodels\\tsa\\holtwinters\\model.py:915: ConvergenceWarning: Optimization failed to converge. Check mle_retvals.\n",
      "  warnings.warn(\n"
     ]
    }
   ],
   "source": [
    "SES = SimpleExpSmoothing(np.asarray(trainX))\n",
    "fit_SES_auto = SES.fit(optimized= True, use_brute = True)\n",
    "\n",
    "fcst_auto_pred = fit_SES_auto.forecast(len(testX))\n",
    "timeseries_evaluation_metrics_func(testX, fcst_auto_pred)"
   ]
  },
  {
   "cell_type": "code",
   "execution_count": 152,
   "id": "ba42c75e",
   "metadata": {},
   "outputs": [
    {
     "data": {
      "text/html": [
       "<table class=\"simpletable\">\n",
       "<caption>SimpleExpSmoothing Model Results</caption>\n",
       "<tr>\n",
       "  <th>Dep. Variable:</th>           <td>endog</td>       <th>  No. Observations:  </th>        <td>12</td>       \n",
       "</tr>\n",
       "<tr>\n",
       "  <th>Model:</th>            <td>SimpleExpSmoothing</td> <th>  SSE                </th>  <td>1127447894.794</td> \n",
       "</tr>\n",
       "<tr>\n",
       "  <th>Optimized:</th>               <td>True</td>        <th>  AIC                </th>      <td>224.300</td>    \n",
       "</tr>\n",
       "<tr>\n",
       "  <th>Trend:</th>                   <td>None</td>        <th>  BIC                </th>      <td>225.270</td>    \n",
       "</tr>\n",
       "<tr>\n",
       "  <th>Seasonal:</th>                <td>None</td>        <th>  AICC               </th>      <td>230.014</td>    \n",
       "</tr>\n",
       "<tr>\n",
       "  <th>Seasonal Periods:</th>        <td>None</td>        <th>  Date:              </th> <td>Thu, 17 Nov 2022</td>\n",
       "</tr>\n",
       "<tr>\n",
       "  <th>Box-Cox:</th>                 <td>False</td>       <th>  Time:              </th>     <td>17:21:39</td>    \n",
       "</tr>\n",
       "<tr>\n",
       "  <th>Box-Cox Coeff.:</th>          <td>None</td>        <th>                     </th>         <td> </td>       \n",
       "</tr>\n",
       "</table>\n",
       "<table class=\"simpletable\">\n",
       "<tr>\n",
       "         <td></td>                 <th>coeff</th>                <th>code</th>               <th>optimized</th>     \n",
       "</tr>\n",
       "<tr>\n",
       "  <th>smoothing_level</th> <td>           0.7711770</td> <td>               alpha</td> <td>                True</td>\n",
       "</tr>\n",
       "<tr>\n",
       "  <th>initial_level</th>   <td>           26288.337</td> <td>                 l.0</td> <td>                True</td>\n",
       "</tr>\n",
       "</table>"
      ],
      "text/plain": [
       "<class 'statsmodels.iolib.summary.Summary'>\n",
       "\"\"\"\n",
       "                       SimpleExpSmoothing Model Results                       \n",
       "==============================================================================\n",
       "Dep. Variable:                  endog   No. Observations:                   12\n",
       "Model:             SimpleExpSmoothing   SSE                     1127447894.794\n",
       "Optimized:                       True   AIC                            224.300\n",
       "Trend:                           None   BIC                            225.270\n",
       "Seasonal:                        None   AICC                           230.014\n",
       "Seasonal Periods:                None   Date:                 Thu, 17 Nov 2022\n",
       "Box-Cox:                        False   Time:                         17:21:39\n",
       "Box-Cox Coeff.:                  None                                         \n",
       "==============================================================================\n",
       "                       coeff                 code              optimized      \n",
       "------------------------------------------------------------------------------\n",
       "smoothing_level            0.7711770                alpha                 True\n",
       "initial_level              26288.337                  l.0                 True\n",
       "------------------------------------------------------------------------------\n",
       "\"\"\""
      ]
     },
     "execution_count": 152,
     "metadata": {},
     "output_type": "execute_result"
    }
   ],
   "source": [
    "fit_SES_auto.summary()"
   ]
  },
  {
   "cell_type": "code",
   "execution_count": 153,
   "id": "66416106",
   "metadata": {},
   "outputs": [
    {
     "data": {
      "text/html": [
       "<table class=\"simpletable\">\n",
       "<caption>SimpleExpSmoothing Model Results</caption>\n",
       "<tr>\n",
       "  <th>Dep. Variable:</th>           <td>endog</td>       <th>  No. Observations:  </th>        <td>12</td>       \n",
       "</tr>\n",
       "<tr>\n",
       "  <th>Model:</th>            <td>SimpleExpSmoothing</td> <th>  SSE                </th>  <td>1188523101.010</td> \n",
       "</tr>\n",
       "<tr>\n",
       "  <th>Optimized:</th>               <td>False</td>       <th>  AIC                </th>      <td>224.933</td>    \n",
       "</tr>\n",
       "<tr>\n",
       "  <th>Trend:</th>                   <td>None</td>        <th>  BIC                </th>      <td>225.903</td>    \n",
       "</tr>\n",
       "<tr>\n",
       "  <th>Seasonal:</th>                <td>None</td>        <th>  AICC               </th>      <td>230.647</td>    \n",
       "</tr>\n",
       "<tr>\n",
       "  <th>Seasonal Periods:</th>        <td>None</td>        <th>  Date:              </th> <td>Thu, 17 Nov 2022</td>\n",
       "</tr>\n",
       "<tr>\n",
       "  <th>Box-Cox:</th>                 <td>False</td>       <th>  Time:              </th>     <td>17:22:07</td>    \n",
       "</tr>\n",
       "<tr>\n",
       "  <th>Box-Cox Coeff.:</th>          <td>None</td>        <th>                     </th>         <td> </td>       \n",
       "</tr>\n",
       "</table>\n",
       "<table class=\"simpletable\">\n",
       "<tr>\n",
       "         <td></td>                 <th>coeff</th>                <th>code</th>               <th>optimized</th>     \n",
       "</tr>\n",
       "<tr>\n",
       "  <th>smoothing_level</th> <td>           0.5000000</td> <td>               alpha</td> <td>               False</td>\n",
       "</tr>\n",
       "<tr>\n",
       "  <th>initial_level</th>   <td>           29091.820</td> <td>                 l.0</td> <td>               False</td>\n",
       "</tr>\n",
       "</table>"
      ],
      "text/plain": [
       "<class 'statsmodels.iolib.summary.Summary'>\n",
       "\"\"\"\n",
       "                       SimpleExpSmoothing Model Results                       \n",
       "==============================================================================\n",
       "Dep. Variable:                  endog   No. Observations:                   12\n",
       "Model:             SimpleExpSmoothing   SSE                     1188523101.010\n",
       "Optimized:                      False   AIC                            224.933\n",
       "Trend:                           None   BIC                            225.903\n",
       "Seasonal:                        None   AICC                           230.647\n",
       "Seasonal Periods:                None   Date:                 Thu, 17 Nov 2022\n",
       "Box-Cox:                        False   Time:                         17:22:07\n",
       "Box-Cox Coeff.:                  None                                         \n",
       "==============================================================================\n",
       "                       coeff                 code              optimized      \n",
       "------------------------------------------------------------------------------\n",
       "smoothing_level            0.5000000                alpha                False\n",
       "initial_level              29091.820                  l.0                False\n",
       "------------------------------------------------------------------------------\n",
       "\"\"\""
      ]
     },
     "execution_count": 153,
     "metadata": {},
     "output_type": "execute_result"
    }
   ],
   "source": [
    "fit_SES.summary()"
   ]
  },
  {
   "cell_type": "code",
   "execution_count": 154,
   "id": "c57c6f18",
   "metadata": {},
   "outputs": [],
   "source": [
    "df_fcst_gs_pred = pd.DataFrame(fcst_gs_pred, columns=['Close_grid_Search'])\n",
    "df_fcst_gs_pred[\"new_index\"] = range(len(trainX), len(X))\n",
    "df_fcst_gs_pred = df_fcst_gs_pred.set_index(\"new_index\")"
   ]
  },
  {
   "cell_type": "code",
   "execution_count": 155,
   "id": "925a42c0",
   "metadata": {},
   "outputs": [],
   "source": [
    "df_fcst_auto_pred = pd.DataFrame(fcst_auto_pred, columns=['Close_auto_search'])\n",
    "df_fcst_auto_pred[\"new_index\"] = range(len(trainX), len(X))\n",
    "df_fcst_auto_pred = df_fcst_auto_pred.set_index(\"new_index\")"
   ]
  },
  {
   "cell_type": "code",
   "execution_count": 163,
   "id": "f2336f53",
   "metadata": {},
   "outputs": [
    {
     "ename": "ValueError",
     "evalue": "setting an array element with a sequence.",
     "output_type": "error",
     "traceback": [
      "\u001b[1;31m---------------------------------------------------------------------------\u001b[0m",
      "\u001b[1;31mTypeError\u001b[0m                                 Traceback (most recent call last)",
      "\u001b[1;31mTypeError\u001b[0m: float() argument must be a string or a number, not 'tuple'",
      "\nThe above exception was the direct cause of the following exception:\n",
      "\u001b[1;31mValueError\u001b[0m                                Traceback (most recent call last)",
      "\u001b[1;32m~\\AppData\\Local\\Temp/ipykernel_11348/1886055119.py\u001b[0m in \u001b[0;36m<module>\u001b[1;34m\u001b[0m\n\u001b[1;32m----> 1\u001b[1;33m \u001b[0mplt\u001b[0m\u001b[1;33m.\u001b[0m\u001b[0mplot\u001b[0m\u001b[1;33m(\u001b[0m\u001b[0mtrainX\u001b[0m\u001b[1;33m)\u001b[0m\u001b[1;33m\u001b[0m\u001b[1;33m\u001b[0m\u001b[0m\n\u001b[0m\u001b[0;32m      2\u001b[0m \u001b[0mplt\u001b[0m\u001b[1;33m.\u001b[0m\u001b[0mplot\u001b[0m\u001b[1;33m(\u001b[0m\u001b[0mtestX\u001b[0m\u001b[1;33m)\u001b[0m\u001b[1;33m\u001b[0m\u001b[1;33m\u001b[0m\u001b[0m\n\u001b[0;32m      3\u001b[0m \u001b[0mplt\u001b[0m\u001b[1;33m.\u001b[0m\u001b[0mplot\u001b[0m\u001b[1;33m(\u001b[0m\u001b[0mdf_fcst_gs_pred\u001b[0m\u001b[1;33m)\u001b[0m\u001b[1;33m\u001b[0m\u001b[1;33m\u001b[0m\u001b[0m\n\u001b[0;32m      4\u001b[0m \u001b[0mplt\u001b[0m\u001b[1;33m.\u001b[0m\u001b[0mplot\u001b[0m\u001b[1;33m(\u001b[0m\u001b[0mdf_fcst_auto_pred\u001b[0m\u001b[1;33m)\u001b[0m\u001b[1;33m\u001b[0m\u001b[1;33m\u001b[0m\u001b[0m\n\u001b[0;32m      5\u001b[0m \u001b[0mplt\u001b[0m\u001b[1;33m.\u001b[0m\u001b[0mlegend\u001b[0m\u001b[1;33m(\u001b[0m\u001b[1;33m[\u001b[0m\u001b[1;34m'train'\u001b[0m\u001b[1;33m,\u001b[0m \u001b[1;34m'test'\u001b[0m\u001b[1;33m,\u001b[0m \u001b[1;34m'SES with custom grid search'\u001b[0m\u001b[1;33m,\u001b[0m\u001b[1;34m'SES with optimizer'\u001b[0m\u001b[1;33m]\u001b[0m\u001b[1;33m)\u001b[0m\u001b[1;33m\u001b[0m\u001b[1;33m\u001b[0m\u001b[0m\n",
      "\u001b[1;32m~\\anaconda3\\envs\\humans\\lib\\site-packages\\matplotlib\\pyplot.py\u001b[0m in \u001b[0;36mplot\u001b[1;34m(scalex, scaley, data, *args, **kwargs)\u001b[0m\n\u001b[0;32m   2755\u001b[0m \u001b[1;33m@\u001b[0m\u001b[0m_copy_docstring_and_deprecators\u001b[0m\u001b[1;33m(\u001b[0m\u001b[0mAxes\u001b[0m\u001b[1;33m.\u001b[0m\u001b[0mplot\u001b[0m\u001b[1;33m)\u001b[0m\u001b[1;33m\u001b[0m\u001b[1;33m\u001b[0m\u001b[0m\n\u001b[0;32m   2756\u001b[0m \u001b[1;32mdef\u001b[0m \u001b[0mplot\u001b[0m\u001b[1;33m(\u001b[0m\u001b[1;33m*\u001b[0m\u001b[0margs\u001b[0m\u001b[1;33m,\u001b[0m \u001b[0mscalex\u001b[0m\u001b[1;33m=\u001b[0m\u001b[1;32mTrue\u001b[0m\u001b[1;33m,\u001b[0m \u001b[0mscaley\u001b[0m\u001b[1;33m=\u001b[0m\u001b[1;32mTrue\u001b[0m\u001b[1;33m,\u001b[0m \u001b[0mdata\u001b[0m\u001b[1;33m=\u001b[0m\u001b[1;32mNone\u001b[0m\u001b[1;33m,\u001b[0m \u001b[1;33m**\u001b[0m\u001b[0mkwargs\u001b[0m\u001b[1;33m)\u001b[0m\u001b[1;33m:\u001b[0m\u001b[1;33m\u001b[0m\u001b[1;33m\u001b[0m\u001b[0m\n\u001b[1;32m-> 2757\u001b[1;33m     return gca().plot(\n\u001b[0m\u001b[0;32m   2758\u001b[0m         \u001b[1;33m*\u001b[0m\u001b[0margs\u001b[0m\u001b[1;33m,\u001b[0m \u001b[0mscalex\u001b[0m\u001b[1;33m=\u001b[0m\u001b[0mscalex\u001b[0m\u001b[1;33m,\u001b[0m \u001b[0mscaley\u001b[0m\u001b[1;33m=\u001b[0m\u001b[0mscaley\u001b[0m\u001b[1;33m,\u001b[0m\u001b[1;33m\u001b[0m\u001b[1;33m\u001b[0m\u001b[0m\n\u001b[0;32m   2759\u001b[0m         **({\"data\": data} if data is not None else {}), **kwargs)\n",
      "\u001b[1;32m~\\anaconda3\\envs\\humans\\lib\\site-packages\\matplotlib\\axes\\_axes.py\u001b[0m in \u001b[0;36mplot\u001b[1;34m(self, scalex, scaley, data, *args, **kwargs)\u001b[0m\n\u001b[0;32m   1632\u001b[0m         \u001b[0mlines\u001b[0m \u001b[1;33m=\u001b[0m \u001b[1;33m[\u001b[0m\u001b[1;33m*\u001b[0m\u001b[0mself\u001b[0m\u001b[1;33m.\u001b[0m\u001b[0m_get_lines\u001b[0m\u001b[1;33m(\u001b[0m\u001b[1;33m*\u001b[0m\u001b[0margs\u001b[0m\u001b[1;33m,\u001b[0m \u001b[0mdata\u001b[0m\u001b[1;33m=\u001b[0m\u001b[0mdata\u001b[0m\u001b[1;33m,\u001b[0m \u001b[1;33m**\u001b[0m\u001b[0mkwargs\u001b[0m\u001b[1;33m)\u001b[0m\u001b[1;33m]\u001b[0m\u001b[1;33m\u001b[0m\u001b[1;33m\u001b[0m\u001b[0m\n\u001b[0;32m   1633\u001b[0m         \u001b[1;32mfor\u001b[0m \u001b[0mline\u001b[0m \u001b[1;32min\u001b[0m \u001b[0mlines\u001b[0m\u001b[1;33m:\u001b[0m\u001b[1;33m\u001b[0m\u001b[1;33m\u001b[0m\u001b[0m\n\u001b[1;32m-> 1634\u001b[1;33m             \u001b[0mself\u001b[0m\u001b[1;33m.\u001b[0m\u001b[0madd_line\u001b[0m\u001b[1;33m(\u001b[0m\u001b[0mline\u001b[0m\u001b[1;33m)\u001b[0m\u001b[1;33m\u001b[0m\u001b[1;33m\u001b[0m\u001b[0m\n\u001b[0m\u001b[0;32m   1635\u001b[0m         \u001b[0mself\u001b[0m\u001b[1;33m.\u001b[0m\u001b[0m_request_autoscale_view\u001b[0m\u001b[1;33m(\u001b[0m\u001b[0mscalex\u001b[0m\u001b[1;33m=\u001b[0m\u001b[0mscalex\u001b[0m\u001b[1;33m,\u001b[0m \u001b[0mscaley\u001b[0m\u001b[1;33m=\u001b[0m\u001b[0mscaley\u001b[0m\u001b[1;33m)\u001b[0m\u001b[1;33m\u001b[0m\u001b[1;33m\u001b[0m\u001b[0m\n\u001b[0;32m   1636\u001b[0m         \u001b[1;32mreturn\u001b[0m \u001b[0mlines\u001b[0m\u001b[1;33m\u001b[0m\u001b[1;33m\u001b[0m\u001b[0m\n",
      "\u001b[1;32m~\\anaconda3\\envs\\humans\\lib\\site-packages\\matplotlib\\axes\\_base.py\u001b[0m in \u001b[0;36madd_line\u001b[1;34m(self, line)\u001b[0m\n\u001b[0;32m   2281\u001b[0m             \u001b[0mline\u001b[0m\u001b[1;33m.\u001b[0m\u001b[0mset_clip_path\u001b[0m\u001b[1;33m(\u001b[0m\u001b[0mself\u001b[0m\u001b[1;33m.\u001b[0m\u001b[0mpatch\u001b[0m\u001b[1;33m)\u001b[0m\u001b[1;33m\u001b[0m\u001b[1;33m\u001b[0m\u001b[0m\n\u001b[0;32m   2282\u001b[0m \u001b[1;33m\u001b[0m\u001b[0m\n\u001b[1;32m-> 2283\u001b[1;33m         \u001b[0mself\u001b[0m\u001b[1;33m.\u001b[0m\u001b[0m_update_line_limits\u001b[0m\u001b[1;33m(\u001b[0m\u001b[0mline\u001b[0m\u001b[1;33m)\u001b[0m\u001b[1;33m\u001b[0m\u001b[1;33m\u001b[0m\u001b[0m\n\u001b[0m\u001b[0;32m   2284\u001b[0m         \u001b[1;32mif\u001b[0m \u001b[1;32mnot\u001b[0m \u001b[0mline\u001b[0m\u001b[1;33m.\u001b[0m\u001b[0mget_label\u001b[0m\u001b[1;33m(\u001b[0m\u001b[1;33m)\u001b[0m\u001b[1;33m:\u001b[0m\u001b[1;33m\u001b[0m\u001b[1;33m\u001b[0m\u001b[0m\n\u001b[0;32m   2285\u001b[0m             \u001b[0mline\u001b[0m\u001b[1;33m.\u001b[0m\u001b[0mset_label\u001b[0m\u001b[1;33m(\u001b[0m\u001b[1;34mf'_child{len(self._children)}'\u001b[0m\u001b[1;33m)\u001b[0m\u001b[1;33m\u001b[0m\u001b[1;33m\u001b[0m\u001b[0m\n",
      "\u001b[1;32m~\\anaconda3\\envs\\humans\\lib\\site-packages\\matplotlib\\axes\\_base.py\u001b[0m in \u001b[0;36m_update_line_limits\u001b[1;34m(self, line)\u001b[0m\n\u001b[0;32m   2304\u001b[0m         \u001b[0mFigures\u001b[0m \u001b[0mout\u001b[0m \u001b[0mthe\u001b[0m \u001b[0mdata\u001b[0m \u001b[0mlimit\u001b[0m \u001b[0mof\u001b[0m \u001b[0mthe\u001b[0m \u001b[0mgiven\u001b[0m \u001b[0mline\u001b[0m\u001b[1;33m,\u001b[0m \u001b[0mupdating\u001b[0m \u001b[0mself\u001b[0m\u001b[1;33m.\u001b[0m\u001b[0mdataLim\u001b[0m\u001b[1;33m.\u001b[0m\u001b[1;33m\u001b[0m\u001b[1;33m\u001b[0m\u001b[0m\n\u001b[0;32m   2305\u001b[0m         \"\"\"\n\u001b[1;32m-> 2306\u001b[1;33m         \u001b[0mpath\u001b[0m \u001b[1;33m=\u001b[0m \u001b[0mline\u001b[0m\u001b[1;33m.\u001b[0m\u001b[0mget_path\u001b[0m\u001b[1;33m(\u001b[0m\u001b[1;33m)\u001b[0m\u001b[1;33m\u001b[0m\u001b[1;33m\u001b[0m\u001b[0m\n\u001b[0m\u001b[0;32m   2307\u001b[0m         \u001b[1;32mif\u001b[0m \u001b[0mpath\u001b[0m\u001b[1;33m.\u001b[0m\u001b[0mvertices\u001b[0m\u001b[1;33m.\u001b[0m\u001b[0msize\u001b[0m \u001b[1;33m==\u001b[0m \u001b[1;36m0\u001b[0m\u001b[1;33m:\u001b[0m\u001b[1;33m\u001b[0m\u001b[1;33m\u001b[0m\u001b[0m\n\u001b[0;32m   2308\u001b[0m             \u001b[1;32mreturn\u001b[0m\u001b[1;33m\u001b[0m\u001b[1;33m\u001b[0m\u001b[0m\n",
      "\u001b[1;32m~\\anaconda3\\envs\\humans\\lib\\site-packages\\matplotlib\\lines.py\u001b[0m in \u001b[0;36mget_path\u001b[1;34m(self)\u001b[0m\n\u001b[0;32m    997\u001b[0m         \u001b[1;34m\"\"\"Return the `~matplotlib.path.Path` associated with this line.\"\"\"\u001b[0m\u001b[1;33m\u001b[0m\u001b[1;33m\u001b[0m\u001b[0m\n\u001b[0;32m    998\u001b[0m         \u001b[1;32mif\u001b[0m \u001b[0mself\u001b[0m\u001b[1;33m.\u001b[0m\u001b[0m_invalidy\u001b[0m \u001b[1;32mor\u001b[0m \u001b[0mself\u001b[0m\u001b[1;33m.\u001b[0m\u001b[0m_invalidx\u001b[0m\u001b[1;33m:\u001b[0m\u001b[1;33m\u001b[0m\u001b[1;33m\u001b[0m\u001b[0m\n\u001b[1;32m--> 999\u001b[1;33m             \u001b[0mself\u001b[0m\u001b[1;33m.\u001b[0m\u001b[0mrecache\u001b[0m\u001b[1;33m(\u001b[0m\u001b[1;33m)\u001b[0m\u001b[1;33m\u001b[0m\u001b[1;33m\u001b[0m\u001b[0m\n\u001b[0m\u001b[0;32m   1000\u001b[0m         \u001b[1;32mreturn\u001b[0m \u001b[0mself\u001b[0m\u001b[1;33m.\u001b[0m\u001b[0m_path\u001b[0m\u001b[1;33m\u001b[0m\u001b[1;33m\u001b[0m\u001b[0m\n\u001b[0;32m   1001\u001b[0m \u001b[1;33m\u001b[0m\u001b[0m\n",
      "\u001b[1;32m~\\anaconda3\\envs\\humans\\lib\\site-packages\\matplotlib\\lines.py\u001b[0m in \u001b[0;36mrecache\u001b[1;34m(self, always)\u001b[0m\n\u001b[0;32m    650\u001b[0m         \u001b[1;32mif\u001b[0m \u001b[0malways\u001b[0m \u001b[1;32mor\u001b[0m \u001b[0mself\u001b[0m\u001b[1;33m.\u001b[0m\u001b[0m_invalidx\u001b[0m\u001b[1;33m:\u001b[0m\u001b[1;33m\u001b[0m\u001b[1;33m\u001b[0m\u001b[0m\n\u001b[0;32m    651\u001b[0m             \u001b[0mxconv\u001b[0m \u001b[1;33m=\u001b[0m \u001b[0mself\u001b[0m\u001b[1;33m.\u001b[0m\u001b[0mconvert_xunits\u001b[0m\u001b[1;33m(\u001b[0m\u001b[0mself\u001b[0m\u001b[1;33m.\u001b[0m\u001b[0m_xorig\u001b[0m\u001b[1;33m)\u001b[0m\u001b[1;33m\u001b[0m\u001b[1;33m\u001b[0m\u001b[0m\n\u001b[1;32m--> 652\u001b[1;33m             \u001b[0mx\u001b[0m \u001b[1;33m=\u001b[0m \u001b[0m_to_unmasked_float_array\u001b[0m\u001b[1;33m(\u001b[0m\u001b[0mxconv\u001b[0m\u001b[1;33m)\u001b[0m\u001b[1;33m.\u001b[0m\u001b[0mravel\u001b[0m\u001b[1;33m(\u001b[0m\u001b[1;33m)\u001b[0m\u001b[1;33m\u001b[0m\u001b[1;33m\u001b[0m\u001b[0m\n\u001b[0m\u001b[0;32m    653\u001b[0m         \u001b[1;32melse\u001b[0m\u001b[1;33m:\u001b[0m\u001b[1;33m\u001b[0m\u001b[1;33m\u001b[0m\u001b[0m\n\u001b[0;32m    654\u001b[0m             \u001b[0mx\u001b[0m \u001b[1;33m=\u001b[0m \u001b[0mself\u001b[0m\u001b[1;33m.\u001b[0m\u001b[0m_x\u001b[0m\u001b[1;33m\u001b[0m\u001b[1;33m\u001b[0m\u001b[0m\n",
      "\u001b[1;32m~\\anaconda3\\envs\\humans\\lib\\site-packages\\matplotlib\\cbook\\__init__.py\u001b[0m in \u001b[0;36m_to_unmasked_float_array\u001b[1;34m(x)\u001b[0m\n\u001b[0;32m   1296\u001b[0m         \u001b[1;32mreturn\u001b[0m \u001b[0mnp\u001b[0m\u001b[1;33m.\u001b[0m\u001b[0mma\u001b[0m\u001b[1;33m.\u001b[0m\u001b[0masarray\u001b[0m\u001b[1;33m(\u001b[0m\u001b[0mx\u001b[0m\u001b[1;33m,\u001b[0m \u001b[0mfloat\u001b[0m\u001b[1;33m)\u001b[0m\u001b[1;33m.\u001b[0m\u001b[0mfilled\u001b[0m\u001b[1;33m(\u001b[0m\u001b[0mnp\u001b[0m\u001b[1;33m.\u001b[0m\u001b[0mnan\u001b[0m\u001b[1;33m)\u001b[0m\u001b[1;33m\u001b[0m\u001b[1;33m\u001b[0m\u001b[0m\n\u001b[0;32m   1297\u001b[0m     \u001b[1;32melse\u001b[0m\u001b[1;33m:\u001b[0m\u001b[1;33m\u001b[0m\u001b[1;33m\u001b[0m\u001b[0m\n\u001b[1;32m-> 1298\u001b[1;33m         \u001b[1;32mreturn\u001b[0m \u001b[0mnp\u001b[0m\u001b[1;33m.\u001b[0m\u001b[0masarray\u001b[0m\u001b[1;33m(\u001b[0m\u001b[0mx\u001b[0m\u001b[1;33m,\u001b[0m \u001b[0mfloat\u001b[0m\u001b[1;33m)\u001b[0m\u001b[1;33m\u001b[0m\u001b[1;33m\u001b[0m\u001b[0m\n\u001b[0m\u001b[0;32m   1299\u001b[0m \u001b[1;33m\u001b[0m\u001b[0m\n\u001b[0;32m   1300\u001b[0m \u001b[1;33m\u001b[0m\u001b[0m\n",
      "\u001b[1;31mValueError\u001b[0m: setting an array element with a sequence."
     ]
    },
    {
     "data": {
      "image/png": "[encoded data removed]",
      "text/plain": [
       "<Figure size 1152x648 with 1 Axes>"
      ]
     },
     "metadata": {
      "needs_background": "light"
     },
     "output_type": "display_data"
    }
   ],
   "source": [
    "plt.plot(trainX)\n",
    "plt.plot(testX)\n",
    "plt.plot(df_fcst_gs_pred)\n",
    "plt.plot(df_fcst_auto_pred)\n",
    "plt.legend(['train', 'test', 'SES with custom grid search','SES with optimizer'])\n",
    "plt.show()"
   ]
  },
  {
   "cell_type": "code",
   "execution_count": null,
   "id": "436b6098",
   "metadata": {},
   "outputs": [],
   "source": []
  },
  {
   "cell_type": "code",
   "execution_count": 164,
   "id": "3b2292bb",
   "metadata": {},
   "outputs": [
    {
     "ename": "ValueError",
     "evalue": "setting an array element with a sequence.",
     "output_type": "error",
     "traceback": [
      "\u001b[1;31m---------------------------------------------------------------------------\u001b[0m",
      "\u001b[1;31mTypeError\u001b[0m                                 Traceback (most recent call last)",
      "\u001b[1;31mTypeError\u001b[0m: float() argument must be a string or a number, not 'tuple'",
      "\nThe above exception was the direct cause of the following exception:\n",
      "\u001b[1;31mValueError\u001b[0m                                Traceback (most recent call last)",
      "\u001b[1;32m~\\AppData\\Local\\Temp/ipykernel_11348/3675644388.py\u001b[0m in \u001b[0;36m<module>\u001b[1;34m\u001b[0m\n\u001b[0;32m      1\u001b[0m \u001b[1;31m#plt.rcParams[\"figure.figsize\"] = [16,9]\u001b[0m\u001b[1;33m\u001b[0m\u001b[1;33m\u001b[0m\u001b[0m\n\u001b[1;32m----> 2\u001b[1;33m \u001b[0mplt\u001b[0m\u001b[1;33m.\u001b[0m\u001b[0mplot\u001b[0m\u001b[1;33m(\u001b[0m\u001b[0mtrainX\u001b[0m\u001b[1;33m)\u001b[0m\u001b[1;33m\u001b[0m\u001b[1;33m\u001b[0m\u001b[0m\n\u001b[0m\u001b[0;32m      3\u001b[0m \u001b[1;31m#plt.plot(testX)\u001b[0m\u001b[1;33m\u001b[0m\u001b[1;33m\u001b[0m\u001b[0m\n\u001b[0;32m      4\u001b[0m \u001b[1;31m#plt.plot(df_fcst_gs_pred)\u001b[0m\u001b[1;33m\u001b[0m\u001b[1;33m\u001b[0m\u001b[0m\n\u001b[0;32m      5\u001b[0m \u001b[1;31m#plt.plot(df_fcst_auto_pred)\u001b[0m\u001b[1;33m\u001b[0m\u001b[1;33m\u001b[0m\u001b[0m\n",
      "\u001b[1;32m~\\anaconda3\\envs\\humans\\lib\\site-packages\\matplotlib\\pyplot.py\u001b[0m in \u001b[0;36mplot\u001b[1;34m(scalex, scaley, data, *args, **kwargs)\u001b[0m\n\u001b[0;32m   2755\u001b[0m \u001b[1;33m@\u001b[0m\u001b[0m_copy_docstring_and_deprecators\u001b[0m\u001b[1;33m(\u001b[0m\u001b[0mAxes\u001b[0m\u001b[1;33m.\u001b[0m\u001b[0mplot\u001b[0m\u001b[1;33m)\u001b[0m\u001b[1;33m\u001b[0m\u001b[1;33m\u001b[0m\u001b[0m\n\u001b[0;32m   2756\u001b[0m \u001b[1;32mdef\u001b[0m \u001b[0mplot\u001b[0m\u001b[1;33m(\u001b[0m\u001b[1;33m*\u001b[0m\u001b[0margs\u001b[0m\u001b[1;33m,\u001b[0m \u001b[0mscalex\u001b[0m\u001b[1;33m=\u001b[0m\u001b[1;32mTrue\u001b[0m\u001b[1;33m,\u001b[0m \u001b[0mscaley\u001b[0m\u001b[1;33m=\u001b[0m\u001b[1;32mTrue\u001b[0m\u001b[1;33m,\u001b[0m \u001b[0mdata\u001b[0m\u001b[1;33m=\u001b[0m\u001b[1;32mNone\u001b[0m\u001b[1;33m,\u001b[0m \u001b[1;33m**\u001b[0m\u001b[0mkwargs\u001b[0m\u001b[1;33m)\u001b[0m\u001b[1;33m:\u001b[0m\u001b[1;33m\u001b[0m\u001b[1;33m\u001b[0m\u001b[0m\n\u001b[1;32m-> 2757\u001b[1;33m     return gca().plot(\n\u001b[0m\u001b[0;32m   2758\u001b[0m         \u001b[1;33m*\u001b[0m\u001b[0margs\u001b[0m\u001b[1;33m,\u001b[0m \u001b[0mscalex\u001b[0m\u001b[1;33m=\u001b[0m\u001b[0mscalex\u001b[0m\u001b[1;33m,\u001b[0m \u001b[0mscaley\u001b[0m\u001b[1;33m=\u001b[0m\u001b[0mscaley\u001b[0m\u001b[1;33m,\u001b[0m\u001b[1;33m\u001b[0m\u001b[1;33m\u001b[0m\u001b[0m\n\u001b[0;32m   2759\u001b[0m         **({\"data\": data} if data is not None else {}), **kwargs)\n",
      "\u001b[1;32m~\\anaconda3\\envs\\humans\\lib\\site-packages\\matplotlib\\axes\\_axes.py\u001b[0m in \u001b[0;36mplot\u001b[1;34m(self, scalex, scaley, data, *args, **kwargs)\u001b[0m\n\u001b[0;32m   1632\u001b[0m         \u001b[0mlines\u001b[0m \u001b[1;33m=\u001b[0m \u001b[1;33m[\u001b[0m\u001b[1;33m*\u001b[0m\u001b[0mself\u001b[0m\u001b[1;33m.\u001b[0m\u001b[0m_get_lines\u001b[0m\u001b[1;33m(\u001b[0m\u001b[1;33m*\u001b[0m\u001b[0margs\u001b[0m\u001b[1;33m,\u001b[0m \u001b[0mdata\u001b[0m\u001b[1;33m=\u001b[0m\u001b[0mdata\u001b[0m\u001b[1;33m,\u001b[0m \u001b[1;33m**\u001b[0m\u001b[0mkwargs\u001b[0m\u001b[1;33m)\u001b[0m\u001b[1;33m]\u001b[0m\u001b[1;33m\u001b[0m\u001b[1;33m\u001b[0m\u001b[0m\n\u001b[0;32m   1633\u001b[0m         \u001b[1;32mfor\u001b[0m \u001b[0mline\u001b[0m \u001b[1;32min\u001b[0m \u001b[0mlines\u001b[0m\u001b[1;33m:\u001b[0m\u001b[1;33m\u001b[0m\u001b[1;33m\u001b[0m\u001b[0m\n\u001b[1;32m-> 1634\u001b[1;33m             \u001b[0mself\u001b[0m\u001b[1;33m.\u001b[0m\u001b[0madd_line\u001b[0m\u001b[1;33m(\u001b[0m\u001b[0mline\u001b[0m\u001b[1;33m)\u001b[0m\u001b[1;33m\u001b[0m\u001b[1;33m\u001b[0m\u001b[0m\n\u001b[0m\u001b[0;32m   1635\u001b[0m         \u001b[0mself\u001b[0m\u001b[1;33m.\u001b[0m\u001b[0m_request_autoscale_view\u001b[0m\u001b[1;33m(\u001b[0m\u001b[0mscalex\u001b[0m\u001b[1;33m=\u001b[0m\u001b[0mscalex\u001b[0m\u001b[1;33m,\u001b[0m \u001b[0mscaley\u001b[0m\u001b[1;33m=\u001b[0m\u001b[0mscaley\u001b[0m\u001b[1;33m)\u001b[0m\u001b[1;33m\u001b[0m\u001b[1;33m\u001b[0m\u001b[0m\n\u001b[0;32m   1636\u001b[0m         \u001b[1;32mreturn\u001b[0m \u001b[0mlines\u001b[0m\u001b[1;33m\u001b[0m\u001b[1;33m\u001b[0m\u001b[0m\n",
      "\u001b[1;32m~\\anaconda3\\envs\\humans\\lib\\site-packages\\matplotlib\\axes\\_base.py\u001b[0m in \u001b[0;36madd_line\u001b[1;34m(self, line)\u001b[0m\n\u001b[0;32m   2281\u001b[0m             \u001b[0mline\u001b[0m\u001b[1;33m.\u001b[0m\u001b[0mset_clip_path\u001b[0m\u001b[1;33m(\u001b[0m\u001b[0mself\u001b[0m\u001b[1;33m.\u001b[0m\u001b[0mpatch\u001b[0m\u001b[1;33m)\u001b[0m\u001b[1;33m\u001b[0m\u001b[1;33m\u001b[0m\u001b[0m\n\u001b[0;32m   2282\u001b[0m \u001b[1;33m\u001b[0m\u001b[0m\n\u001b[1;32m-> 2283\u001b[1;33m         \u001b[0mself\u001b[0m\u001b[1;33m.\u001b[0m\u001b[0m_update_line_limits\u001b[0m\u001b[1;33m(\u001b[0m\u001b[0mline\u001b[0m\u001b[1;33m)\u001b[0m\u001b[1;33m\u001b[0m\u001b[1;33m\u001b[0m\u001b[0m\n\u001b[0m\u001b[0;32m   2284\u001b[0m         \u001b[1;32mif\u001b[0m \u001b[1;32mnot\u001b[0m \u001b[0mline\u001b[0m\u001b[1;33m.\u001b[0m\u001b[0mget_label\u001b[0m\u001b[1;33m(\u001b[0m\u001b[1;33m)\u001b[0m\u001b[1;33m:\u001b[0m\u001b[1;33m\u001b[0m\u001b[1;33m\u001b[0m\u001b[0m\n\u001b[0;32m   2285\u001b[0m             \u001b[0mline\u001b[0m\u001b[1;33m.\u001b[0m\u001b[0mset_label\u001b[0m\u001b[1;33m(\u001b[0m\u001b[1;34mf'_child{len(self._children)}'\u001b[0m\u001b[1;33m)\u001b[0m\u001b[1;33m\u001b[0m\u001b[1;33m\u001b[0m\u001b[0m\n",
      "\u001b[1;32m~\\anaconda3\\envs\\humans\\lib\\site-packages\\matplotlib\\axes\\_base.py\u001b[0m in \u001b[0;36m_update_line_limits\u001b[1;34m(self, line)\u001b[0m\n\u001b[0;32m   2304\u001b[0m         \u001b[0mFigures\u001b[0m \u001b[0mout\u001b[0m \u001b[0mthe\u001b[0m \u001b[0mdata\u001b[0m \u001b[0mlimit\u001b[0m \u001b[0mof\u001b[0m \u001b[0mthe\u001b[0m \u001b[0mgiven\u001b[0m \u001b[0mline\u001b[0m\u001b[1;33m,\u001b[0m \u001b[0mupdating\u001b[0m \u001b[0mself\u001b[0m\u001b[1;33m.\u001b[0m\u001b[0mdataLim\u001b[0m\u001b[1;33m.\u001b[0m\u001b[1;33m\u001b[0m\u001b[1;33m\u001b[0m\u001b[0m\n\u001b[0;32m   2305\u001b[0m         \"\"\"\n\u001b[1;32m-> 2306\u001b[1;33m         \u001b[0mpath\u001b[0m \u001b[1;33m=\u001b[0m \u001b[0mline\u001b[0m\u001b[1;33m.\u001b[0m\u001b[0mget_path\u001b[0m\u001b[1;33m(\u001b[0m\u001b[1;33m)\u001b[0m\u001b[1;33m\u001b[0m\u001b[1;33m\u001b[0m\u001b[0m\n\u001b[0m\u001b[0;32m   2307\u001b[0m         \u001b[1;32mif\u001b[0m \u001b[0mpath\u001b[0m\u001b[1;33m.\u001b[0m\u001b[0mvertices\u001b[0m\u001b[1;33m.\u001b[0m\u001b[0msize\u001b[0m \u001b[1;33m==\u001b[0m \u001b[1;36m0\u001b[0m\u001b[1;33m:\u001b[0m\u001b[1;33m\u001b[0m\u001b[1;33m\u001b[0m\u001b[0m\n\u001b[0;32m   2308\u001b[0m             \u001b[1;32mreturn\u001b[0m\u001b[1;33m\u001b[0m\u001b[1;33m\u001b[0m\u001b[0m\n",
      "\u001b[1;32m~\\anaconda3\\envs\\humans\\lib\\site-packages\\matplotlib\\lines.py\u001b[0m in \u001b[0;36mget_path\u001b[1;34m(self)\u001b[0m\n\u001b[0;32m    997\u001b[0m         \u001b[1;34m\"\"\"Return the `~matplotlib.path.Path` associated with this line.\"\"\"\u001b[0m\u001b[1;33m\u001b[0m\u001b[1;33m\u001b[0m\u001b[0m\n\u001b[0;32m    998\u001b[0m         \u001b[1;32mif\u001b[0m \u001b[0mself\u001b[0m\u001b[1;33m.\u001b[0m\u001b[0m_invalidy\u001b[0m \u001b[1;32mor\u001b[0m \u001b[0mself\u001b[0m\u001b[1;33m.\u001b[0m\u001b[0m_invalidx\u001b[0m\u001b[1;33m:\u001b[0m\u001b[1;33m\u001b[0m\u001b[1;33m\u001b[0m\u001b[0m\n\u001b[1;32m--> 999\u001b[1;33m             \u001b[0mself\u001b[0m\u001b[1;33m.\u001b[0m\u001b[0mrecache\u001b[0m\u001b[1;33m(\u001b[0m\u001b[1;33m)\u001b[0m\u001b[1;33m\u001b[0m\u001b[1;33m\u001b[0m\u001b[0m\n\u001b[0m\u001b[0;32m   1000\u001b[0m         \u001b[1;32mreturn\u001b[0m \u001b[0mself\u001b[0m\u001b[1;33m.\u001b[0m\u001b[0m_path\u001b[0m\u001b[1;33m\u001b[0m\u001b[1;33m\u001b[0m\u001b[0m\n\u001b[0;32m   1001\u001b[0m \u001b[1;33m\u001b[0m\u001b[0m\n",
      "\u001b[1;32m~\\anaconda3\\envs\\humans\\lib\\site-packages\\matplotlib\\lines.py\u001b[0m in \u001b[0;36mrecache\u001b[1;34m(self, always)\u001b[0m\n\u001b[0;32m    650\u001b[0m         \u001b[1;32mif\u001b[0m \u001b[0malways\u001b[0m \u001b[1;32mor\u001b[0m \u001b[0mself\u001b[0m\u001b[1;33m.\u001b[0m\u001b[0m_invalidx\u001b[0m\u001b[1;33m:\u001b[0m\u001b[1;33m\u001b[0m\u001b[1;33m\u001b[0m\u001b[0m\n\u001b[0;32m    651\u001b[0m             \u001b[0mxconv\u001b[0m \u001b[1;33m=\u001b[0m \u001b[0mself\u001b[0m\u001b[1;33m.\u001b[0m\u001b[0mconvert_xunits\u001b[0m\u001b[1;33m(\u001b[0m\u001b[0mself\u001b[0m\u001b[1;33m.\u001b[0m\u001b[0m_xorig\u001b[0m\u001b[1;33m)\u001b[0m\u001b[1;33m\u001b[0m\u001b[1;33m\u001b[0m\u001b[0m\n\u001b[1;32m--> 652\u001b[1;33m             \u001b[0mx\u001b[0m \u001b[1;33m=\u001b[0m \u001b[0m_to_unmasked_float_array\u001b[0m\u001b[1;33m(\u001b[0m\u001b[0mxconv\u001b[0m\u001b[1;33m)\u001b[0m\u001b[1;33m.\u001b[0m\u001b[0mravel\u001b[0m\u001b[1;33m(\u001b[0m\u001b[1;33m)\u001b[0m\u001b[1;33m\u001b[0m\u001b[1;33m\u001b[0m\u001b[0m\n\u001b[0m\u001b[0;32m    653\u001b[0m         \u001b[1;32melse\u001b[0m\u001b[1;33m:\u001b[0m\u001b[1;33m\u001b[0m\u001b[1;33m\u001b[0m\u001b[0m\n\u001b[0;32m    654\u001b[0m             \u001b[0mx\u001b[0m \u001b[1;33m=\u001b[0m \u001b[0mself\u001b[0m\u001b[1;33m.\u001b[0m\u001b[0m_x\u001b[0m\u001b[1;33m\u001b[0m\u001b[1;33m\u001b[0m\u001b[0m\n",
      "\u001b[1;32m~\\anaconda3\\envs\\humans\\lib\\site-packages\\matplotlib\\cbook\\__init__.py\u001b[0m in \u001b[0;36m_to_unmasked_float_array\u001b[1;34m(x)\u001b[0m\n\u001b[0;32m   1296\u001b[0m         \u001b[1;32mreturn\u001b[0m \u001b[0mnp\u001b[0m\u001b[1;33m.\u001b[0m\u001b[0mma\u001b[0m\u001b[1;33m.\u001b[0m\u001b[0masarray\u001b[0m\u001b[1;33m(\u001b[0m\u001b[0mx\u001b[0m\u001b[1;33m,\u001b[0m \u001b[0mfloat\u001b[0m\u001b[1;33m)\u001b[0m\u001b[1;33m.\u001b[0m\u001b[0mfilled\u001b[0m\u001b[1;33m(\u001b[0m\u001b[0mnp\u001b[0m\u001b[1;33m.\u001b[0m\u001b[0mnan\u001b[0m\u001b[1;33m)\u001b[0m\u001b[1;33m\u001b[0m\u001b[1;33m\u001b[0m\u001b[0m\n\u001b[0;32m   1297\u001b[0m     \u001b[1;32melse\u001b[0m\u001b[1;33m:\u001b[0m\u001b[1;33m\u001b[0m\u001b[1;33m\u001b[0m\u001b[0m\n\u001b[1;32m-> 1298\u001b[1;33m         \u001b[1;32mreturn\u001b[0m \u001b[0mnp\u001b[0m\u001b[1;33m.\u001b[0m\u001b[0masarray\u001b[0m\u001b[1;33m(\u001b[0m\u001b[0mx\u001b[0m\u001b[1;33m,\u001b[0m \u001b[0mfloat\u001b[0m\u001b[1;33m)\u001b[0m\u001b[1;33m\u001b[0m\u001b[1;33m\u001b[0m\u001b[0m\n\u001b[0m\u001b[0;32m   1299\u001b[0m \u001b[1;33m\u001b[0m\u001b[0m\n\u001b[0;32m   1300\u001b[0m \u001b[1;33m\u001b[0m\u001b[0m\n",
      "\u001b[1;31mValueError\u001b[0m: setting an array element with a sequence."
     ]
    },
    {
     "data": {
      "image/png": "[encoded data removed]",
      "text/plain": [
       "<Figure size 1152x648 with 1 Axes>"
      ]
     },
     "metadata": {
      "needs_background": "light"
     },
     "output_type": "display_data"
    }
   ],
   "source": [
    "#plt.rcParams[\"figure.figsize\"] = [16,9]\n",
    "plt.plot(trainX)\n",
    "#plt.plot(testX)\n",
    "#plt.plot(df_fcst_gs_pred)\n",
    "#plt.plot(df_fcst_auto_pred)\n",
    "#plt.legend(['train', 'test', 'SES with custom grid search','SES with optimizer'])\n",
    "#plt.show()"
   ]
  },
  {
   "cell_type": "markdown",
   "id": "4cc3aa88",
   "metadata": {},
   "source": [
    "Double Exponential Smoothing:"
   ]
  },
  {
   "cell_type": "code",
   "execution_count": null,
   "id": "5a5e6aa7",
   "metadata": {},
   "outputs": [],
   "source": [
    "param_grid_DES = {'smoothing_level': [0.10, 0.20,.30,.40,.50,.60,.70,.80,.90], \n",
    "                  'smoothing_slope':[0.10, 0.20,.30,.40,.50,.60,.70,.80,.90],\n",
    "                  'damping_slope': [0.10, 0.20,.30,.40,.50,.60,.70,.80,.90],\n",
    "                  'damped': [True, False]}\n",
    "pg_DES = list(ParameterGrid(param_grid_DES))"
   ]
  },
  {
   "cell_type": "code",
   "execution_count": null,
   "id": "d7322410",
   "metadata": {},
   "outputs": [],
   "source": [
    "df_results_DES = pd.DataFrame(columns=['smoothing_level', 'smoothing_slope', 'damping_slope', 'damped', 'RMSE','R²'])\n",
    "\n",
    "for a,b in enumerate(pg_DES):\n",
    "    smoothing_level = b.get('smoothing_level')\n",
    "    smoothing_slope = b.get('smoothing_slope')\n",
    "    damping_slope = b.get('damping_slope')\n",
    "    damped = b.get('damped')\n",
    "    \n",
    "    fit_Holt = Holt(trainX, damped=damped).fit(smoothing_level=smoothing_level, smoothing_slope=smoothing_slope, damping_slope=damping_slope, optimized=False)\n",
    "    fcst_gs_pred_Holt = fit_Holt.forecast(len(testX))\n",
    "    \n",
    "    df_pred = pd.DataFrame(fcst_gs_pred_Holt, columns=['Forecasted_result'])\n",
    "    RMSE = np.sqrt(metrics.mean_squared_error(testX, df_pred.Forecasted_result))\n",
    "    r2 = metrics.r2_score(testX, df_pred.Forecasted_result)\n",
    "\n",
    "    df_results_DES = df_results_DES.append({'smoothing_level':smoothing_level, 'smoothing_slope':smoothing_slope, 'damping_slope':damping_slope, 'damped':damped, 'RMSE':RMSE, 'R²':r2}, ignore_index=True)"
   ]
  },
  {
   "cell_type": "code",
   "execution_count": null,
   "id": "82a2b1a3",
   "metadata": {},
   "outputs": [],
   "source": [
    "df_results_DES.sort_values(by=['RMSE','R²']).head(10)\n"
   ]
  },
  {
   "cell_type": "code",
   "execution_count": null,
   "id": "e9fcdd35",
   "metadata": {},
   "outputs": [],
   "source": [
    "df_results_DES.to_csv('df_results_DES.csv')\n"
   ]
  },
  {
   "cell_type": "code",
   "execution_count": null,
   "id": "280f1296",
   "metadata": {},
   "outputs": [],
   "source": [
    "best_values_DES = df_results_DES.sort_values(by=['RMSE','R²']).head(1)\n",
    "best_values_DES"
   ]
  },
  {
   "cell_type": "code",
   "execution_count": null,
   "id": "7a529b78",
   "metadata": {},
   "outputs": [],
   "source": [
    "smoothing_level_value_DES = best_values_DES['smoothing_level'].iloc[0]\n",
    "smoothing_slope_value_DES = best_values_DES['smoothing_slope'].iloc[0]\n",
    "damping_slope_value_DES = best_values_DES['damping_slope'].iloc[0]\n",
    "damped_setting_DES = best_values_DES['damped'].iloc[0]\n",
    "\n",
    "print(\"smoothing_level_value_DES: \", smoothing_level_value_DES)\n",
    "print(\"smoothing_slope_value_DES: \", smoothing_slope_value_DES)\n",
    "print(\"damping_slope_value_DES: \", damping_slope_value_DES)\n",
    "print(\"damped_setting_DES: \", damped_setting_DES)"
   ]
  },
  {
   "cell_type": "code",
   "execution_count": null,
   "id": "b7cad07d",
   "metadata": {},
   "outputs": [],
   "source": [
    "DES = Holt(trainX,damped=damped_setting_DES)\n",
    "fit_Holt = DES.fit(smoothing_level=smoothing_level_value_DES, smoothing_slope=smoothing_slope_value_DES, \n",
    "                   damping_slope=damping_slope_value_DES ,optimized=False)\n",
    "\n",
    "fcst_gs_pred_Holt = fit_Holt.forecast(len(testX))\n",
    "timeseries_evaluation_metrics_func(testX, fcst_gs_pred_Holt)"
   ]
  },
  {
   "cell_type": "code",
   "execution_count": null,
   "id": "3731ac40",
   "metadata": {},
   "outputs": [],
   "source": [
    "DES = Holt(trainX)\n",
    "fit_Holt_auto = DES.fit(optimized= True, use_brute = True)\n",
    "\n",
    "fcst_auto_pred_Holt = fit_Holt_auto.forecast(len(testX))\n",
    "timeseries_evaluation_metrics_func(testX, fcst_auto_pred_Holt)\n"
   ]
  },
  {
   "cell_type": "code",
   "execution_count": null,
   "id": "2a606ffb",
   "metadata": {},
   "outputs": [],
   "source": [
    "fit_Holt_auto.summary()\n"
   ]
  },
  {
   "cell_type": "code",
   "execution_count": null,
   "id": "6c8303b4",
   "metadata": {},
   "outputs": [],
   "source": [
    "plt.rcParams[\"figure.figsize\"] = [16,9]\n",
    "plt.plot(trainX, label='Train')\n",
    "plt.plot(testX, label='Test')\n",
    "plt.plot(fcst_gs_pred_Holt, label='Double Exponential Smoothing with custom grid search')\n",
    "plt.plot(fcst_auto_pred_Holt, label='Double Exponential Smoothing using optimized=True')\n",
    "plt.legend(loc='best')\n",
    "plt.show()\n"
   ]
  },
  {
   "cell_type": "markdown",
   "id": "4c8f2537",
   "metadata": {},
   "source": [
    "Triple Exponential Smoothing:"
   ]
  },
  {
   "cell_type": "code",
   "execution_count": null,
   "id": "fc0fefa6",
   "metadata": {},
   "outputs": [],
   "source": [
    "param_grid_TES = {'trend': ['add', 'mul'], 'seasonal' :['add', 'mul'],\n",
    "                  'seasonal_periods':[3,6,12], \n",
    "                  'smoothing_level': [.20, .40, .60, .80],  # extended search grid: [.10,.20,.30,.40,.50,.60,.70,.80,.90]\n",
    "                  'smoothing_slope':[.20, .40, .60, .80],   # extended search grid: [.10,.20,.30,.40,.50,.60,.70,.80,.90]\n",
    "                  'damping_slope': [.20, .40, .60, .80],    # extended search grid: [.10,.20,.30,.40,.50,.60,.70,.80,.90]\n",
    "                  'damped' : [True, False], 'use_boxcox':[True, False],\n",
    "                  'remove_bias':[True, False],'use_basinhopping':[True, False]}\n",
    "pg_TES = list(ParameterGrid(param_grid_TES))"
   ]
  },
  {
   "cell_type": "code",
   "execution_count": null,
   "id": "51a77556",
   "metadata": {},
   "outputs": [],
   "source": [
    "df_results_TES = pd.DataFrame(columns=['trend','seasonal_periods','smoothing_level', 'smoothing_slope',\n",
    "                                        'damping_slope','damped','use_boxcox','remove_bias',\n",
    "                                        'use_basinhopping','RMSE','R²'])\n",
    "\n",
    "for a,b in enumerate(pg_TES):\n",
    "    trend = b.get('trend')\n",
    "    smoothing_level = b.get('smoothing_level')\n",
    "    seasonal_periods = b.get('seasonal_periods')\n",
    "    smoothing_level = b.get('smoothing_level')\n",
    "    smoothing_slope = b.get('smoothing_slope')\n",
    "    damping_slope = b.get('damping_slope')\n",
    "    damped = b.get('damped')\n",
    "    use_boxcox = b.get('use_boxcox')\n",
    "    remove_bias = b.get('remove_bias')\n",
    "    use_basinhopping = b.get('use_basinhopping')\n",
    "\n",
    "    fit_ES = ExponentialSmoothing(trainX, trend=trend, damped=damped, seasonal_periods=seasonal_periods).fit(smoothing_level=smoothing_level, \n",
    "                                  smoothing_slope=smoothing_slope, damping_slope=damping_slope, use_boxcox=use_boxcox, optimized=False)\n",
    "    fcst_gs_pred_ES = fit_ES.forecast(len(testX))\n",
    "\n",
    "    df_pred = pd.DataFrame(fcst_gs_pred_ES, columns=['Forecasted_result'])\n",
    "    RMSE = np.sqrt(metrics.mean_squared_error(testX, df_pred.Forecasted_result))\n",
    "    r2 = metrics.r2_score(testX, df_pred.Forecasted_result)\n",
    "\n",
    "    df_results_TES = df_results_TES.append({'trend':trend, 'seasonal_periods':seasonal_periods, 'smoothing_level':smoothing_level, \n",
    "                                            'smoothing_slope':smoothing_slope, 'damping_slope':damping_slope,'damped':damped,\n",
    "                                            'use_boxcox':use_boxcox, 'remove_bias':remove_bias, 'use_basinhopping':use_basinhopping, 'RMSE':RMSE,'R²':r2}, \n",
    "                                            ignore_index=True)"
   ]
  },
  {
   "cell_type": "code",
   "execution_count": null,
   "id": "5e7f36d9",
   "metadata": {},
   "outputs": [],
   "source": [
    "df_results_TES.sort_values(by=['RMSE','R²']).head(10)\n"
   ]
  },
  {
   "cell_type": "code",
   "execution_count": null,
   "id": "dc65411a",
   "metadata": {},
   "outputs": [],
   "source": [
    "df_results_TES.to_csv('df_results_TES.csv')\n"
   ]
  },
  {
   "cell_type": "code",
   "execution_count": null,
   "id": "21bdc2f8",
   "metadata": {},
   "outputs": [],
   "source": [
    "best_values_TES = df_results_TES.sort_values(by=['RMSE','R²']).head(1)\n",
    "best_values_TES"
   ]
  },
  {
   "cell_type": "code",
   "execution_count": null,
   "id": "31d1e6ed",
   "metadata": {},
   "outputs": [],
   "source": [
    "trend_setting_TES = best_values_TES['trend'].iloc[0]\n",
    "damped_setting_TES = best_values_TES['damped'].iloc[0]\n",
    "seasonal_periods_values_TES = best_values_TES['seasonal_periods'].iloc[0]\n",
    "smoothing_level_values_TES = best_values_TES['smoothing_level'].iloc[0]\n",
    "smoothing_slope_values_TES = best_values_TES['smoothing_slope'].iloc[0]\n",
    "damping_slope_values_TES = best_values_TES['damping_slope'].iloc[0]\n",
    "use_boxcox_setting_TES = best_values_TES['use_boxcox'].iloc[0]\n",
    "remove_bias_setting_TES = best_values_TES['remove_bias'].iloc[0]     \n",
    "use_basinhopping_setting_TES = best_values_TES['use_basinhopping'].iloc[0]\n",
    "\n",
    "rend_setting_TES: \", trend_setting_TES)\n",
    "print(\"damped_setting_TES: \", damped_setting_TES)\n",
    "print(\"seasonal_periods_values_TES: \", seasonal_periods_values_TES)\n",
    "print(\"smoothing_level_values_TES: \", smoothing_level_values_TES)\n",
    "print(\"smoothing_slope_values_TES: \", smoothing_slope_values_TES)\n",
    "print(\"damping_slope_values_TES: \", damping_slope_values_TES)\n",
    "print(\"use_boxcox_setting_TES: \", use_boxcox_setting_TES)\n",
    "print(\"remove_bias_setting_TES: \", remove_bias_setting_TES)\n",
    "print(\"use_basinhopping_setting_TES: \", use_basinhopping_setting_TES)"
   ]
  },
  {
   "cell_type": "code",
   "execution_count": null,
   "id": "8bb31b15",
   "metadata": {},
   "outputs": [],
   "source": [
    "TES = ExponentialSmoothing(trainX, trend=trend_setting_TES, damped=damped_setting_TES, \n",
    "                           seasonal_periods=seasonal_periods_values_TES)\n",
    "fit_ES = TES.fit(smoothing_level=smoothing_level_values_TES, smoothing_slope=smoothing_slope_values_TES, \n",
    "                 damping_slope=damping_slope_values_TES, use_boxcox=use_boxcox_setting_TES, \n",
    "                 remove_bias=remove_bias_setting_TES, optimized=False)\n",
    "\n",
    "fcst_gs_pred_ES = fit_ES.forecast(len(testX))\n",
    "timeseries_evaluation_metrics_func(testX, fcst_gs_pred_ES)"
   ]
  },
  {
   "cell_type": "code",
   "execution_count": null,
   "id": "e947fd78",
   "metadata": {},
   "outputs": [],
   "source": [
    "TES = ExponentialSmoothing(trainX)\n",
    "fit_ES_auto = TES.fit(optimized= True, use_brute = True)\n",
    "\n",
    "fcst_auto_pred_ES = fit_ES_auto.forecast(len(testX))\n",
    "timeseries_evaluation_metrics_func(testX, fcst_auto_pred_ES)"
   ]
  },
  {
   "cell_type": "code",
   "execution_count": null,
   "id": "43176a3f",
   "metadata": {},
   "outputs": [],
   "source": [
    "fit_ES_auto.summary()\n"
   ]
  },
  {
   "cell_type": "code",
   "execution_count": null,
   "id": "c25d13e2",
   "metadata": {},
   "outputs": [],
   "source": [
    "plt.rcParams[\"figure.figsize\"] = [16,9]\n",
    "plt.plot(trainX, label='Train')\n",
    "plt.plot(testX, label='Test')\n",
    "plt.plot(fcst_gs_pred_ES, label='Triple Exponential Smoothing with custom grid search')\n",
    "plt.plot(fcst_auto_pred_ES, label='Triple Exponential Smoothing using optimized=True')\n",
    "plt.legend(loc='best')\n",
    "plt.show()"
   ]
  },
  {
   "cell_type": "markdown",
   "id": "49b78be7",
   "metadata": {},
   "source": [
    "hyper-parameter tuning on a time series"
   ]
  },
  {
   "cell_type": "code",
   "execution_count": null,
   "id": "4f389b27",
   "metadata": {},
   "outputs": [],
   "source": [
    "lasso_regression = Lasso()\n",
    "parameters = {'alpha':[10**-5, 10**-4, 10**-3, 10**-2, 0.1, 1, 10, 10**2, 10**3, 10**4, 10**5]}\n",
    "tscv = TimeSeriesSplit(n_splits=3)\n",
    "clf = GridSearchCV(lasso_regression, parameters, cv=tscv, scoring='neg_mean_squared_error', verbose = 2, return_train_score=True, n_jobs = -1)\n",
    "clf.fit(X_train_select, np.log1p(y_train))\n",
    "\n",
    "results = pd.DataFrame.from_dict(clf.cv_results_)"
   ]
  },
  {
   "cell_type": "code",
   "execution_count": null,
   "id": "8ce5ddfe",
   "metadata": {},
   "outputs": [],
   "source": [
    "xgb_reg=xgb.XGBRegressor()\n",
    "\n",
    "prams={\n",
    "    'learning_rate':[0.03,0.05,0.1],\n",
    "    'n_estimators':[500,2000,4000],\n",
    "    'max_depth':[5,7,10],\n",
    "    'colsample_bytree':[0.1,0.3,0.5,1],\n",
    "    'subsample':[0.1,0.3,0.5,1]\n",
    "}\n",
    "tscv = TimeSeriesSplit(n_splits=3)\n",
    "random_clf=RandomizedSearchCV(xgb_reg, param_distributions=prams,verbose=1,\n",
    "                                n_jobs=3, cv = tscv, n_iter=10)\n",
    "random_clf.fit(X_train_select, np.log1p(y_train))"
   ]
  },
  {
   "cell_type": "code",
   "execution_count": null,
   "id": "5e10495e",
   "metadata": {},
   "outputs": [],
   "source": [
    "params = {\"objective\": \"reg:squarederror\", \n",
    "          \"eta\": 0.05,  \n",
    "          \"max_depth\": 10,\n",
    "          \"subsample\": 0.5,\n",
    "          \"colsample_bytree\": 0.3,\n",
    "          \"silent\": 1,\n",
    "          \"seed\": 10\n",
    "          }\n",
    "num_boost_round = 3000\n",
    "\n",
    "dtrain = xgb.DMatrix(X_train_select, np.log1p(y_train))\n",
    "dvalid = xgb.DMatrix(X_valid_select, np.log1p(y_valid))\n",
    "watchlist = [(dtrain, 'train'), (dvalid, 'eval')]\n",
    "\n",
    "#training the model\n",
    "model = xgb.train(params, dtrain, num_boost_round, evals=watchlist,\n",
    "                  early_stopping_rounds= 50, feval=rmspe_xg_log, verbose_eval=True)\n",
    "\n",
    "#prediction\n",
    "dtest = xgb.DMatrix(X_test_select)\n",
    "y_test = model.predict(dtest)"
   ]
  },
  {
   "cell_type": "markdown",
   "id": "03a8cbd0",
   "metadata": {},
   "source": [
    "is time series stationary?"
   ]
  },
  {
   "cell_type": "code",
   "execution_count": null,
   "id": "91c7816c",
   "metadata": {},
   "outputs": [],
   "source": [
    "# Import adfuller\n",
    "from statsmodels.tsa.stattools import adfuller\n",
    "\n",
    "result = adfuller(data.Close)\n",
    "print('ADF Test Statistic: %.2f' % result[0])\n",
    "print('5%% Critical Value: %.2f' % result[4]['5%'])\n",
    "print('p-value: %.2f' % result[1])"
   ]
  },
  {
   "cell_type": "markdown",
   "id": "5b38d28a",
   "metadata": {},
   "source": [
    "Implementing Differencing to transform non-stationary to stationary"
   ]
  },
  {
   "cell_type": "code",
   "execution_count": null,
   "id": "cf8a8c48",
   "metadata": {},
   "outputs": [],
   "source": [
    "# Change for (t)th day is Close for (t)th day minus Close for (t-1)th day.\n",
    "data['Difference'] = data['Close'].diff()\n",
    "\n",
    "# Plot the Change\n",
    "plt.figure(figsize=(10, 7))\n",
    "plt.plot(data['Difference'])\n",
    "plt.title('First Order Differenced Series', fontsize=14)\n",
    "plt.xlabel('Year', fontsize=12)\n",
    "plt.ylabel('Difference', fontsize=12)\n",
    "plt.show()"
   ]
  },
  {
   "cell_type": "code",
   "execution_count": null,
   "id": "d56469b9",
   "metadata": {},
   "outputs": [],
   "source": []
  },
  {
   "cell_type": "code",
   "execution_count": null,
   "id": "1ba6287b",
   "metadata": {},
   "outputs": [],
   "source": []
  }
 ],
 "metadata": {
  "kernelspec": {
   "display_name": "Python 3 (ipykernel)",
   "language": "python",
   "name": "python3"
  },
  "language_info": {
   "codemirror_mode": {
    "name": "ipython",
    "version": 3
   },
   "file_extension": ".py",
   "mimetype": "text/x-python",
   "name": "python",
   "nbconvert_exporter": "python",
   "pygments_lexer": "ipython3",
   "version": "3.9.7"
  }
 },
 "nbformat": 4,
 "nbformat_minor": 5
}
